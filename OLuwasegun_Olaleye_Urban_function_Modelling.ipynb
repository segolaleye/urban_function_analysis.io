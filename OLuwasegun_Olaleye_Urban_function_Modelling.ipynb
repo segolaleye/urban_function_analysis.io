{
 "cells": [
  {
   "cell_type": "code",
   "execution_count": 1,
   "id": "dd065d87-d679-4f92-8cad-393dc0b2bf3d",
   "metadata": {},
   "outputs": [],
   "source": [
    "import geopandas as gpd\n",
    "import pandas as pd\n",
    "import numpy as np\n",
    "import seaborn as sns\n",
    "import matplotlib.pyplot as plt"
   ]
  },
  {
   "cell_type": "code",
   "execution_count": 2,
   "id": "93d65b7e-9555-4e71-91d2-2cb608616f9d",
   "metadata": {},
   "outputs": [
    {
     "name": "stdout",
     "output_type": "stream",
     "text": [
      "<class 'geopandas.geodataframe.GeoDataFrame'>\n",
      "RangeIndex: 13112 entries, 0 to 13111\n",
      "Data columns (total 28 columns):\n",
      " #   Column                                  Non-Null Count  Dtype   \n",
      "---  ------                                  --------------  -----   \n",
      " 0   CELLCODE                                13112 non-null  object  \n",
      " 1   groupname                               13112 non-null  object  \n",
      " 2   landuse_de                              13112 non-null  object  \n",
      " 3   index_right                             13112 non-null  float64 \n",
      " 4   name                                    13112 non-null  object  \n",
      " 5   categoryname                            13112 non-null  object  \n",
      " 6   classname                               13112 non-null  object  \n",
      " 7   pos_accuracy                            13112 non-null  float64 \n",
      " 8   poi_Accommodation, Eating and Drinking  13112 non-null  float64 \n",
      " 9   poi_Attractions                         13112 non-null  float64 \n",
      " 10  poi_Commercial Services                 13112 non-null  float64 \n",
      " 11  poi_Education and Health                13112 non-null  float64 \n",
      " 12  poi_Manufacturing and Production        13112 non-null  float64 \n",
      " 13  poi_Public Infrastructure               13112 non-null  float64 \n",
      " 14  poi_Retail                              13112 non-null  float64 \n",
      " 15  poi_Sport and Entertainment             13112 non-null  float64 \n",
      " 16  poi_Transport                           13112 non-null  float64 \n",
      " 17  busstop_count                           13112 non-null  int64   \n",
      " 18  cycleshare_terminal                     13112 non-null  int64   \n",
      " 19  total_bike_count                        13112 non-null  int64   \n",
      " 20  Landuse_Category                        13112 non-null  object  \n",
      " 21  total_commercial_poi                    13112 non-null  float64 \n",
      " 22  poi_total                               13112 non-null  float64 \n",
      " 23  poi_density                             13112 non-null  float64 \n",
      " 24  busstop_density                         13112 non-null  float64 \n",
      " 25  area                                    13112 non-null  float64 \n",
      " 26  poi_density_commercial                  13112 non-null  float64 \n",
      " 27  geometry                                13112 non-null  geometry\n",
      "dtypes: float64(17), geometry(1), int64(3), object(7)\n",
      "memory usage: 2.8+ MB\n"
     ]
    }
   ],
   "source": [
    "urban_function_df = gpd.read_file(r'C:\\Users\\user\\OneDrive - hull.ac.uk\\Desktop\\Python\\Induction\\Project\\Urban Analysis London\\Research Data\\urban_function_analysis_data.gpkg')\n",
    "urban_function_df.info()"
   ]
  },
  {
   "cell_type": "code",
   "execution_count": 3,
   "id": "e4667d57-e852-4ab7-abe2-9b64907ea9cc",
   "metadata": {},
   "outputs": [
    {
     "data": {
      "text/plain": [
       "array(['Transport', 'Industrial', 'Natural', 'Commercial', 'Residential',\n",
       "       'Agricultural', 'Recreational', 'Water'], dtype=object)"
      ]
     },
     "execution_count": 3,
     "metadata": {},
     "output_type": "execute_result"
    }
   ],
   "source": [
    "urban_function_df['Landuse_Category'].unique()"
   ]
  },
  {
   "cell_type": "code",
   "execution_count": null,
   "id": "cd3569ba-dc67-4d91-b39f-8ae9c7296409",
   "metadata": {},
   "outputs": [],
   "source": []
  },
  {
   "cell_type": "code",
   "execution_count": null,
   "id": "b94f9082-2735-49d6-85d5-4a31799e34a6",
   "metadata": {},
   "outputs": [],
   "source": []
  },
  {
   "cell_type": "markdown",
   "id": "151ffbb1-6e60-4b44-bbc3-a1c151fe0d67",
   "metadata": {},
   "source": [
    "#### Random Forest"
   ]
  },
  {
   "cell_type": "code",
   "execution_count": 4,
   "id": "aea2070c-1317-4d65-abfe-f4802b8070e0",
   "metadata": {},
   "outputs": [],
   "source": [
    "from sklearn.model_selection import train_test_split\n",
    "from sklearn.preprocessing import LabelEncoder, label_binarize\n",
    "from sklearn.metrics import accuracy_score, classification_report, confusion_matrix\n",
    "from sklearn.metrics import classification_report, accuracy_score, roc_auc_score"
   ]
  },
  {
   "cell_type": "code",
   "execution_count": 5,
   "id": "8c90a5b6-eed9-419d-8f60-ad99ef8d28ba",
   "metadata": {},
   "outputs": [],
   "source": [
    "# Define feature columns (excluding non-numeric and irrelevant ones)\n",
    "feature_columns = [\n",
    "    'poi_Accommodation, Eating and Drinking', 'poi_Attractions', 'poi_Commercial Services', 'poi_Education and Health', \n",
    "    'poi_Manufacturing and Production', 'poi_Public Infrastructure', 'poi_Retail', 'poi_Sport and Entertainment',\n",
    "    'poi_Transport', 'busstop_count', 'cycleshare_terminal', 'total_bike_count', 'total_commercial_poi', 'poi_total', 'poi_density', \n",
    "    'busstop_density', 'area'\n",
    "]\n",
    "\n",
    "# Extract features and target from the DataFrame\n",
    "X = urban_function_df[feature_columns]\n",
    "y = urban_function_df['Landuse_Category']\n",
    "\n",
    "# Encode the target variable\n",
    "label_encoder = LabelEncoder()\n",
    "y_encoded = label_encoder.fit_transform(y)\n",
    "\n",
    "# Split the data into training and testing sets\n",
    "X_train, X_test, y_train, y_test = train_test_split(X, y_encoded, test_size=0.3, random_state=42, stratify=y_encoded)"
   ]
  },
  {
   "cell_type": "code",
   "execution_count": null,
   "id": "c0daa90a-445f-4549-a283-4d5b5edc0883",
   "metadata": {},
   "outputs": [],
   "source": []
  },
  {
   "cell_type": "code",
   "execution_count": null,
   "id": "7eea6201-575d-465a-b488-480402203747",
   "metadata": {},
   "outputs": [],
   "source": []
  },
  {
   "cell_type": "code",
   "execution_count": 6,
   "id": "e4c0c75b-6742-452f-8d52-844093d5fddc",
   "metadata": {},
   "outputs": [],
   "source": [
    "from sklearn.ensemble import RandomForestClassifier"
   ]
  },
  {
   "cell_type": "code",
   "execution_count": 7,
   "id": "9c9825a0-ae5b-4646-85e6-4673528b778f",
   "metadata": {},
   "outputs": [
    {
     "data": {
      "text/html": [
       "<style>#sk-container-id-1 {color: black;background-color: white;}#sk-container-id-1 pre{padding: 0;}#sk-container-id-1 div.sk-toggleable {background-color: white;}#sk-container-id-1 label.sk-toggleable__label {cursor: pointer;display: block;width: 100%;margin-bottom: 0;padding: 0.3em;box-sizing: border-box;text-align: center;}#sk-container-id-1 label.sk-toggleable__label-arrow:before {content: \"▸\";float: left;margin-right: 0.25em;color: #696969;}#sk-container-id-1 label.sk-toggleable__label-arrow:hover:before {color: black;}#sk-container-id-1 div.sk-estimator:hover label.sk-toggleable__label-arrow:before {color: black;}#sk-container-id-1 div.sk-toggleable__content {max-height: 0;max-width: 0;overflow: hidden;text-align: left;background-color: #f0f8ff;}#sk-container-id-1 div.sk-toggleable__content pre {margin: 0.2em;color: black;border-radius: 0.25em;background-color: #f0f8ff;}#sk-container-id-1 input.sk-toggleable__control:checked~div.sk-toggleable__content {max-height: 200px;max-width: 100%;overflow: auto;}#sk-container-id-1 input.sk-toggleable__control:checked~label.sk-toggleable__label-arrow:before {content: \"▾\";}#sk-container-id-1 div.sk-estimator input.sk-toggleable__control:checked~label.sk-toggleable__label {background-color: #d4ebff;}#sk-container-id-1 div.sk-label input.sk-toggleable__control:checked~label.sk-toggleable__label {background-color: #d4ebff;}#sk-container-id-1 input.sk-hidden--visually {border: 0;clip: rect(1px 1px 1px 1px);clip: rect(1px, 1px, 1px, 1px);height: 1px;margin: -1px;overflow: hidden;padding: 0;position: absolute;width: 1px;}#sk-container-id-1 div.sk-estimator {font-family: monospace;background-color: #f0f8ff;border: 1px dotted black;border-radius: 0.25em;box-sizing: border-box;margin-bottom: 0.5em;}#sk-container-id-1 div.sk-estimator:hover {background-color: #d4ebff;}#sk-container-id-1 div.sk-parallel-item::after {content: \"\";width: 100%;border-bottom: 1px solid gray;flex-grow: 1;}#sk-container-id-1 div.sk-label:hover label.sk-toggleable__label {background-color: #d4ebff;}#sk-container-id-1 div.sk-serial::before {content: \"\";position: absolute;border-left: 1px solid gray;box-sizing: border-box;top: 0;bottom: 0;left: 50%;z-index: 0;}#sk-container-id-1 div.sk-serial {display: flex;flex-direction: column;align-items: center;background-color: white;padding-right: 0.2em;padding-left: 0.2em;position: relative;}#sk-container-id-1 div.sk-item {position: relative;z-index: 1;}#sk-container-id-1 div.sk-parallel {display: flex;align-items: stretch;justify-content: center;background-color: white;position: relative;}#sk-container-id-1 div.sk-item::before, #sk-container-id-1 div.sk-parallel-item::before {content: \"\";position: absolute;border-left: 1px solid gray;box-sizing: border-box;top: 0;bottom: 0;left: 50%;z-index: -1;}#sk-container-id-1 div.sk-parallel-item {display: flex;flex-direction: column;z-index: 1;position: relative;background-color: white;}#sk-container-id-1 div.sk-parallel-item:first-child::after {align-self: flex-end;width: 50%;}#sk-container-id-1 div.sk-parallel-item:last-child::after {align-self: flex-start;width: 50%;}#sk-container-id-1 div.sk-parallel-item:only-child::after {width: 0;}#sk-container-id-1 div.sk-dashed-wrapped {border: 1px dashed gray;margin: 0 0.4em 0.5em 0.4em;box-sizing: border-box;padding-bottom: 0.4em;background-color: white;}#sk-container-id-1 div.sk-label label {font-family: monospace;font-weight: bold;display: inline-block;line-height: 1.2em;}#sk-container-id-1 div.sk-label-container {text-align: center;}#sk-container-id-1 div.sk-container {/* jupyter's `normalize.less` sets `[hidden] { display: none; }` but bootstrap.min.css set `[hidden] { display: none !important; }` so we also need the `!important` here to be able to override the default hidden behavior on the sphinx rendered scikit-learn.org. See: https://github.com/scikit-learn/scikit-learn/issues/21755 */display: inline-block !important;position: relative;}#sk-container-id-1 div.sk-text-repr-fallback {display: none;}</style><div id=\"sk-container-id-1\" class=\"sk-top-container\"><div class=\"sk-text-repr-fallback\"><pre>RandomForestClassifier(random_state=42)</pre><b>In a Jupyter environment, please rerun this cell to show the HTML representation or trust the notebook. <br />On GitHub, the HTML representation is unable to render, please try loading this page with nbviewer.org.</b></div><div class=\"sk-container\" hidden><div class=\"sk-item\"><div class=\"sk-estimator sk-toggleable\"><input class=\"sk-toggleable__control sk-hidden--visually\" id=\"sk-estimator-id-1\" type=\"checkbox\" checked><label for=\"sk-estimator-id-1\" class=\"sk-toggleable__label sk-toggleable__label-arrow\">RandomForestClassifier</label><div class=\"sk-toggleable__content\"><pre>RandomForestClassifier(random_state=42)</pre></div></div></div></div></div>"
      ],
      "text/plain": [
       "RandomForestClassifier(random_state=42)"
      ]
     },
     "execution_count": 7,
     "metadata": {},
     "output_type": "execute_result"
    }
   ],
   "source": [
    "# Initialize the Random Forest Classifier\n",
    "rf_model = RandomForestClassifier(n_estimators=100, random_state=42)\n",
    "\n",
    "# Train the model on the training data\n",
    "rf_model.fit(X_train, y_train)"
   ]
  },
  {
   "cell_type": "code",
   "execution_count": null,
   "id": "bdb4bf11-4512-4150-9849-2bb2eeb05b67",
   "metadata": {},
   "outputs": [],
   "source": []
  },
  {
   "cell_type": "code",
   "execution_count": 8,
   "id": "568ec019-e6b4-468e-b4a0-188f467840e4",
   "metadata": {},
   "outputs": [
    {
     "name": "stdout",
     "output_type": "stream",
     "text": [
      "Accuracy: 0.83\n",
      "Classification Report:\n",
      "              precision    recall  f1-score   support\n",
      "\n",
      "Agricultural       0.67      0.61      0.64       206\n",
      "  Commercial       0.85      0.56      0.68       141\n",
      "  Industrial       0.78      0.71      0.74       231\n",
      "     Natural       0.79      0.66      0.72       539\n",
      "Recreational       0.62      0.26      0.36       129\n",
      " Residential       0.85      0.96      0.90      2554\n",
      "   Transport       0.18      0.06      0.09        32\n",
      "       Water       0.80      0.35      0.49       102\n",
      "\n",
      "    accuracy                           0.83      3934\n",
      "   macro avg       0.69      0.52      0.58      3934\n",
      "weighted avg       0.82      0.83      0.81      3934\n",
      "\n"
     ]
    }
   ],
   "source": [
    "# Make predictions on the test data\n",
    "y_pred = rf_model.predict(X_test)\n",
    "\n",
    "# Calculate accuracy\n",
    "accuracy = accuracy_score(y_test, y_pred)\n",
    "print(f\"Accuracy: {accuracy:.2f}\")\n",
    "\n",
    "# Print classification report\n",
    "print(\"Classification Report:\")\n",
    "print(classification_report(y_test, y_pred, target_names=label_encoder.classes_))"
   ]
  },
  {
   "cell_type": "code",
   "execution_count": 9,
   "id": "3f9d2d6a-ea1c-411f-a817-212d4bea99d0",
   "metadata": {},
   "outputs": [
    {
     "name": "stdout",
     "output_type": "stream",
     "text": [
      "Average F1-score: 0.58\n",
      "Average Precision: 0.69\n",
      "Average Recall: 0.52\n",
      "Average AUC: 0.92\n"
     ]
    }
   ],
   "source": [
    "# Print classification report\n",
    "report = classification_report(y_test, y_pred, target_names=label_encoder.classes_, output_dict=True)\n",
    "\n",
    "# Calculate average metrics from the classification report\n",
    "avg_f1 = report['macro avg']['f1-score']\n",
    "avg_precision = report['macro avg']['precision']\n",
    "avg_recall = report['macro avg']['recall']\n",
    "\n",
    "print(f\"Average F1-score: {avg_f1:.2f}\")\n",
    "print(f\"Average Precision: {avg_precision:.2f}\")\n",
    "print(f\"Average Recall: {avg_recall:.2f}\")\n",
    "\n",
    "# Binarize the output for AUC calculation\n",
    "y_test_bin = label_binarize(y_test, classes=np.arange(len(label_encoder.classes_)))\n",
    "y_pred_prob = rf_model.predict_proba(X_test)\n",
    "\n",
    "# Compute AUC for each class\n",
    "auc = roc_auc_score(y_test_bin, y_pred_prob, average=\"macro\", multi_class=\"ovr\")\n",
    "\n",
    "print(f\"Average AUC: {auc:.2f}\")"
   ]
  },
  {
   "cell_type": "code",
   "execution_count": 10,
   "id": "7819db95-270f-4016-91f4-8a8adf01095a",
   "metadata": {},
   "outputs": [
    {
     "data": {
      "text/plain": [
       "array([[ 125,    0,    7,   12,    4,   54,    4,    0],\n",
       "       [   2,   79,    6,    9,    1,   43,    0,    1],\n",
       "       [   6,    0,  163,    5,    0,   55,    0,    2],\n",
       "       [  17,    7,    7,  357,    2,  149,    0,    0],\n",
       "       [   3,    0,    5,    7,   33,   79,    1,    1],\n",
       "       [  26,    4,   13,   34,    7, 2461,    4,    5],\n",
       "       [   1,    2,    2,    8,    6,   11,    2,    0],\n",
       "       [   7,    1,    6,   18,    0,   34,    0,   36]], dtype=int64)"
      ]
     },
     "execution_count": 10,
     "metadata": {},
     "output_type": "execute_result"
    }
   ],
   "source": [
    "# Plot confusion matrix\n",
    "conf_matrix = confusion_matrix(y_test, y_pred)\n",
    "conf_matrix"
   ]
  },
  {
   "cell_type": "code",
   "execution_count": 11,
   "id": "78503712-aa96-40e7-94f8-b6ab13f789b7",
   "metadata": {},
   "outputs": [
    {
     "data": {
      "image/png": "[encoded data removed]",
      "text/plain": [
       "<Figure size 1000x800 with 2 Axes>"
      ]
     },
     "metadata": {},
     "output_type": "display_data"
    }
   ],
   "source": [
    "plt.figure(figsize=(10, 8))\n",
    "sns.heatmap(conf_matrix, annot=True, fmt='d', cmap='Blues', xticklabels=label_encoder.classes_, yticklabels=label_encoder.classes_)\n",
    "plt.xlabel('Predicted Label')\n",
    "plt.ylabel('True Label')\n",
    "plt.title('Confusion Matrix')\n",
    "plt.show()"
   ]
  },
  {
   "cell_type": "code",
   "execution_count": null,
   "id": "94c4e5f9-6ac7-4dd5-aae5-30fa55178eaf",
   "metadata": {},
   "outputs": [],
   "source": []
  },
  {
   "cell_type": "markdown",
   "id": "3b21c5da-8825-441c-867b-bb981ab6d8a8",
   "metadata": {},
   "source": [
    "#### Feature Importance"
   ]
  },
  {
   "cell_type": "code",
   "execution_count": 12,
   "id": "7b3ce7b6-3d73-41df-8e2e-9f6814559475",
   "metadata": {},
   "outputs": [
    {
     "name": "stdout",
     "output_type": "stream",
     "text": [
      "Top 10 Features by Importance:\n",
      "                             Feature  Importance\n",
      "14                       poi_density    0.167977\n",
      "15                   busstop_density    0.129469\n",
      "16                              area    0.103402\n",
      "2            poi_Commercial Services    0.064443\n",
      "3           poi_Education and Health    0.062200\n",
      "13                         poi_total    0.062110\n",
      "5          poi_Public Infrastructure    0.060567\n",
      "12              total_commercial_poi    0.055824\n",
      "8                      poi_Transport    0.052610\n",
      "4   poi_Manufacturing and Production    0.048925\n"
     ]
    }
   ],
   "source": [
    "# G Feature Importance\n",
    "feature_importances = rf_model.feature_importances_\n",
    "importance_df = pd.DataFrame({'Feature': feature_columns, 'Importance': feature_importances})\n",
    "importance_df = importance_df.sort_values(by='Importance', ascending=False)\n",
    "\n",
    "# Display the top 10 features\n",
    "print(\"Top 10 Features by Importance:\")\n",
    "print(importance_df.head(10))"
   ]
  },
  {
   "cell_type": "code",
   "execution_count": null,
   "id": "16730046-12f9-4edd-94eb-3bbcb2d78a35",
   "metadata": {},
   "outputs": [],
   "source": []
  },
  {
   "cell_type": "code",
   "execution_count": 13,
   "id": "15cdd8b5-083c-40f7-91ba-4fe9f3978e81",
   "metadata": {},
   "outputs": [
    {
     "data": {
      "image/png": "[encoded data removed]",
      "text/plain": [
       "<Figure size 1000x800 with 1 Axes>"
      ]
     },
     "metadata": {},
     "output_type": "display_data"
    }
   ],
   "source": [
    "# Plot the top 10 feature importances\n",
    "plt.figure(figsize=(10, 8))\n",
    "sns.barplot(x='Importance', y='Feature', data=importance_df.head(10))\n",
    "plt.title('Top 10 Feature Importances in the Random Forest Model')\n",
    "plt.xlabel('Importance')\n",
    "plt.ylabel('Feature')\n",
    "plt.show()"
   ]
  },
  {
   "cell_type": "code",
   "execution_count": null,
   "id": "e6639af0-2dc3-482e-bbb8-891f6152c078",
   "metadata": {},
   "outputs": [],
   "source": []
  },
  {
   "cell_type": "markdown",
   "id": "28ca5037-7fcb-4783-9738-5a963249400f",
   "metadata": {},
   "source": [
    "#### Using Grid search on all the data"
   ]
  },
  {
   "cell_type": "code",
   "execution_count": 14,
   "id": "528d38e8-18e3-4c1f-8f75-a2fdd0533c33",
   "metadata": {},
   "outputs": [],
   "source": [
    "from sklearn.model_selection import GridSearchCV"
   ]
  },
  {
   "cell_type": "code",
   "execution_count": 15,
   "id": "c1b69474-f080-47ed-9148-c541bb1e4155",
   "metadata": {},
   "outputs": [],
   "source": [
    "# Define the parameter grid for GridSearchCV\n",
    "param_grid = {\n",
    "    'n_estimators': [100, 200, 300],\n",
    "    'max_depth': [None, 10, 20, 30],\n",
    "    'min_samples_split': [2, 5, 10],\n",
    "    'min_samples_leaf': [1, 2, 4]\n",
    "}\n",
    "\n",
    "# Initialize the Random Forest Classifier\n",
    "rf_model = RandomForestClassifier(random_state=42)\n",
    "\n",
    "# Set up the grid search with cross-validation\n",
    "grid_search = GridSearchCV(estimator=rf_model, param_grid=param_grid, cv=5, n_jobs=-1, scoring='accuracy', verbose=2)"
   ]
  },
  {
   "cell_type": "code",
   "execution_count": 16,
   "id": "8c334cf9-c3d2-4497-af28-b14bed771f82",
   "metadata": {},
   "outputs": [
    {
     "name": "stdout",
     "output_type": "stream",
     "text": [
      "Fitting 5 folds for each of 108 candidates, totalling 540 fits\n",
      "Best parameters found by grid search: {'max_depth': 30, 'min_samples_leaf': 1, 'min_samples_split': 2, 'n_estimators': 300}\n",
      "Best cross-validation accuracy score: 0.8115058799783915\n"
     ]
    }
   ],
   "source": [
    "# Fit the grid search to the training data\n",
    "grid_search.fit(X_train, y_train)\n",
    "\n",
    "# Get the best model\n",
    "best_rf_model = grid_search.best_estimator_\n",
    "\n",
    "# Print the best parameters and best score\n",
    "print(\"Best parameters found by grid search:\", grid_search.best_params_)\n",
    "print(\"Best cross-validation accuracy score:\", grid_search.best_score_)"
   ]
  },
  {
   "cell_type": "code",
   "execution_count": 17,
   "id": "45dfe87f-4bc7-444d-b787-4db97b686064",
   "metadata": {},
   "outputs": [
    {
     "name": "stdout",
     "output_type": "stream",
     "text": [
      "Test Accuracy with Best Model: 0.83\n"
     ]
    }
   ],
   "source": [
    "# Evaluate the best model on the test data\n",
    "test_accuracy = best_rf_model.score(X_test, y_test)\n",
    "print(f\"Test Accuracy with Best Model: {test_accuracy:.2f}\")"
   ]
  },
  {
   "cell_type": "code",
   "execution_count": 18,
   "id": "ca11fb1e-a867-4085-a963-976d0652b5e6",
   "metadata": {},
   "outputs": [
    {
     "name": "stdout",
     "output_type": "stream",
     "text": [
      "Classification Report for Best Model:\n",
      "              precision    recall  f1-score   support\n",
      "\n",
      "Agricultural       0.69      0.61      0.65       206\n",
      "  Commercial       0.88      0.58      0.70       141\n",
      "  Industrial       0.79      0.72      0.75       231\n",
      "     Natural       0.80      0.65      0.72       539\n",
      "Recreational       0.68      0.26      0.38       129\n",
      " Residential       0.85      0.97      0.91      2554\n",
      "   Transport       0.14      0.06      0.09        32\n",
      "       Water       0.78      0.35      0.49       102\n",
      "\n",
      "    accuracy                           0.83      3934\n",
      "   macro avg       0.70      0.53      0.59      3934\n",
      "weighted avg       0.82      0.83      0.82      3934\n",
      "\n"
     ]
    }
   ],
   "source": [
    "# Make predictions on the test data using the best model\n",
    "y_pred_best = best_rf_model.predict(X_test)\n",
    "\n",
    "# Print the classification report for the best model\n",
    "print(\"Classification Report for Best Model:\")\n",
    "print(classification_report(y_test, y_pred_best, target_names=label_encoder.classes_))"
   ]
  },
  {
   "cell_type": "code",
   "execution_count": 19,
   "id": "b2bb605f-1d96-47d1-93d6-1258733ff990",
   "metadata": {},
   "outputs": [
    {
     "name": "stdout",
     "output_type": "stream",
     "text": [
      "Average F1-score: 0.59\n",
      "Average Precision: 0.70\n",
      "Average Recall: 0.53\n",
      "Average AUC: 0.93\n"
     ]
    }
   ],
   "source": [
    "# Print classification report\n",
    "report_best = classification_report(y_test, y_pred_best, target_names=label_encoder.classes_, output_dict=True)\n",
    "\n",
    "# Calculate average metrics from the classification report\n",
    "avg_f1_best = report_best['macro avg']['f1-score']\n",
    "avg_precision_best = report_best['macro avg']['precision']\n",
    "avg_recall_best = report_best['macro avg']['recall']\n",
    "\n",
    "print(f\"Average F1-score: {avg_f1_best:.2f}\")\n",
    "print(f\"Average Precision: {avg_precision_best:.2f}\")\n",
    "print(f\"Average Recall: {avg_recall_best:.2f}\")\n",
    "\n",
    "# Binarize the output for AUC calculation\n",
    "y_test_bin = label_binarize(y_test, classes=np.arange(len(label_encoder.classes_)))\n",
    "y_pred_prob_best = best_rf_model.predict_proba(X_test)\n",
    "\n",
    "# Compute AUC for each class\n",
    "auc_best = roc_auc_score(y_test_bin, y_pred_prob_best, average=\"macro\", multi_class=\"ovr\")\n",
    "\n",
    "print(f\"Average AUC: {auc_best:.2f}\")"
   ]
  },
  {
   "cell_type": "code",
   "execution_count": null,
   "id": "c5a78024-d27d-4fa1-8642-4b576e9a2af9",
   "metadata": {},
   "outputs": [],
   "source": []
  },
  {
   "cell_type": "code",
   "execution_count": 20,
   "id": "d5be796e-b05f-42e6-a36c-0000f7d25e65",
   "metadata": {},
   "outputs": [
    {
     "name": "stdout",
     "output_type": "stream",
     "text": [
      "Model saved to best_rf_model.pkl\n"
     ]
    }
   ],
   "source": [
    "import joblib\n",
    "\n",
    "# Save the best model to a file\n",
    "joblib_file = \"best_rf_model.pkl\"\n",
    "joblib.dump(best_rf_model, joblib_file)\n",
    "\n",
    "print(f\"Model saved to {joblib_file}\")"
   ]
  },
  {
   "cell_type": "code",
   "execution_count": null,
   "id": "b58c8325-df7f-4be4-836a-fe6a665acc0a",
   "metadata": {},
   "outputs": [],
   "source": []
  },
  {
   "cell_type": "markdown",
   "id": "9f797d20-b273-4dad-b834-bd0e3edace95",
   "metadata": {},
   "source": [
    "## Using the Top 10 Most Important features"
   ]
  },
  {
   "cell_type": "code",
   "execution_count": 21,
   "id": "5f568773-4bf1-4e31-a033-a6515c94f54a",
   "metadata": {},
   "outputs": [],
   "source": [
    "# Define the top 10 important features\n",
    "top_10_features = [\n",
    "    'poi_density', 'busstop_density', 'area', 'poi_Commercial Services', \n",
    "    'poi_Education and Health', 'poi_total', 'poi_Public Infrastructure', \n",
    "    'total_commercial_poi', 'poi_Transport', 'poi_Manufacturing and Production'\n",
    "]\n",
    "\n",
    "# Extract features and target from the DataFrame\n",
    "X = urban_function_df[top_10_features]\n",
    "y = urban_function_df['Landuse_Category']\n",
    "\n",
    "# Encode the target variable\n",
    "label_encoder = LabelEncoder()\n",
    "y_encoded = label_encoder.fit_transform(y)\n",
    "\n",
    "# Split the data into training and testing sets\n",
    "X_train, X_test, y_train, y_test = train_test_split(X, y_encoded, test_size=0.3, random_state=42, stratify=y_encoded)"
   ]
  },
  {
   "cell_type": "code",
   "execution_count": 22,
   "id": "8ba6107a-176a-46fc-87fd-39555daeda47",
   "metadata": {},
   "outputs": [
    {
     "data": {
      "text/html": [
       "<style>#sk-container-id-2 {color: black;background-color: white;}#sk-container-id-2 pre{padding: 0;}#sk-container-id-2 div.sk-toggleable {background-color: white;}#sk-container-id-2 label.sk-toggleable__label {cursor: pointer;display: block;width: 100%;margin-bottom: 0;padding: 0.3em;box-sizing: border-box;text-align: center;}#sk-container-id-2 label.sk-toggleable__label-arrow:before {content: \"▸\";float: left;margin-right: 0.25em;color: #696969;}#sk-container-id-2 label.sk-toggleable__label-arrow:hover:before {color: black;}#sk-container-id-2 div.sk-estimator:hover label.sk-toggleable__label-arrow:before {color: black;}#sk-container-id-2 div.sk-toggleable__content {max-height: 0;max-width: 0;overflow: hidden;text-align: left;background-color: #f0f8ff;}#sk-container-id-2 div.sk-toggleable__content pre {margin: 0.2em;color: black;border-radius: 0.25em;background-color: #f0f8ff;}#sk-container-id-2 input.sk-toggleable__control:checked~div.sk-toggleable__content {max-height: 200px;max-width: 100%;overflow: auto;}#sk-container-id-2 input.sk-toggleable__control:checked~label.sk-toggleable__label-arrow:before {content: \"▾\";}#sk-container-id-2 div.sk-estimator input.sk-toggleable__control:checked~label.sk-toggleable__label {background-color: #d4ebff;}#sk-container-id-2 div.sk-label input.sk-toggleable__control:checked~label.sk-toggleable__label {background-color: #d4ebff;}#sk-container-id-2 input.sk-hidden--visually {border: 0;clip: rect(1px 1px 1px 1px);clip: rect(1px, 1px, 1px, 1px);height: 1px;margin: -1px;overflow: hidden;padding: 0;position: absolute;width: 1px;}#sk-container-id-2 div.sk-estimator {font-family: monospace;background-color: #f0f8ff;border: 1px dotted black;border-radius: 0.25em;box-sizing: border-box;margin-bottom: 0.5em;}#sk-container-id-2 div.sk-estimator:hover {background-color: #d4ebff;}#sk-container-id-2 div.sk-parallel-item::after {content: \"\";width: 100%;border-bottom: 1px solid gray;flex-grow: 1;}#sk-container-id-2 div.sk-label:hover label.sk-toggleable__label {background-color: #d4ebff;}#sk-container-id-2 div.sk-serial::before {content: \"\";position: absolute;border-left: 1px solid gray;box-sizing: border-box;top: 0;bottom: 0;left: 50%;z-index: 0;}#sk-container-id-2 div.sk-serial {display: flex;flex-direction: column;align-items: center;background-color: white;padding-right: 0.2em;padding-left: 0.2em;position: relative;}#sk-container-id-2 div.sk-item {position: relative;z-index: 1;}#sk-container-id-2 div.sk-parallel {display: flex;align-items: stretch;justify-content: center;background-color: white;position: relative;}#sk-container-id-2 div.sk-item::before, #sk-container-id-2 div.sk-parallel-item::before {content: \"\";position: absolute;border-left: 1px solid gray;box-sizing: border-box;top: 0;bottom: 0;left: 50%;z-index: -1;}#sk-container-id-2 div.sk-parallel-item {display: flex;flex-direction: column;z-index: 1;position: relative;background-color: white;}#sk-container-id-2 div.sk-parallel-item:first-child::after {align-self: flex-end;width: 50%;}#sk-container-id-2 div.sk-parallel-item:last-child::after {align-self: flex-start;width: 50%;}#sk-container-id-2 div.sk-parallel-item:only-child::after {width: 0;}#sk-container-id-2 div.sk-dashed-wrapped {border: 1px dashed gray;margin: 0 0.4em 0.5em 0.4em;box-sizing: border-box;padding-bottom: 0.4em;background-color: white;}#sk-container-id-2 div.sk-label label {font-family: monospace;font-weight: bold;display: inline-block;line-height: 1.2em;}#sk-container-id-2 div.sk-label-container {text-align: center;}#sk-container-id-2 div.sk-container {/* jupyter's `normalize.less` sets `[hidden] { display: none; }` but bootstrap.min.css set `[hidden] { display: none !important; }` so we also need the `!important` here to be able to override the default hidden behavior on the sphinx rendered scikit-learn.org. See: https://github.com/scikit-learn/scikit-learn/issues/21755 */display: inline-block !important;position: relative;}#sk-container-id-2 div.sk-text-repr-fallback {display: none;}</style><div id=\"sk-container-id-2\" class=\"sk-top-container\"><div class=\"sk-text-repr-fallback\"><pre>RandomForestClassifier(random_state=42)</pre><b>In a Jupyter environment, please rerun this cell to show the HTML representation or trust the notebook. <br />On GitHub, the HTML representation is unable to render, please try loading this page with nbviewer.org.</b></div><div class=\"sk-container\" hidden><div class=\"sk-item\"><div class=\"sk-estimator sk-toggleable\"><input class=\"sk-toggleable__control sk-hidden--visually\" id=\"sk-estimator-id-2\" type=\"checkbox\" checked><label for=\"sk-estimator-id-2\" class=\"sk-toggleable__label sk-toggleable__label-arrow\">RandomForestClassifier</label><div class=\"sk-toggleable__content\"><pre>RandomForestClassifier(random_state=42)</pre></div></div></div></div></div>"
      ],
      "text/plain": [
       "RandomForestClassifier(random_state=42)"
      ]
     },
     "execution_count": 22,
     "metadata": {},
     "output_type": "execute_result"
    }
   ],
   "source": [
    "# Initialize the Random Forest Classifier with the top 10 features\n",
    "rf_model = RandomForestClassifier(random_state=42)\n",
    "\n",
    "# Train the model on the training data\n",
    "rf_model.fit(X_train, y_train)"
   ]
  },
  {
   "cell_type": "code",
   "execution_count": 23,
   "id": "0c285b59-ee8d-4c18-9bea-0131c9c324a5",
   "metadata": {},
   "outputs": [
    {
     "name": "stdout",
     "output_type": "stream",
     "text": [
      "Classification Report (Top 10 Features):\n",
      "              precision    recall  f1-score   support\n",
      "\n",
      "Agricultural       0.71      0.60      0.65       206\n",
      "  Commercial       0.88      0.57      0.70       141\n",
      "  Industrial       0.78      0.73      0.75       231\n",
      "     Natural       0.81      0.67      0.73       539\n",
      "Recreational       0.59      0.30      0.40       129\n",
      " Residential       0.85      0.97      0.91      2554\n",
      "   Transport       0.10      0.03      0.05        32\n",
      "       Water       0.76      0.31      0.44       102\n",
      "\n",
      "    accuracy                           0.83      3934\n",
      "   macro avg       0.69      0.52      0.58      3934\n",
      "weighted avg       0.82      0.83      0.82      3934\n",
      "\n"
     ]
    }
   ],
   "source": [
    "# Make predictions on the test data\n",
    "y_pred = rf_model.predict(X_test)\n",
    "\n",
    "# Print the classification report\n",
    "print(\"Classification Report (Top 10 Features):\")\n",
    "print(classification_report(y_test, y_pred, target_names=label_encoder.classes_))"
   ]
  },
  {
   "cell_type": "code",
   "execution_count": null,
   "id": "34f29e1f-2ea0-459c-a2e1-e19722c130e2",
   "metadata": {},
   "outputs": [],
   "source": []
  },
  {
   "cell_type": "code",
   "execution_count": 24,
   "id": "a35310e4-5181-46b2-9501-eb2b52f63116",
   "metadata": {},
   "outputs": [
    {
     "name": "stdout",
     "output_type": "stream",
     "text": [
      "Average F1-score: 0.58\n",
      "Average Precision: 0.69\n",
      "Average Recall: 0.52\n",
      "Average AUC: 0.92\n"
     ]
    }
   ],
   "source": [
    "# Print classification report\n",
    "report = classification_report(y_test, y_pred, target_names=label_encoder.classes_, output_dict=True)\n",
    "\n",
    "# Calculate average metrics from the classification report\n",
    "avg_f1 = report['macro avg']['f1-score']\n",
    "avg_precision = report['macro avg']['precision']\n",
    "avg_recall = report['macro avg']['recall']\n",
    "\n",
    "print(f\"Average F1-score: {avg_f1:.2f}\")\n",
    "print(f\"Average Precision: {avg_precision:.2f}\")\n",
    "print(f\"Average Recall: {avg_recall:.2f}\")\n",
    "\n",
    "# Binarize the output for AUC calculation\n",
    "y_test_bin = label_binarize(y_test, classes=np.arange(len(label_encoder.classes_)))\n",
    "y_pred_prob = rf_model.predict_proba(X_test)\n",
    "\n",
    "# Compute AUC for each class\n",
    "auc = roc_auc_score(y_test_bin, y_pred_prob, average=\"macro\", multi_class=\"ovr\")\n",
    "\n",
    "print(f\"Average AUC: {auc:.2f}\")"
   ]
  },
  {
   "cell_type": "code",
   "execution_count": null,
   "id": "d0ae49c1-b2d2-40b2-8d99-0462dd90fc67",
   "metadata": {},
   "outputs": [],
   "source": []
  },
  {
   "cell_type": "code",
   "execution_count": null,
   "id": "f8d99fce-0c2c-4298-a6fc-5a093be8bd74",
   "metadata": {},
   "outputs": [],
   "source": []
  },
  {
   "cell_type": "markdown",
   "id": "e7980fa6-3488-458d-b814-88c9e0bdb278",
   "metadata": {},
   "source": [
    "#### Using Grid search on the top Ten Features"
   ]
  },
  {
   "cell_type": "code",
   "execution_count": 25,
   "id": "471d1560-8281-4060-adec-299dbd17f49c",
   "metadata": {},
   "outputs": [],
   "source": [
    "# Define the parameter grid for GridSearchCV\n",
    "param_grid = {\n",
    "    'n_estimators': [100, 200, 300],\n",
    "    'max_depth': [None, 10, 20, 30],\n",
    "    'min_samples_split': [2, 5, 10],\n",
    "    'min_samples_leaf': [1, 2, 4]\n",
    "}\n",
    "\n",
    "# Initialize the Random Forest Classifier\n",
    "rf_model = RandomForestClassifier(random_state=42)\n",
    "\n",
    "# Set up the grid search with cross-validation\n",
    "grid_search = GridSearchCV(estimator=rf_model, param_grid=param_grid, cv=5, n_jobs=-1, scoring='accuracy', verbose=2)"
   ]
  },
  {
   "cell_type": "code",
   "execution_count": 26,
   "id": "09c36681-2aa7-440c-8c2f-9a62ef4c28ee",
   "metadata": {},
   "outputs": [
    {
     "name": "stdout",
     "output_type": "stream",
     "text": [
      "Fitting 5 folds for each of 108 candidates, totalling 540 fits\n"
     ]
    }
   ],
   "source": [
    "# Fit the grid search to the training data\n",
    "grid_search.fit(X_train, y_train)\n",
    "\n",
    "# Get the best model\n",
    "best_rf_model = grid_search.best_estimator_"
   ]
  },
  {
   "cell_type": "code",
   "execution_count": 27,
   "id": "c459f0b5-c983-41dc-940d-14f5a68a055b",
   "metadata": {},
   "outputs": [
    {
     "name": "stdout",
     "output_type": "stream",
     "text": [
      "Best parameters found by grid search: {'max_depth': None, 'min_samples_leaf': 1, 'min_samples_split': 2, 'n_estimators': 300}\n",
      "Best cross-validation accuracy score: 0.8094353321104402\n",
      "Test Accuracy with Best Model: 0.83\n"
     ]
    }
   ],
   "source": [
    "# Print the best parameters and best score\n",
    "print(\"Best parameters found by grid search:\", grid_search.best_params_)\n",
    "print(\"Best cross-validation accuracy score:\", grid_search.best_score_)\n",
    "\n",
    "# Evaluate the best model on the test data\n",
    "test_accuracy = best_rf_model.score(X_test, y_test)\n",
    "print(f\"Test Accuracy with Best Model: {test_accuracy:.2f}\")\n",
    "\n",
    "# Make predictions on the test data\n",
    "y_pred_best = best_rf_model.predict(X_test)\n",
    "\n",
    "# Print classification report\n",
    "report_best = classification_report(y_test, y_pred_best, target_names=label_encoder.classes_, output_dict=True)"
   ]
  },
  {
   "cell_type": "code",
   "execution_count": 28,
   "id": "1829513a-11b4-4104-b494-b4a6490b1e65",
   "metadata": {},
   "outputs": [
    {
     "name": "stdout",
     "output_type": "stream",
     "text": [
      "Average F1-score: 0.58\n",
      "Average Precision: 0.69\n",
      "Average Recall: 0.52\n",
      "Average AUC: 0.93\n"
     ]
    }
   ],
   "source": [
    "# Calculate average metrics from the classification report\n",
    "avg_f1_best = report_best['macro avg']['f1-score']\n",
    "avg_precision_best = report_best['macro avg']['precision']\n",
    "avg_recall_best = report_best['macro avg']['recall']\n",
    "\n",
    "print(f\"Average F1-score: {avg_f1_best:.2f}\")\n",
    "print(f\"Average Precision: {avg_precision_best:.2f}\")\n",
    "print(f\"Average Recall: {avg_recall_best:.2f}\")\n",
    "\n",
    "# Binarize the output for AUC calculation\n",
    "y_test_bin = label_binarize(y_test, classes=np.arange(len(label_encoder.classes_)))\n",
    "y_pred_prob_best = best_rf_model.predict_proba(X_test)\n",
    "\n",
    "# Compute AUC for each class\n",
    "auc_best = roc_auc_score(y_test_bin, y_pred_prob_best, average=\"macro\", multi_class=\"ovr\")\n",
    "\n",
    "print(f\"Average AUC: {auc_best:.2f}\")"
   ]
  },
  {
   "cell_type": "code",
   "execution_count": null,
   "id": "90fc5cbd-c9fc-4485-a5ec-6cc831bae881",
   "metadata": {},
   "outputs": [],
   "source": []
  },
  {
   "cell_type": "markdown",
   "id": "558b892a-616c-48b2-8b6f-8fde3fda6793",
   "metadata": {},
   "source": [
    "##### Incorporate SMOTE into Random Forest Model"
   ]
  },
  {
   "cell_type": "code",
   "execution_count": 29,
   "id": "6d7fecd8-94ac-4fe4-a8a3-92132ce19634",
   "metadata": {},
   "outputs": [],
   "source": [
    "from imblearn.over_sampling import SMOTE"
   ]
  },
  {
   "cell_type": "code",
   "execution_count": 30,
   "id": "cc5f69df-fc4b-4178-be41-b0d5e28e6f10",
   "metadata": {},
   "outputs": [],
   "source": [
    "# Apply SMOTE to the training data\n",
    "smote = SMOTE(random_state=42)\n",
    "X_train_smote, y_train_smote = smote.fit_resample(X_train, y_train)"
   ]
  },
  {
   "cell_type": "code",
   "execution_count": 31,
   "id": "4a8441db-0ed2-4228-81ae-faabfec04e0f",
   "metadata": {},
   "outputs": [
    {
     "data": {
      "text/html": [
       "<style>#sk-container-id-3 {color: black;background-color: white;}#sk-container-id-3 pre{padding: 0;}#sk-container-id-3 div.sk-toggleable {background-color: white;}#sk-container-id-3 label.sk-toggleable__label {cursor: pointer;display: block;width: 100%;margin-bottom: 0;padding: 0.3em;box-sizing: border-box;text-align: center;}#sk-container-id-3 label.sk-toggleable__label-arrow:before {content: \"▸\";float: left;margin-right: 0.25em;color: #696969;}#sk-container-id-3 label.sk-toggleable__label-arrow:hover:before {color: black;}#sk-container-id-3 div.sk-estimator:hover label.sk-toggleable__label-arrow:before {color: black;}#sk-container-id-3 div.sk-toggleable__content {max-height: 0;max-width: 0;overflow: hidden;text-align: left;background-color: #f0f8ff;}#sk-container-id-3 div.sk-toggleable__content pre {margin: 0.2em;color: black;border-radius: 0.25em;background-color: #f0f8ff;}#sk-container-id-3 input.sk-toggleable__control:checked~div.sk-toggleable__content {max-height: 200px;max-width: 100%;overflow: auto;}#sk-container-id-3 input.sk-toggleable__control:checked~label.sk-toggleable__label-arrow:before {content: \"▾\";}#sk-container-id-3 div.sk-estimator input.sk-toggleable__control:checked~label.sk-toggleable__label {background-color: #d4ebff;}#sk-container-id-3 div.sk-label input.sk-toggleable__control:checked~label.sk-toggleable__label {background-color: #d4ebff;}#sk-container-id-3 input.sk-hidden--visually {border: 0;clip: rect(1px 1px 1px 1px);clip: rect(1px, 1px, 1px, 1px);height: 1px;margin: -1px;overflow: hidden;padding: 0;position: absolute;width: 1px;}#sk-container-id-3 div.sk-estimator {font-family: monospace;background-color: #f0f8ff;border: 1px dotted black;border-radius: 0.25em;box-sizing: border-box;margin-bottom: 0.5em;}#sk-container-id-3 div.sk-estimator:hover {background-color: #d4ebff;}#sk-container-id-3 div.sk-parallel-item::after {content: \"\";width: 100%;border-bottom: 1px solid gray;flex-grow: 1;}#sk-container-id-3 div.sk-label:hover label.sk-toggleable__label {background-color: #d4ebff;}#sk-container-id-3 div.sk-serial::before {content: \"\";position: absolute;border-left: 1px solid gray;box-sizing: border-box;top: 0;bottom: 0;left: 50%;z-index: 0;}#sk-container-id-3 div.sk-serial {display: flex;flex-direction: column;align-items: center;background-color: white;padding-right: 0.2em;padding-left: 0.2em;position: relative;}#sk-container-id-3 div.sk-item {position: relative;z-index: 1;}#sk-container-id-3 div.sk-parallel {display: flex;align-items: stretch;justify-content: center;background-color: white;position: relative;}#sk-container-id-3 div.sk-item::before, #sk-container-id-3 div.sk-parallel-item::before {content: \"\";position: absolute;border-left: 1px solid gray;box-sizing: border-box;top: 0;bottom: 0;left: 50%;z-index: -1;}#sk-container-id-3 div.sk-parallel-item {display: flex;flex-direction: column;z-index: 1;position: relative;background-color: white;}#sk-container-id-3 div.sk-parallel-item:first-child::after {align-self: flex-end;width: 50%;}#sk-container-id-3 div.sk-parallel-item:last-child::after {align-self: flex-start;width: 50%;}#sk-container-id-3 div.sk-parallel-item:only-child::after {width: 0;}#sk-container-id-3 div.sk-dashed-wrapped {border: 1px dashed gray;margin: 0 0.4em 0.5em 0.4em;box-sizing: border-box;padding-bottom: 0.4em;background-color: white;}#sk-container-id-3 div.sk-label label {font-family: monospace;font-weight: bold;display: inline-block;line-height: 1.2em;}#sk-container-id-3 div.sk-label-container {text-align: center;}#sk-container-id-3 div.sk-container {/* jupyter's `normalize.less` sets `[hidden] { display: none; }` but bootstrap.min.css set `[hidden] { display: none !important; }` so we also need the `!important` here to be able to override the default hidden behavior on the sphinx rendered scikit-learn.org. See: https://github.com/scikit-learn/scikit-learn/issues/21755 */display: inline-block !important;position: relative;}#sk-container-id-3 div.sk-text-repr-fallback {display: none;}</style><div id=\"sk-container-id-3\" class=\"sk-top-container\"><div class=\"sk-text-repr-fallback\"><pre>RandomForestClassifier(random_state=42)</pre><b>In a Jupyter environment, please rerun this cell to show the HTML representation or trust the notebook. <br />On GitHub, the HTML representation is unable to render, please try loading this page with nbviewer.org.</b></div><div class=\"sk-container\" hidden><div class=\"sk-item\"><div class=\"sk-estimator sk-toggleable\"><input class=\"sk-toggleable__control sk-hidden--visually\" id=\"sk-estimator-id-3\" type=\"checkbox\" checked><label for=\"sk-estimator-id-3\" class=\"sk-toggleable__label sk-toggleable__label-arrow\">RandomForestClassifier</label><div class=\"sk-toggleable__content\"><pre>RandomForestClassifier(random_state=42)</pre></div></div></div></div></div>"
      ],
      "text/plain": [
       "RandomForestClassifier(random_state=42)"
      ]
     },
     "execution_count": 31,
     "metadata": {},
     "output_type": "execute_result"
    }
   ],
   "source": [
    "# Initialize the Random Forest Classifier again\n",
    "rf_model_smote = RandomForestClassifier(random_state=42)\n",
    "\n",
    "# Train the model on the SMOTE data\n",
    "rf_model_smote.fit(X_train_smote, y_train_smote)"
   ]
  },
  {
   "cell_type": "code",
   "execution_count": 32,
   "id": "2ef96848-883e-4752-9ec7-f5fc7b80d1d1",
   "metadata": {},
   "outputs": [
    {
     "name": "stdout",
     "output_type": "stream",
     "text": [
      "Classification Report with SMOTE (Top 10 Features):\n",
      "              precision    recall  f1-score   support\n",
      "\n",
      "Agricultural       0.56      0.67      0.61       206\n",
      "  Commercial       0.42      0.54      0.47       141\n",
      "  Industrial       0.53      0.75      0.62       231\n",
      "     Natural       0.69      0.66      0.67       539\n",
      "Recreational       0.34      0.56      0.42       129\n",
      " Residential       0.93      0.85      0.89      2554\n",
      "   Transport       0.17      0.22      0.19        32\n",
      "       Water       0.46      0.39      0.42       102\n",
      "\n",
      "    accuracy                           0.77      3934\n",
      "   macro avg       0.51      0.58      0.54      3934\n",
      "weighted avg       0.80      0.77      0.78      3934\n",
      "\n"
     ]
    }
   ],
   "source": [
    "# Make predictions on the test data\n",
    "y_pred_smote = rf_model_smote.predict(X_test)\n",
    "\n",
    "# Print the classification report for SMOTE model\n",
    "print(\"Classification Report with SMOTE (Top 10 Features):\")\n",
    "print(classification_report(y_test, y_pred_smote, target_names=label_encoder.classes_))"
   ]
  },
  {
   "cell_type": "code",
   "execution_count": 33,
   "id": "c5806da3-10a1-4e26-8b1a-f237aa4e8c00",
   "metadata": {},
   "outputs": [
    {
     "name": "stdout",
     "output_type": "stream",
     "text": [
      "Test Accuracy with SMOTE Model: 0.77\n",
      "Average F1-score: 0.54\n",
      "Average Precision: 0.51\n",
      "Average Recall: 0.58\n"
     ]
    }
   ],
   "source": [
    "# Calculate accuracy\n",
    "accuracy_smote = accuracy_score(y_test, y_pred_smote)\n",
    "print(f\"Test Accuracy with SMOTE Model: {accuracy_smote:.2f}\")\n",
    "\n",
    "# Print the classification report for SMOTE model\n",
    "report_smote = classification_report(y_test, y_pred_smote, target_names=label_encoder.classes_, output_dict=True)\n",
    "\n",
    "# Calculate average metrics from the classification report\n",
    "avg_f1_smote = report_smote['macro avg']['f1-score']\n",
    "avg_precision_smote = report_smote['macro avg']['precision']\n",
    "avg_recall_smote = report_smote['macro avg']['recall']\n",
    "\n",
    "print(f\"Average F1-score: {avg_f1_smote:.2f}\")\n",
    "print(f\"Average Precision: {avg_precision_smote:.2f}\")\n",
    "print(f\"Average Recall: {avg_recall_smote:.2f}\")"
   ]
  },
  {
   "cell_type": "code",
   "execution_count": null,
   "id": "db51fc93-1e42-4d4d-bbeb-f080a59fadb2",
   "metadata": {},
   "outputs": [],
   "source": []
  },
  {
   "cell_type": "markdown",
   "id": "4d7246fb-e448-44a9-8c6d-aecbde287835",
   "metadata": {},
   "source": [
    "#### Grid Search with SMOTE\n",
    "Incorporating Grid Search to find the best hyperparameters for the Random Forest model."
   ]
  },
  {
   "cell_type": "code",
   "execution_count": 34,
   "id": "318be940-d93d-46b5-9ac6-37e57f93a1a6",
   "metadata": {},
   "outputs": [
    {
     "name": "stdout",
     "output_type": "stream",
     "text": [
      "Fitting 5 folds for each of 108 candidates, totalling 540 fits\n"
     ]
    },
    {
     "data": {
      "text/html": [
       "<style>#sk-container-id-4 {color: black;background-color: white;}#sk-container-id-4 pre{padding: 0;}#sk-container-id-4 div.sk-toggleable {background-color: white;}#sk-container-id-4 label.sk-toggleable__label {cursor: pointer;display: block;width: 100%;margin-bottom: 0;padding: 0.3em;box-sizing: border-box;text-align: center;}#sk-container-id-4 label.sk-toggleable__label-arrow:before {content: \"▸\";float: left;margin-right: 0.25em;color: #696969;}#sk-container-id-4 label.sk-toggleable__label-arrow:hover:before {color: black;}#sk-container-id-4 div.sk-estimator:hover label.sk-toggleable__label-arrow:before {color: black;}#sk-container-id-4 div.sk-toggleable__content {max-height: 0;max-width: 0;overflow: hidden;text-align: left;background-color: #f0f8ff;}#sk-container-id-4 div.sk-toggleable__content pre {margin: 0.2em;color: black;border-radius: 0.25em;background-color: #f0f8ff;}#sk-container-id-4 input.sk-toggleable__control:checked~div.sk-toggleable__content {max-height: 200px;max-width: 100%;overflow: auto;}#sk-container-id-4 input.sk-toggleable__control:checked~label.sk-toggleable__label-arrow:before {content: \"▾\";}#sk-container-id-4 div.sk-estimator input.sk-toggleable__control:checked~label.sk-toggleable__label {background-color: #d4ebff;}#sk-container-id-4 div.sk-label input.sk-toggleable__control:checked~label.sk-toggleable__label {background-color: #d4ebff;}#sk-container-id-4 input.sk-hidden--visually {border: 0;clip: rect(1px 1px 1px 1px);clip: rect(1px, 1px, 1px, 1px);height: 1px;margin: -1px;overflow: hidden;padding: 0;position: absolute;width: 1px;}#sk-container-id-4 div.sk-estimator {font-family: monospace;background-color: #f0f8ff;border: 1px dotted black;border-radius: 0.25em;box-sizing: border-box;margin-bottom: 0.5em;}#sk-container-id-4 div.sk-estimator:hover {background-color: #d4ebff;}#sk-container-id-4 div.sk-parallel-item::after {content: \"\";width: 100%;border-bottom: 1px solid gray;flex-grow: 1;}#sk-container-id-4 div.sk-label:hover label.sk-toggleable__label {background-color: #d4ebff;}#sk-container-id-4 div.sk-serial::before {content: \"\";position: absolute;border-left: 1px solid gray;box-sizing: border-box;top: 0;bottom: 0;left: 50%;z-index: 0;}#sk-container-id-4 div.sk-serial {display: flex;flex-direction: column;align-items: center;background-color: white;padding-right: 0.2em;padding-left: 0.2em;position: relative;}#sk-container-id-4 div.sk-item {position: relative;z-index: 1;}#sk-container-id-4 div.sk-parallel {display: flex;align-items: stretch;justify-content: center;background-color: white;position: relative;}#sk-container-id-4 div.sk-item::before, #sk-container-id-4 div.sk-parallel-item::before {content: \"\";position: absolute;border-left: 1px solid gray;box-sizing: border-box;top: 0;bottom: 0;left: 50%;z-index: -1;}#sk-container-id-4 div.sk-parallel-item {display: flex;flex-direction: column;z-index: 1;position: relative;background-color: white;}#sk-container-id-4 div.sk-parallel-item:first-child::after {align-self: flex-end;width: 50%;}#sk-container-id-4 div.sk-parallel-item:last-child::after {align-self: flex-start;width: 50%;}#sk-container-id-4 div.sk-parallel-item:only-child::after {width: 0;}#sk-container-id-4 div.sk-dashed-wrapped {border: 1px dashed gray;margin: 0 0.4em 0.5em 0.4em;box-sizing: border-box;padding-bottom: 0.4em;background-color: white;}#sk-container-id-4 div.sk-label label {font-family: monospace;font-weight: bold;display: inline-block;line-height: 1.2em;}#sk-container-id-4 div.sk-label-container {text-align: center;}#sk-container-id-4 div.sk-container {/* jupyter's `normalize.less` sets `[hidden] { display: none; }` but bootstrap.min.css set `[hidden] { display: none !important; }` so we also need the `!important` here to be able to override the default hidden behavior on the sphinx rendered scikit-learn.org. See: https://github.com/scikit-learn/scikit-learn/issues/21755 */display: inline-block !important;position: relative;}#sk-container-id-4 div.sk-text-repr-fallback {display: none;}</style><div id=\"sk-container-id-4\" class=\"sk-top-container\"><div class=\"sk-text-repr-fallback\"><pre>GridSearchCV(cv=5, estimator=RandomForestClassifier(random_state=42), n_jobs=-1,\n",
       "             param_grid={&#x27;max_depth&#x27;: [None, 10, 20, 30],\n",
       "                         &#x27;min_samples_leaf&#x27;: [1, 2, 4],\n",
       "                         &#x27;min_samples_split&#x27;: [2, 5, 10],\n",
       "                         &#x27;n_estimators&#x27;: [100, 200, 300]},\n",
       "             scoring=&#x27;accuracy&#x27;, verbose=2)</pre><b>In a Jupyter environment, please rerun this cell to show the HTML representation or trust the notebook. <br />On GitHub, the HTML representation is unable to render, please try loading this page with nbviewer.org.</b></div><div class=\"sk-container\" hidden><div class=\"sk-item sk-dashed-wrapped\"><div class=\"sk-label-container\"><div class=\"sk-label sk-toggleable\"><input class=\"sk-toggleable__control sk-hidden--visually\" id=\"sk-estimator-id-4\" type=\"checkbox\" ><label for=\"sk-estimator-id-4\" class=\"sk-toggleable__label sk-toggleable__label-arrow\">GridSearchCV</label><div class=\"sk-toggleable__content\"><pre>GridSearchCV(cv=5, estimator=RandomForestClassifier(random_state=42), n_jobs=-1,\n",
       "             param_grid={&#x27;max_depth&#x27;: [None, 10, 20, 30],\n",
       "                         &#x27;min_samples_leaf&#x27;: [1, 2, 4],\n",
       "                         &#x27;min_samples_split&#x27;: [2, 5, 10],\n",
       "                         &#x27;n_estimators&#x27;: [100, 200, 300]},\n",
       "             scoring=&#x27;accuracy&#x27;, verbose=2)</pre></div></div></div><div class=\"sk-parallel\"><div class=\"sk-parallel-item\"><div class=\"sk-item\"><div class=\"sk-label-container\"><div class=\"sk-label sk-toggleable\"><input class=\"sk-toggleable__control sk-hidden--visually\" id=\"sk-estimator-id-5\" type=\"checkbox\" ><label for=\"sk-estimator-id-5\" class=\"sk-toggleable__label sk-toggleable__label-arrow\">estimator: RandomForestClassifier</label><div class=\"sk-toggleable__content\"><pre>RandomForestClassifier(random_state=42)</pre></div></div></div><div class=\"sk-serial\"><div class=\"sk-item\"><div class=\"sk-estimator sk-toggleable\"><input class=\"sk-toggleable__control sk-hidden--visually\" id=\"sk-estimator-id-6\" type=\"checkbox\" ><label for=\"sk-estimator-id-6\" class=\"sk-toggleable__label sk-toggleable__label-arrow\">RandomForestClassifier</label><div class=\"sk-toggleable__content\"><pre>RandomForestClassifier(random_state=42)</pre></div></div></div></div></div></div></div></div></div></div>"
      ],
      "text/plain": [
       "GridSearchCV(cv=5, estimator=RandomForestClassifier(random_state=42), n_jobs=-1,\n",
       "             param_grid={'max_depth': [None, 10, 20, 30],\n",
       "                         'min_samples_leaf': [1, 2, 4],\n",
       "                         'min_samples_split': [2, 5, 10],\n",
       "                         'n_estimators': [100, 200, 300]},\n",
       "             scoring='accuracy', verbose=2)"
      ]
     },
     "execution_count": 34,
     "metadata": {},
     "output_type": "execute_result"
    }
   ],
   "source": [
    "# Set up the grid search with cross-validation on SMOTE data\n",
    "grid_search_smote = GridSearchCV(estimator=rf_model_smote, param_grid=param_grid, cv=5, n_jobs=-1, scoring='accuracy', verbose=2)\n",
    "\n",
    "# Fit the grid search to the SMOTE training data\n",
    "grid_search_smote.fit(X_train_smote, y_train_smote)"
   ]
  },
  {
   "cell_type": "code",
   "execution_count": 35,
   "id": "c1f1f316-857e-4cb6-8bc8-bcbb3e10e815",
   "metadata": {},
   "outputs": [
    {
     "name": "stdout",
     "output_type": "stream",
     "text": [
      "Best parameters found by grid search with SMOTE: {'max_depth': None, 'min_samples_leaf': 1, 'min_samples_split': 2, 'n_estimators': 300}\n",
      "Best cross-validation accuracy score with SMOTE: 0.9013677585225025\n"
     ]
    }
   ],
   "source": [
    "# Get the best model\n",
    "best_rf_model_smote = grid_search_smote.best_estimator_\n",
    "\n",
    "# Print the best parameters and best score for SMOTE data\n",
    "print(\"Best parameters found by grid search with SMOTE:\", grid_search_smote.best_params_)\n",
    "print(\"Best cross-validation accuracy score with SMOTE:\", grid_search_smote.best_score_)"
   ]
  },
  {
   "cell_type": "code",
   "execution_count": 36,
   "id": "a5f37a55-4146-4957-ac74-61b318d6b119",
   "metadata": {},
   "outputs": [
    {
     "data": {
      "text/html": [
       "<style>#sk-container-id-5 {color: black;background-color: white;}#sk-container-id-5 pre{padding: 0;}#sk-container-id-5 div.sk-toggleable {background-color: white;}#sk-container-id-5 label.sk-toggleable__label {cursor: pointer;display: block;width: 100%;margin-bottom: 0;padding: 0.3em;box-sizing: border-box;text-align: center;}#sk-container-id-5 label.sk-toggleable__label-arrow:before {content: \"▸\";float: left;margin-right: 0.25em;color: #696969;}#sk-container-id-5 label.sk-toggleable__label-arrow:hover:before {color: black;}#sk-container-id-5 div.sk-estimator:hover label.sk-toggleable__label-arrow:before {color: black;}#sk-container-id-5 div.sk-toggleable__content {max-height: 0;max-width: 0;overflow: hidden;text-align: left;background-color: #f0f8ff;}#sk-container-id-5 div.sk-toggleable__content pre {margin: 0.2em;color: black;border-radius: 0.25em;background-color: #f0f8ff;}#sk-container-id-5 input.sk-toggleable__control:checked~div.sk-toggleable__content {max-height: 200px;max-width: 100%;overflow: auto;}#sk-container-id-5 input.sk-toggleable__control:checked~label.sk-toggleable__label-arrow:before {content: \"▾\";}#sk-container-id-5 div.sk-estimator input.sk-toggleable__control:checked~label.sk-toggleable__label {background-color: #d4ebff;}#sk-container-id-5 div.sk-label input.sk-toggleable__control:checked~label.sk-toggleable__label {background-color: #d4ebff;}#sk-container-id-5 input.sk-hidden--visually {border: 0;clip: rect(1px 1px 1px 1px);clip: rect(1px, 1px, 1px, 1px);height: 1px;margin: -1px;overflow: hidden;padding: 0;position: absolute;width: 1px;}#sk-container-id-5 div.sk-estimator {font-family: monospace;background-color: #f0f8ff;border: 1px dotted black;border-radius: 0.25em;box-sizing: border-box;margin-bottom: 0.5em;}#sk-container-id-5 div.sk-estimator:hover {background-color: #d4ebff;}#sk-container-id-5 div.sk-parallel-item::after {content: \"\";width: 100%;border-bottom: 1px solid gray;flex-grow: 1;}#sk-container-id-5 div.sk-label:hover label.sk-toggleable__label {background-color: #d4ebff;}#sk-container-id-5 div.sk-serial::before {content: \"\";position: absolute;border-left: 1px solid gray;box-sizing: border-box;top: 0;bottom: 0;left: 50%;z-index: 0;}#sk-container-id-5 div.sk-serial {display: flex;flex-direction: column;align-items: center;background-color: white;padding-right: 0.2em;padding-left: 0.2em;position: relative;}#sk-container-id-5 div.sk-item {position: relative;z-index: 1;}#sk-container-id-5 div.sk-parallel {display: flex;align-items: stretch;justify-content: center;background-color: white;position: relative;}#sk-container-id-5 div.sk-item::before, #sk-container-id-5 div.sk-parallel-item::before {content: \"\";position: absolute;border-left: 1px solid gray;box-sizing: border-box;top: 0;bottom: 0;left: 50%;z-index: -1;}#sk-container-id-5 div.sk-parallel-item {display: flex;flex-direction: column;z-index: 1;position: relative;background-color: white;}#sk-container-id-5 div.sk-parallel-item:first-child::after {align-self: flex-end;width: 50%;}#sk-container-id-5 div.sk-parallel-item:last-child::after {align-self: flex-start;width: 50%;}#sk-container-id-5 div.sk-parallel-item:only-child::after {width: 0;}#sk-container-id-5 div.sk-dashed-wrapped {border: 1px dashed gray;margin: 0 0.4em 0.5em 0.4em;box-sizing: border-box;padding-bottom: 0.4em;background-color: white;}#sk-container-id-5 div.sk-label label {font-family: monospace;font-weight: bold;display: inline-block;line-height: 1.2em;}#sk-container-id-5 div.sk-label-container {text-align: center;}#sk-container-id-5 div.sk-container {/* jupyter's `normalize.less` sets `[hidden] { display: none; }` but bootstrap.min.css set `[hidden] { display: none !important; }` so we also need the `!important` here to be able to override the default hidden behavior on the sphinx rendered scikit-learn.org. See: https://github.com/scikit-learn/scikit-learn/issues/21755 */display: inline-block !important;position: relative;}#sk-container-id-5 div.sk-text-repr-fallback {display: none;}</style><div id=\"sk-container-id-5\" class=\"sk-top-container\"><div class=\"sk-text-repr-fallback\"><pre>RandomForestClassifier(n_estimators=300, random_state=42)</pre><b>In a Jupyter environment, please rerun this cell to show the HTML representation or trust the notebook. <br />On GitHub, the HTML representation is unable to render, please try loading this page with nbviewer.org.</b></div><div class=\"sk-container\" hidden><div class=\"sk-item\"><div class=\"sk-estimator sk-toggleable\"><input class=\"sk-toggleable__control sk-hidden--visually\" id=\"sk-estimator-id-7\" type=\"checkbox\" checked><label for=\"sk-estimator-id-7\" class=\"sk-toggleable__label sk-toggleable__label-arrow\">RandomForestClassifier</label><div class=\"sk-toggleable__content\"><pre>RandomForestClassifier(n_estimators=300, random_state=42)</pre></div></div></div></div></div>"
      ],
      "text/plain": [
       "RandomForestClassifier(n_estimators=300, random_state=42)"
      ]
     },
     "execution_count": 36,
     "metadata": {},
     "output_type": "execute_result"
    }
   ],
   "source": [
    "best_rf_model_smote"
   ]
  },
  {
   "cell_type": "code",
   "execution_count": 37,
   "id": "8693485c-3b7d-4855-9f82-0073a3d89ad8",
   "metadata": {},
   "outputs": [
    {
     "name": "stdout",
     "output_type": "stream",
     "text": [
      "Test Accuracy with Best Model and SMOTE: 0.77\n",
      "Classification Report for Best Model with SMOTE (Top 10 Features):\n",
      "              precision    recall  f1-score   support\n",
      "\n",
      "Agricultural       0.55      0.67      0.60       206\n",
      "  Commercial       0.44      0.56      0.49       141\n",
      "  Industrial       0.54      0.74      0.62       231\n",
      "     Natural       0.69      0.66      0.68       539\n",
      "Recreational       0.34      0.56      0.42       129\n",
      " Residential       0.94      0.85      0.89      2554\n",
      "   Transport       0.17      0.22      0.19        32\n",
      "       Water       0.44      0.38      0.41       102\n",
      "\n",
      "    accuracy                           0.77      3934\n",
      "   macro avg       0.51      0.58      0.54      3934\n",
      "weighted avg       0.80      0.77      0.78      3934\n",
      "\n"
     ]
    }
   ],
   "source": [
    "# Evaluate the best SMOTE model on the test data\n",
    "test_accuracy_smote = best_rf_model_smote.score(X_test, y_test)\n",
    "print(f\"Test Accuracy with Best Model and SMOTE: {test_accuracy_smote:.2f}\")\n",
    "\n",
    "# Make predictions with the best SMOTE model\n",
    "y_pred_best_smote = best_rf_model_smote.predict(X_test)\n",
    "\n",
    "# Print the classification report for the best SMOTE model\n",
    "print(\"Classification Report for Best Model with SMOTE (Top 10 Features):\")\n",
    "print(classification_report(y_test, y_pred_best_smote, target_names=label_encoder.classes_))"
   ]
  },
  {
   "cell_type": "code",
   "execution_count": 38,
   "id": "e7d1f12d-90d0-47c0-84d3-116dfbe1e6be",
   "metadata": {},
   "outputs": [
    {
     "name": "stdout",
     "output_type": "stream",
     "text": [
      "Average F1-score: 0.54\n",
      "Average Precision: 0.51\n",
      "Average Recall: 0.58\n",
      "Average AUC: 0.92\n"
     ]
    }
   ],
   "source": [
    "# Print the classification report for the best SMOTE model\n",
    "report_best_smote = classification_report(y_test, y_pred_best_smote, target_names=label_encoder.classes_, output_dict=True)\n",
    "\n",
    "# Calculate average metrics from the classification report\n",
    "avg_f1_best_smote = report_best_smote['macro avg']['f1-score']\n",
    "avg_precision_best_smote = report_best_smote['macro avg']['precision']\n",
    "avg_recall_best_smote = report_best_smote['macro avg']['recall']\n",
    "\n",
    "print(f\"Average F1-score: {avg_f1_best_smote:.2f}\")\n",
    "print(f\"Average Precision: {avg_precision_best_smote:.2f}\")\n",
    "print(f\"Average Recall: {avg_recall_best_smote:.2f}\")\n",
    "\n",
    "# Binarize the output for AUC calculation\n",
    "y_test_bin = label_binarize(y_test, classes=np.arange(len(label_encoder.classes_)))\n",
    "y_pred_prob_best_smote = best_rf_model_smote.predict_proba(X_test)\n",
    "\n",
    "# Compute AUC for each class\n",
    "auc_best_smote = roc_auc_score(y_test_bin, y_pred_prob_best_smote, average=\"macro\", multi_class=\"ovr\")\n",
    "\n",
    "print(f\"Average AUC: {auc_best_smote:.2f}\")"
   ]
  },
  {
   "cell_type": "code",
   "execution_count": 39,
   "id": "d8e294c2-4b04-471e-bd00-214dc41dfb2e",
   "metadata": {},
   "outputs": [
    {
     "data": {
      "image/png": "[encoded data removed]",
      "text/plain": [
       "<Figure size 1000x700 with 2 Axes>"
      ]
     },
     "metadata": {},
     "output_type": "display_data"
    }
   ],
   "source": [
    "# Generate the confusion matrix\n",
    "conf_matrix = confusion_matrix(y_test, y_pred_best_smote)\n",
    "\n",
    "# Plot the confusion matrix\n",
    "plt.figure(figsize=(10, 7))\n",
    "sns.heatmap(conf_matrix, annot=True, fmt='g', cmap='Blues', xticklabels=label_encoder.classes_, yticklabels=label_encoder.classes_)\n",
    "plt.title('Confusion Matrix')\n",
    "plt.xlabel('Predicted')\n",
    "plt.ylabel('Actual')\n",
    "plt.show()"
   ]
  },
  {
   "cell_type": "code",
   "execution_count": null,
   "id": "3fe3167e-805c-42cf-8c3d-3ed2d58de44a",
   "metadata": {},
   "outputs": [],
   "source": []
  },
  {
   "cell_type": "code",
   "execution_count": null,
   "id": "094b02ea-352e-4a37-be57-9bf8774fafb4",
   "metadata": {},
   "outputs": [],
   "source": []
  },
  {
   "cell_type": "markdown",
   "id": "8d901b92-645e-4cd5-a6b5-1e21f3f6571d",
   "metadata": {},
   "source": [
    "#### MLP"
   ]
  },
  {
   "cell_type": "code",
   "execution_count": 40,
   "id": "c8f79045-55ba-460b-86c3-772a7a45e1b6",
   "metadata": {},
   "outputs": [],
   "source": [
    "from sklearn.preprocessing import StandardScaler\n",
    "from tensorflow.keras.models import Sequential\n",
    "from tensorflow.keras.layers import Dense, Dropout\n",
    "from tensorflow.keras.utils import to_categorical"
   ]
  },
  {
   "cell_type": "code",
   "execution_count": 41,
   "id": "3d578f9c-d358-4a1d-925e-02f0e9dc851f",
   "metadata": {},
   "outputs": [],
   "source": [
    "# Define feature columns (excluding non-numeric and irrelevant ones)\n",
    "feature_columns = [\n",
    "    'poi_Accommodation, Eating and Drinking', 'poi_Attractions', 'poi_Commercial Services', 'poi_Education and Health', \n",
    "    'poi_Manufacturing and Production', 'poi_Public Infrastructure', 'poi_Retail', 'poi_Sport and Entertainment',\n",
    "    'poi_Transport', 'busstop_count', 'cycleshare_terminal', 'total_bike_count', 'total_commercial_poi', 'poi_total', 'poi_density', \n",
    "    'busstop_density', 'area'\n",
    "]\n",
    "\n",
    "# Extract features and target from the DataFrame\n",
    "X = urban_function_df[feature_columns]\n",
    "y = urban_function_df['Landuse_Category']\n",
    "\n",
    "# Encode the target variable\n",
    "label_encoder = LabelEncoder()\n",
    "y_encoded = label_encoder.fit_transform(y)\n",
    "\n",
    "# One-hot encode the target variable\n",
    "y_categorical = to_categorical(y_encoded)\n",
    "\n",
    "# Split the data into training and testing sets\n",
    "X_train, X_test, y_train, y_test = train_test_split(X, y_categorical, test_size=0.3, random_state=42, stratify=y_encoded)"
   ]
  },
  {
   "cell_type": "code",
   "execution_count": null,
   "id": "0e33b311-2a0e-457a-9adb-8864351e98a8",
   "metadata": {},
   "outputs": [],
   "source": []
  },
  {
   "cell_type": "code",
   "execution_count": 42,
   "id": "ded0ee35-c7b3-4361-a3a3-f8421514e31f",
   "metadata": {},
   "outputs": [],
   "source": [
    "# Standardize the features\n",
    "scaler = StandardScaler()\n",
    "X_train_scaled = scaler.fit_transform(X_train)\n",
    "X_test_scaled = scaler.transform(X_test)"
   ]
  },
  {
   "cell_type": "code",
   "execution_count": 43,
   "id": "b71b1e5f-460a-4dbc-afaa-d2818bfbbf32",
   "metadata": {},
   "outputs": [
    {
     "name": "stderr",
     "output_type": "stream",
     "text": [
      "C:\\Users\\user\\anaconda3\\Lib\\site-packages\\keras\\src\\layers\\core\\dense.py:87: UserWarning: Do not pass an `input_shape`/`input_dim` argument to a layer. When using Sequential models, prefer using an `Input(shape)` object as the first layer in the model instead.\n",
      "  super().__init__(activity_regularizer=activity_regularizer, **kwargs)\n"
     ]
    },
    {
     "data": {
      "text/html": [
       "<pre style=\"white-space:pre;overflow-x:auto;line-height:normal;font-family:Menlo,'DejaVu Sans Mono',consolas,'Courier New',monospace\"><span style=\"font-weight: bold\">Model: \"sequential\"</span>\n",
       "</pre>\n"
      ],
      "text/plain": [
       "\u001b[1mModel: \"sequential\"\u001b[0m\n"
      ]
     },
     "metadata": {},
     "output_type": "display_data"
    },
    {
     "data": {
      "text/html": [
       "<pre style=\"white-space:pre;overflow-x:auto;line-height:normal;font-family:Menlo,'DejaVu Sans Mono',consolas,'Courier New',monospace\">┏━━━━━━━━━━━━━━━━━━━━━━━━━━━━━━━━━━━━━━┳━━━━━━━━━━━━━━━━━━━━━━━━━━━━━┳━━━━━━━━━━━━━━━━━┓\n",
       "┃<span style=\"font-weight: bold\"> Layer (type)                         </span>┃<span style=\"font-weight: bold\"> Output Shape                </span>┃<span style=\"font-weight: bold\">         Param # </span>┃\n",
       "┡━━━━━━━━━━━━━━━━━━━━━━━━━━━━━━━━━━━━━━╇━━━━━━━━━━━━━━━━━━━━━━━━━━━━━╇━━━━━━━━━━━━━━━━━┩\n",
       "│ dense (<span style=\"color: #0087ff; text-decoration-color: #0087ff\">Dense</span>)                        │ (<span style=\"color: #00d7ff; text-decoration-color: #00d7ff\">None</span>, <span style=\"color: #00af00; text-decoration-color: #00af00\">128</span>)                 │           <span style=\"color: #00af00; text-decoration-color: #00af00\">2,304</span> │\n",
       "├──────────────────────────────────────┼─────────────────────────────┼─────────────────┤\n",
       "│ dropout (<span style=\"color: #0087ff; text-decoration-color: #0087ff\">Dropout</span>)                    │ (<span style=\"color: #00d7ff; text-decoration-color: #00d7ff\">None</span>, <span style=\"color: #00af00; text-decoration-color: #00af00\">128</span>)                 │               <span style=\"color: #00af00; text-decoration-color: #00af00\">0</span> │\n",
       "├──────────────────────────────────────┼─────────────────────────────┼─────────────────┤\n",
       "│ dense_1 (<span style=\"color: #0087ff; text-decoration-color: #0087ff\">Dense</span>)                      │ (<span style=\"color: #00d7ff; text-decoration-color: #00d7ff\">None</span>, <span style=\"color: #00af00; text-decoration-color: #00af00\">64</span>)                  │           <span style=\"color: #00af00; text-decoration-color: #00af00\">8,256</span> │\n",
       "├──────────────────────────────────────┼─────────────────────────────┼─────────────────┤\n",
       "│ dropout_1 (<span style=\"color: #0087ff; text-decoration-color: #0087ff\">Dropout</span>)                  │ (<span style=\"color: #00d7ff; text-decoration-color: #00d7ff\">None</span>, <span style=\"color: #00af00; text-decoration-color: #00af00\">64</span>)                  │               <span style=\"color: #00af00; text-decoration-color: #00af00\">0</span> │\n",
       "├──────────────────────────────────────┼─────────────────────────────┼─────────────────┤\n",
       "│ dense_2 (<span style=\"color: #0087ff; text-decoration-color: #0087ff\">Dense</span>)                      │ (<span style=\"color: #00d7ff; text-decoration-color: #00d7ff\">None</span>, <span style=\"color: #00af00; text-decoration-color: #00af00\">8</span>)                   │             <span style=\"color: #00af00; text-decoration-color: #00af00\">520</span> │\n",
       "└──────────────────────────────────────┴─────────────────────────────┴─────────────────┘\n",
       "</pre>\n"
      ],
      "text/plain": [
       "┏━━━━━━━━━━━━━━━━━━━━━━━━━━━━━━━━━━━━━━┳━━━━━━━━━━━━━━━━━━━━━━━━━━━━━┳━━━━━━━━━━━━━━━━━┓\n",
       "┃\u001b[1m \u001b[0m\u001b[1mLayer (type)                        \u001b[0m\u001b[1m \u001b[0m┃\u001b[1m \u001b[0m\u001b[1mOutput Shape               \u001b[0m\u001b[1m \u001b[0m┃\u001b[1m \u001b[0m\u001b[1m        Param #\u001b[0m\u001b[1m \u001b[0m┃\n",
       "┡━━━━━━━━━━━━━━━━━━━━━━━━━━━━━━━━━━━━━━╇━━━━━━━━━━━━━━━━━━━━━━━━━━━━━╇━━━━━━━━━━━━━━━━━┩\n",
       "│ dense (\u001b[38;5;33mDense\u001b[0m)                        │ (\u001b[38;5;45mNone\u001b[0m, \u001b[38;5;34m128\u001b[0m)                 │           \u001b[38;5;34m2,304\u001b[0m │\n",
       "├──────────────────────────────────────┼─────────────────────────────┼─────────────────┤\n",
       "│ dropout (\u001b[38;5;33mDropout\u001b[0m)                    │ (\u001b[38;5;45mNone\u001b[0m, \u001b[38;5;34m128\u001b[0m)                 │               \u001b[38;5;34m0\u001b[0m │\n",
       "├──────────────────────────────────────┼─────────────────────────────┼─────────────────┤\n",
       "│ dense_1 (\u001b[38;5;33mDense\u001b[0m)                      │ (\u001b[38;5;45mNone\u001b[0m, \u001b[38;5;34m64\u001b[0m)                  │           \u001b[38;5;34m8,256\u001b[0m │\n",
       "├──────────────────────────────────────┼─────────────────────────────┼─────────────────┤\n",
       "│ dropout_1 (\u001b[38;5;33mDropout\u001b[0m)                  │ (\u001b[38;5;45mNone\u001b[0m, \u001b[38;5;34m64\u001b[0m)                  │               \u001b[38;5;34m0\u001b[0m │\n",
       "├──────────────────────────────────────┼─────────────────────────────┼─────────────────┤\n",
       "│ dense_2 (\u001b[38;5;33mDense\u001b[0m)                      │ (\u001b[38;5;45mNone\u001b[0m, \u001b[38;5;34m8\u001b[0m)                   │             \u001b[38;5;34m520\u001b[0m │\n",
       "└──────────────────────────────────────┴─────────────────────────────┴─────────────────┘\n"
      ]
     },
     "metadata": {},
     "output_type": "display_data"
    },
    {
     "data": {
      "text/html": [
       "<pre style=\"white-space:pre;overflow-x:auto;line-height:normal;font-family:Menlo,'DejaVu Sans Mono',consolas,'Courier New',monospace\"><span style=\"font-weight: bold\"> Total params: </span><span style=\"color: #00af00; text-decoration-color: #00af00\">11,080</span> (43.28 KB)\n",
       "</pre>\n"
      ],
      "text/plain": [
       "\u001b[1m Total params: \u001b[0m\u001b[38;5;34m11,080\u001b[0m (43.28 KB)\n"
      ]
     },
     "metadata": {},
     "output_type": "display_data"
    },
    {
     "data": {
      "text/html": [
       "<pre style=\"white-space:pre;overflow-x:auto;line-height:normal;font-family:Menlo,'DejaVu Sans Mono',consolas,'Courier New',monospace\"><span style=\"font-weight: bold\"> Trainable params: </span><span style=\"color: #00af00; text-decoration-color: #00af00\">11,080</span> (43.28 KB)\n",
       "</pre>\n"
      ],
      "text/plain": [
       "\u001b[1m Trainable params: \u001b[0m\u001b[38;5;34m11,080\u001b[0m (43.28 KB)\n"
      ]
     },
     "metadata": {},
     "output_type": "display_data"
    },
    {
     "data": {
      "text/html": [
       "<pre style=\"white-space:pre;overflow-x:auto;line-height:normal;font-family:Menlo,'DejaVu Sans Mono',consolas,'Courier New',monospace\"><span style=\"font-weight: bold\"> Non-trainable params: </span><span style=\"color: #00af00; text-decoration-color: #00af00\">0</span> (0.00 B)\n",
       "</pre>\n"
      ],
      "text/plain": [
       "\u001b[1m Non-trainable params: \u001b[0m\u001b[38;5;34m0\u001b[0m (0.00 B)\n"
      ]
     },
     "metadata": {},
     "output_type": "display_data"
    }
   ],
   "source": [
    "# Define the MLP model\n",
    "model1 = Sequential()\n",
    "model1.add(Dense(128, input_dim=X_train_scaled.shape[1], activation='relu'))\n",
    "model1.add(Dropout(0.3))\n",
    "model1.add(Dense(64, activation='relu'))\n",
    "model1.add(Dropout(0.3))\n",
    "model1.add(Dense(len(label_encoder.classes_), activation='softmax'))\n",
    "\n",
    "# Compile the model\n",
    "model1.compile(optimizer='adam', loss='categorical_crossentropy', metrics=['accuracy'])\n",
    "\n",
    "# Display the model summary\n",
    "model1.summary()"
   ]
  },
  {
   "cell_type": "code",
   "execution_count": 44,
   "id": "e1569bef-38ad-4018-8e50-f6b2cec13f9d",
   "metadata": {},
   "outputs": [
    {
     "name": "stdout",
     "output_type": "stream",
     "text": [
      "Epoch 1/25\n",
      "\u001b[1m115/115\u001b[0m \u001b[32m━━━━━━━━━━━━━━━━━━━━\u001b[0m\u001b[37m\u001b[0m \u001b[1m2s\u001b[0m 4ms/step - accuracy: 0.5446 - loss: 1.6539 - val_accuracy: 0.6585 - val_loss: 1.1359\n",
      "Epoch 2/25\n",
      "\u001b[1m115/115\u001b[0m \u001b[32m━━━━━━━━━━━━━━━━━━━━\u001b[0m\u001b[37m\u001b[0m \u001b[1m0s\u001b[0m 2ms/step - accuracy: 0.6437 - loss: 1.2103 - val_accuracy: 0.6612 - val_loss: 1.0835\n",
      "Epoch 3/25\n",
      "\u001b[1m115/115\u001b[0m \u001b[32m━━━━━━━━━━━━━━━━━━━━\u001b[0m\u001b[37m\u001b[0m \u001b[1m0s\u001b[0m 2ms/step - accuracy: 0.6466 - loss: 1.1369 - val_accuracy: 0.6569 - val_loss: 1.0680\n",
      "Epoch 4/25\n",
      "\u001b[1m115/115\u001b[0m \u001b[32m━━━━━━━━━━━━━━━━━━━━\u001b[0m\u001b[37m\u001b[0m \u001b[1m0s\u001b[0m 2ms/step - accuracy: 0.6505 - loss: 1.0997 - val_accuracy: 0.6585 - val_loss: 1.0470\n",
      "Epoch 5/25\n",
      "\u001b[1m115/115\u001b[0m \u001b[32m━━━━━━━━━━━━━━━━━━━━\u001b[0m\u001b[37m\u001b[0m \u001b[1m0s\u001b[0m 2ms/step - accuracy: 0.6456 - loss: 1.1009 - val_accuracy: 0.6525 - val_loss: 1.0391\n",
      "Epoch 6/25\n",
      "\u001b[1m115/115\u001b[0m \u001b[32m━━━━━━━━━━━━━━━━━━━━\u001b[0m\u001b[37m\u001b[0m \u001b[1m0s\u001b[0m 1ms/step - accuracy: 0.6395 - loss: 1.0908 - val_accuracy: 0.6569 - val_loss: 1.0318\n",
      "Epoch 7/25\n",
      "\u001b[1m115/115\u001b[0m \u001b[32m━━━━━━━━━━━━━━━━━━━━\u001b[0m\u001b[37m\u001b[0m \u001b[1m0s\u001b[0m 2ms/step - accuracy: 0.6501 - loss: 1.0768 - val_accuracy: 0.6590 - val_loss: 1.0252\n",
      "Epoch 8/25\n",
      "\u001b[1m115/115\u001b[0m \u001b[32m━━━━━━━━━━━━━━━━━━━━\u001b[0m\u001b[37m\u001b[0m \u001b[1m0s\u001b[0m 2ms/step - accuracy: 0.6520 - loss: 1.0443 - val_accuracy: 0.6531 - val_loss: 1.0160\n",
      "Epoch 9/25\n",
      "\u001b[1m115/115\u001b[0m \u001b[32m━━━━━━━━━━━━━━━━━━━━\u001b[0m\u001b[37m\u001b[0m \u001b[1m0s\u001b[0m 2ms/step - accuracy: 0.6523 - loss: 1.0526 - val_accuracy: 0.6585 - val_loss: 1.0097\n",
      "Epoch 10/25\n",
      "\u001b[1m115/115\u001b[0m \u001b[32m━━━━━━━━━━━━━━━━━━━━\u001b[0m\u001b[37m\u001b[0m \u001b[1m0s\u001b[0m 2ms/step - accuracy: 0.6419 - loss: 1.0705 - val_accuracy: 0.6585 - val_loss: 1.0042\n",
      "Epoch 11/25\n",
      "\u001b[1m115/115\u001b[0m \u001b[32m━━━━━━━━━━━━━━━━━━━━\u001b[0m\u001b[37m\u001b[0m \u001b[1m0s\u001b[0m 2ms/step - accuracy: 0.6500 - loss: 1.0459 - val_accuracy: 0.6629 - val_loss: 1.0009\n",
      "Epoch 12/25\n",
      "\u001b[1m115/115\u001b[0m \u001b[32m━━━━━━━━━━━━━━━━━━━━\u001b[0m\u001b[37m\u001b[0m \u001b[1m0s\u001b[0m 2ms/step - accuracy: 0.6635 - loss: 1.0162 - val_accuracy: 0.6536 - val_loss: 0.9931\n",
      "Epoch 13/25\n",
      "\u001b[1m115/115\u001b[0m \u001b[32m━━━━━━━━━━━━━━━━━━━━\u001b[0m\u001b[37m\u001b[0m \u001b[1m0s\u001b[0m 1ms/step - accuracy: 0.6598 - loss: 1.0263 - val_accuracy: 0.6574 - val_loss: 0.9942\n",
      "Epoch 14/25\n",
      "\u001b[1m115/115\u001b[0m \u001b[32m━━━━━━━━━━━━━━━━━━━━\u001b[0m\u001b[37m\u001b[0m \u001b[1m0s\u001b[0m 1ms/step - accuracy: 0.6519 - loss: 1.0238 - val_accuracy: 0.6623 - val_loss: 0.9913\n",
      "Epoch 15/25\n",
      "\u001b[1m115/115\u001b[0m \u001b[32m━━━━━━━━━━━━━━━━━━━━\u001b[0m\u001b[37m\u001b[0m \u001b[1m0s\u001b[0m 2ms/step - accuracy: 0.6526 - loss: 1.0312 - val_accuracy: 0.6590 - val_loss: 0.9808\n",
      "Epoch 16/25\n",
      "\u001b[1m115/115\u001b[0m \u001b[32m━━━━━━━━━━━━━━━━━━━━\u001b[0m\u001b[37m\u001b[0m \u001b[1m0s\u001b[0m 1ms/step - accuracy: 0.6644 - loss: 0.9967 - val_accuracy: 0.6596 - val_loss: 0.9798\n",
      "Epoch 17/25\n",
      "\u001b[1m115/115\u001b[0m \u001b[32m━━━━━━━━━━━━━━━━━━━━\u001b[0m\u001b[37m\u001b[0m \u001b[1m0s\u001b[0m 1ms/step - accuracy: 0.6627 - loss: 0.9931 - val_accuracy: 0.6705 - val_loss: 0.9725\n",
      "Epoch 18/25\n",
      "\u001b[1m115/115\u001b[0m \u001b[32m━━━━━━━━━━━━━━━━━━━━\u001b[0m\u001b[37m\u001b[0m \u001b[1m0s\u001b[0m 2ms/step - accuracy: 0.6678 - loss: 0.9693 - val_accuracy: 0.6590 - val_loss: 0.9689\n",
      "Epoch 19/25\n",
      "\u001b[1m115/115\u001b[0m \u001b[32m━━━━━━━━━━━━━━━━━━━━\u001b[0m\u001b[37m\u001b[0m \u001b[1m0s\u001b[0m 2ms/step - accuracy: 0.6641 - loss: 0.9978 - val_accuracy: 0.6618 - val_loss: 0.9625\n",
      "Epoch 20/25\n",
      "\u001b[1m115/115\u001b[0m \u001b[32m━━━━━━━━━━━━━━━━━━━━\u001b[0m\u001b[37m\u001b[0m \u001b[1m0s\u001b[0m 2ms/step - accuracy: 0.6661 - loss: 0.9790 - val_accuracy: 0.6694 - val_loss: 0.9587\n",
      "Epoch 21/25\n",
      "\u001b[1m115/115\u001b[0m \u001b[32m━━━━━━━━━━━━━━━━━━━━\u001b[0m\u001b[37m\u001b[0m \u001b[1m0s\u001b[0m 2ms/step - accuracy: 0.6670 - loss: 0.9800 - val_accuracy: 0.6656 - val_loss: 0.9530\n",
      "Epoch 22/25\n",
      "\u001b[1m115/115\u001b[0m \u001b[32m━━━━━━━━━━━━━━━━━━━━\u001b[0m\u001b[37m\u001b[0m \u001b[1m0s\u001b[0m 2ms/step - accuracy: 0.6623 - loss: 0.9770 - val_accuracy: 0.6656 - val_loss: 0.9514\n",
      "Epoch 23/25\n",
      "\u001b[1m115/115\u001b[0m \u001b[32m━━━━━━━━━━━━━━━━━━━━\u001b[0m\u001b[37m\u001b[0m \u001b[1m0s\u001b[0m 1ms/step - accuracy: 0.6545 - loss: 0.9947 - val_accuracy: 0.6727 - val_loss: 0.9384\n",
      "Epoch 24/25\n",
      "\u001b[1m115/115\u001b[0m \u001b[32m━━━━━━━━━━━━━━━━━━━━\u001b[0m\u001b[37m\u001b[0m \u001b[1m0s\u001b[0m 2ms/step - accuracy: 0.6563 - loss: 0.9778 - val_accuracy: 0.6732 - val_loss: 0.9401\n",
      "Epoch 25/25\n",
      "\u001b[1m115/115\u001b[0m \u001b[32m━━━━━━━━━━━━━━━━━━━━\u001b[0m\u001b[37m\u001b[0m \u001b[1m0s\u001b[0m 2ms/step - accuracy: 0.6621 - loss: 0.9615 - val_accuracy: 0.6743 - val_loss: 0.9414\n"
     ]
    }
   ],
   "source": [
    "# Train the model\n",
    "history1 = model1.fit(X_train_scaled, y_train, epochs=25, batch_size=64, validation_split=0.2, verbose=1)"
   ]
  },
  {
   "cell_type": "code",
   "execution_count": 45,
   "id": "6274f2f4-2552-4857-9b54-c98a9fd4385f",
   "metadata": {},
   "outputs": [
    {
     "data": {
      "text/html": [
       "<div>\n",
       "<style scoped>\n",
       "    .dataframe tbody tr th:only-of-type {\n",
       "        vertical-align: middle;\n",
       "    }\n",
       "\n",
       "    .dataframe tbody tr th {\n",
       "        vertical-align: top;\n",
       "    }\n",
       "\n",
       "    .dataframe thead th {\n",
       "        text-align: right;\n",
       "    }\n",
       "</style>\n",
       "<table border=\"1\" class=\"dataframe\">\n",
       "  <thead>\n",
       "    <tr style=\"text-align: right;\">\n",
       "      <th></th>\n",
       "      <th>accuracy</th>\n",
       "      <th>loss</th>\n",
       "      <th>val_accuracy</th>\n",
       "      <th>val_loss</th>\n",
       "    </tr>\n",
       "  </thead>\n",
       "  <tbody>\n",
       "    <tr>\n",
       "      <th>0</th>\n",
       "      <td>0.618769</td>\n",
       "      <td>1.438025</td>\n",
       "      <td>0.658497</td>\n",
       "      <td>1.135926</td>\n",
       "    </tr>\n",
       "    <tr>\n",
       "      <th>1</th>\n",
       "      <td>0.644375</td>\n",
       "      <td>1.176042</td>\n",
       "      <td>0.661220</td>\n",
       "      <td>1.083477</td>\n",
       "    </tr>\n",
       "    <tr>\n",
       "      <th>2</th>\n",
       "      <td>0.645601</td>\n",
       "      <td>1.139906</td>\n",
       "      <td>0.656863</td>\n",
       "      <td>1.067954</td>\n",
       "    </tr>\n",
       "    <tr>\n",
       "      <th>3</th>\n",
       "      <td>0.645464</td>\n",
       "      <td>1.107733</td>\n",
       "      <td>0.658497</td>\n",
       "      <td>1.047037</td>\n",
       "    </tr>\n",
       "    <tr>\n",
       "      <th>4</th>\n",
       "      <td>0.644511</td>\n",
       "      <td>1.091818</td>\n",
       "      <td>0.652505</td>\n",
       "      <td>1.039142</td>\n",
       "    </tr>\n",
       "    <tr>\n",
       "      <th>5</th>\n",
       "      <td>0.645873</td>\n",
       "      <td>1.082913</td>\n",
       "      <td>0.656863</td>\n",
       "      <td>1.031772</td>\n",
       "    </tr>\n",
       "    <tr>\n",
       "      <th>6</th>\n",
       "      <td>0.648597</td>\n",
       "      <td>1.077334</td>\n",
       "      <td>0.659041</td>\n",
       "      <td>1.025166</td>\n",
       "    </tr>\n",
       "    <tr>\n",
       "      <th>7</th>\n",
       "      <td>0.653909</td>\n",
       "      <td>1.057268</td>\n",
       "      <td>0.653050</td>\n",
       "      <td>1.015966</td>\n",
       "    </tr>\n",
       "    <tr>\n",
       "      <th>8</th>\n",
       "      <td>0.651730</td>\n",
       "      <td>1.050727</td>\n",
       "      <td>0.658497</td>\n",
       "      <td>1.009672</td>\n",
       "    </tr>\n",
       "    <tr>\n",
       "      <th>9</th>\n",
       "      <td>0.648052</td>\n",
       "      <td>1.052730</td>\n",
       "      <td>0.658497</td>\n",
       "      <td>1.004208</td>\n",
       "    </tr>\n",
       "    <tr>\n",
       "      <th>10</th>\n",
       "      <td>0.654181</td>\n",
       "      <td>1.034971</td>\n",
       "      <td>0.662854</td>\n",
       "      <td>1.000925</td>\n",
       "    </tr>\n",
       "    <tr>\n",
       "      <th>11</th>\n",
       "      <td>0.656497</td>\n",
       "      <td>1.025276</td>\n",
       "      <td>0.653595</td>\n",
       "      <td>0.993093</td>\n",
       "    </tr>\n",
       "    <tr>\n",
       "      <th>12</th>\n",
       "      <td>0.657723</td>\n",
       "      <td>1.024522</td>\n",
       "      <td>0.657407</td>\n",
       "      <td>0.994186</td>\n",
       "    </tr>\n",
       "    <tr>\n",
       "      <th>13</th>\n",
       "      <td>0.654181</td>\n",
       "      <td>1.022213</td>\n",
       "      <td>0.662309</td>\n",
       "      <td>0.991257</td>\n",
       "    </tr>\n",
       "    <tr>\n",
       "      <th>14</th>\n",
       "      <td>0.656905</td>\n",
       "      <td>1.014335</td>\n",
       "      <td>0.659041</td>\n",
       "      <td>0.980786</td>\n",
       "    </tr>\n",
       "    <tr>\n",
       "      <th>15</th>\n",
       "      <td>0.660447</td>\n",
       "      <td>1.004284</td>\n",
       "      <td>0.659586</td>\n",
       "      <td>0.979761</td>\n",
       "    </tr>\n",
       "    <tr>\n",
       "      <th>16</th>\n",
       "      <td>0.657995</td>\n",
       "      <td>1.002462</td>\n",
       "      <td>0.670479</td>\n",
       "      <td>0.972522</td>\n",
       "    </tr>\n",
       "    <tr>\n",
       "      <th>17</th>\n",
       "      <td>0.658812</td>\n",
       "      <td>0.989377</td>\n",
       "      <td>0.659041</td>\n",
       "      <td>0.968892</td>\n",
       "    </tr>\n",
       "    <tr>\n",
       "      <th>18</th>\n",
       "      <td>0.662217</td>\n",
       "      <td>0.985240</td>\n",
       "      <td>0.661765</td>\n",
       "      <td>0.962535</td>\n",
       "    </tr>\n",
       "    <tr>\n",
       "      <th>19</th>\n",
       "      <td>0.661128</td>\n",
       "      <td>0.985142</td>\n",
       "      <td>0.669390</td>\n",
       "      <td>0.958687</td>\n",
       "    </tr>\n",
       "    <tr>\n",
       "      <th>20</th>\n",
       "      <td>0.665759</td>\n",
       "      <td>0.982552</td>\n",
       "      <td>0.665577</td>\n",
       "      <td>0.952956</td>\n",
       "    </tr>\n",
       "    <tr>\n",
       "      <th>21</th>\n",
       "      <td>0.662217</td>\n",
       "      <td>0.978689</td>\n",
       "      <td>0.665577</td>\n",
       "      <td>0.951389</td>\n",
       "    </tr>\n",
       "    <tr>\n",
       "      <th>22</th>\n",
       "      <td>0.660174</td>\n",
       "      <td>0.968955</td>\n",
       "      <td>0.672658</td>\n",
       "      <td>0.938358</td>\n",
       "    </tr>\n",
       "    <tr>\n",
       "      <th>23</th>\n",
       "      <td>0.664397</td>\n",
       "      <td>0.967597</td>\n",
       "      <td>0.673203</td>\n",
       "      <td>0.940073</td>\n",
       "    </tr>\n",
       "    <tr>\n",
       "      <th>24</th>\n",
       "      <td>0.663852</td>\n",
       "      <td>0.966504</td>\n",
       "      <td>0.674292</td>\n",
       "      <td>0.941440</td>\n",
       "    </tr>\n",
       "  </tbody>\n",
       "</table>\n",
       "</div>"
      ],
      "text/plain": [
       "    accuracy      loss  val_accuracy  val_loss\n",
       "0   0.618769  1.438025      0.658497  1.135926\n",
       "1   0.644375  1.176042      0.661220  1.083477\n",
       "2   0.645601  1.139906      0.656863  1.067954\n",
       "3   0.645464  1.107733      0.658497  1.047037\n",
       "4   0.644511  1.091818      0.652505  1.039142\n",
       "5   0.645873  1.082913      0.656863  1.031772\n",
       "6   0.648597  1.077334      0.659041  1.025166\n",
       "7   0.653909  1.057268      0.653050  1.015966\n",
       "8   0.651730  1.050727      0.658497  1.009672\n",
       "9   0.648052  1.052730      0.658497  1.004208\n",
       "10  0.654181  1.034971      0.662854  1.000925\n",
       "11  0.656497  1.025276      0.653595  0.993093\n",
       "12  0.657723  1.024522      0.657407  0.994186\n",
       "13  0.654181  1.022213      0.662309  0.991257\n",
       "14  0.656905  1.014335      0.659041  0.980786\n",
       "15  0.660447  1.004284      0.659586  0.979761\n",
       "16  0.657995  1.002462      0.670479  0.972522\n",
       "17  0.658812  0.989377      0.659041  0.968892\n",
       "18  0.662217  0.985240      0.661765  0.962535\n",
       "19  0.661128  0.985142      0.669390  0.958687\n",
       "20  0.665759  0.982552      0.665577  0.952956\n",
       "21  0.662217  0.978689      0.665577  0.951389\n",
       "22  0.660174  0.968955      0.672658  0.938358\n",
       "23  0.664397  0.967597      0.673203  0.940073\n",
       "24  0.663852  0.966504      0.674292  0.941440"
      ]
     },
     "execution_count": 45,
     "metadata": {},
     "output_type": "execute_result"
    }
   ],
   "source": [
    "history1_df = pd.DataFrame(history1.history)\n",
    "history1_df"
   ]
  },
  {
   "cell_type": "code",
   "execution_count": 46,
   "id": "8c5f95bb-1321-4a01-8598-61e8548cc934",
   "metadata": {},
   "outputs": [
    {
     "data": {
      "image/png": "[encoded data removed]",
      "text/plain": [
       "<Figure size 2000x500 with 2 Axes>"
      ]
     },
     "metadata": {},
     "output_type": "display_data"
    }
   ],
   "source": [
    "training_loss = history1_df['loss']\n",
    "val_loss = history1_df['val_loss']\n",
    "training_accurancy = history1_df['accuracy']\n",
    "val_accurancy = history1_df ['val_accuracy']\n",
    "\n",
    "#plot the loss\n",
    "fig5, ax5 = plt.subplots(1,2, figsize =(20,5))\n",
    "ax5[0].plot(training_loss)\n",
    "ax5[0].plot(val_loss)\n",
    "ax5[0].set_xlabel('Epoch', fontsize =20)\n",
    "ax5[0].set_ylabel('Loss', fontsize =20)\n",
    "ax5[0].set_title('MLP_Model1_loss')\n",
    "ax5[0].legend(['Train', 'Validation'], loc='upper left')\n",
    "\n",
    "#plot the accurancy\n",
    "ax5[1].plot(training_accurancy)\n",
    "ax5[1].plot(val_accurancy )\n",
    "ax5[1].set_xlabel('Epoch', fontsize =20)\n",
    "ax5[1].set_ylabel('Accurancy', fontsize =20)\n",
    "ax5[1].set_title('MLP_Model1_Accuracy')\n",
    "ax5[1].legend(['Train', 'Validation'], loc='upper left') \n",
    "\n",
    "plt.tight_layout()\n",
    "plt.show()"
   ]
  },
  {
   "cell_type": "code",
   "execution_count": 47,
   "id": "c0a9b3c1-8c54-4796-a479-117cab0c5168",
   "metadata": {},
   "outputs": [
    {
     "name": "stdout",
     "output_type": "stream",
     "text": [
      "\u001b[1m123/123\u001b[0m \u001b[32m━━━━━━━━━━━━━━━━━━━━\u001b[0m\u001b[37m\u001b[0m \u001b[1m0s\u001b[0m 1ms/step  \n",
      "MLP Accuracy: 0.67\n",
      "MLP Classification Report:\n",
      "              precision    recall  f1-score   support\n",
      "\n",
      "Agricultural       1.00      0.00      0.01       206\n",
      "  Commercial       1.00      0.01      0.01       141\n",
      "  Industrial       0.41      0.13      0.20       231\n",
      "     Natural       0.59      0.16      0.25       539\n",
      "Recreational       0.00      0.00      0.00       129\n",
      " Residential       0.68      0.98      0.80      2554\n",
      "   Transport       0.00      0.00      0.00        32\n",
      "       Water       1.00      0.04      0.08       102\n",
      "\n",
      "    accuracy                           0.67      3934\n",
      "   macro avg       0.58      0.17      0.17      3934\n",
      "weighted avg       0.66      0.67      0.57      3934\n",
      "\n"
     ]
    },
    {
     "name": "stderr",
     "output_type": "stream",
     "text": [
      "C:\\Users\\user\\anaconda3\\Lib\\site-packages\\sklearn\\metrics\\_classification.py:1344: UndefinedMetricWarning: Precision and F-score are ill-defined and being set to 0.0 in labels with no predicted samples. Use `zero_division` parameter to control this behavior.\n",
      "  _warn_prf(average, modifier, msg_start, len(result))\n",
      "C:\\Users\\user\\anaconda3\\Lib\\site-packages\\sklearn\\metrics\\_classification.py:1344: UndefinedMetricWarning: Precision and F-score are ill-defined and being set to 0.0 in labels with no predicted samples. Use `zero_division` parameter to control this behavior.\n",
      "  _warn_prf(average, modifier, msg_start, len(result))\n",
      "C:\\Users\\user\\anaconda3\\Lib\\site-packages\\sklearn\\metrics\\_classification.py:1344: UndefinedMetricWarning: Precision and F-score are ill-defined and being set to 0.0 in labels with no predicted samples. Use `zero_division` parameter to control this behavior.\n",
      "  _warn_prf(average, modifier, msg_start, len(result))\n"
     ]
    }
   ],
   "source": [
    "# Evaluate the model on the test data\n",
    "y_pred_prob = model1.predict(X_test_scaled)\n",
    "y_pred = np.argmax(y_pred_prob, axis=1)\n",
    "y_test_true = np.argmax(y_test, axis=1)\n",
    "\n",
    "# Calculate accuracy\n",
    "accuracy_mlp = accuracy_score(y_test_true, y_pred)\n",
    "print(f\"MLP Accuracy: {accuracy_mlp:.2f}\")\n",
    "\n",
    "# Print classification report\n",
    "print(\"MLP Classification Report:\")\n",
    "print(classification_report(y_test_true, y_pred, target_names=label_encoder.classes_))"
   ]
  },
  {
   "cell_type": "code",
   "execution_count": 48,
   "id": "f262db4f-ba8c-4659-99ff-35a381169373",
   "metadata": {},
   "outputs": [
    {
     "name": "stdout",
     "output_type": "stream",
     "text": [
      "Average F1-score: 0.17\n",
      "Average Precision: 0.58\n",
      "Average Recall: 0.17\n",
      "Average AUC: 0.82\n"
     ]
    },
    {
     "name": "stderr",
     "output_type": "stream",
     "text": [
      "C:\\Users\\user\\anaconda3\\Lib\\site-packages\\sklearn\\metrics\\_classification.py:1344: UndefinedMetricWarning: Precision and F-score are ill-defined and being set to 0.0 in labels with no predicted samples. Use `zero_division` parameter to control this behavior.\n",
      "  _warn_prf(average, modifier, msg_start, len(result))\n",
      "C:\\Users\\user\\anaconda3\\Lib\\site-packages\\sklearn\\metrics\\_classification.py:1344: UndefinedMetricWarning: Precision and F-score are ill-defined and being set to 0.0 in labels with no predicted samples. Use `zero_division` parameter to control this behavior.\n",
      "  _warn_prf(average, modifier, msg_start, len(result))\n",
      "C:\\Users\\user\\anaconda3\\Lib\\site-packages\\sklearn\\metrics\\_classification.py:1344: UndefinedMetricWarning: Precision and F-score are ill-defined and being set to 0.0 in labels with no predicted samples. Use `zero_division` parameter to control this behavior.\n",
      "  _warn_prf(average, modifier, msg_start, len(result))\n"
     ]
    }
   ],
   "source": [
    "# Calculate average metrics from the classification report\n",
    "report_mlp = classification_report(y_test_true, y_pred, target_names=label_encoder.classes_, output_dict=True)\n",
    "\n",
    "avg_f1_mlp = report_mlp['macro avg']['f1-score']\n",
    "avg_precision_mlp = report_mlp['macro avg']['precision']\n",
    "avg_recall_mlp = report_mlp['macro avg']['recall']\n",
    "\n",
    "print(f\"Average F1-score: {avg_f1_mlp:.2f}\")\n",
    "print(f\"Average Precision: {avg_precision_mlp:.2f}\")\n",
    "print(f\"Average Recall: {avg_recall_mlp:.2f}\")\n",
    "\n",
    "# Binarize the output for AUC calculation\n",
    "y_test_bin = label_binarize(np.argmax(y_test, axis=1), classes=np.arange(len(label_encoder.classes_)))\n",
    "\n",
    "# Compute AUC for each class\n",
    "auc_mlp = roc_auc_score(y_test_bin, y_pred_prob, average=\"macro\", multi_class=\"ovr\")\n",
    "\n",
    "print(f\"Average AUC: {auc_mlp:.2f}\")"
   ]
  },
  {
   "cell_type": "code",
   "execution_count": 49,
   "id": "0867c880-c8cf-4e9b-aca3-16dfa5147871",
   "metadata": {},
   "outputs": [
    {
     "data": {
      "image/png": "[encoded data removed]",
      "text/plain": [
       "<Figure size 1000x800 with 2 Axes>"
      ]
     },
     "metadata": {},
     "output_type": "display_data"
    }
   ],
   "source": [
    "# Plot the confusion matrix\n",
    "conf_matrix_mlp = confusion_matrix(y_test_true, y_pred)\n",
    "plt.figure(figsize=(10, 8))\n",
    "sns.heatmap(conf_matrix_mlp, annot=True, fmt='d', cmap='Blues', xticklabels=label_encoder.classes_, yticklabels=label_encoder.classes_)\n",
    "plt.xlabel('Predicted Label')\n",
    "plt.ylabel('True Label')\n",
    "plt.title('MLP Confusion Matrix')\n",
    "plt.show()"
   ]
  },
  {
   "cell_type": "code",
   "execution_count": null,
   "id": "2410b0b6-31b3-473c-9c6b-5a2f20d6a92b",
   "metadata": {},
   "outputs": [],
   "source": []
  },
  {
   "cell_type": "markdown",
   "id": "cfdc65ca-c1ce-404c-a0ec-d86fe8c08d90",
   "metadata": {},
   "source": [
    "#### Optimizing MLP"
   ]
  },
  {
   "cell_type": "code",
   "execution_count": 50,
   "id": "bc4ce4b3-617f-429d-bc61-afece2914f3f",
   "metadata": {},
   "outputs": [],
   "source": [
    "from keras.optimizers import Adam\n",
    "from keras.callbacks import EarlyStopping, ReduceLROnPlateau"
   ]
  },
  {
   "cell_type": "code",
   "execution_count": 51,
   "id": "742f3404-bc09-4311-bdb3-663c74683324",
   "metadata": {},
   "outputs": [
    {
     "name": "stderr",
     "output_type": "stream",
     "text": [
      "C:\\Users\\user\\anaconda3\\Lib\\site-packages\\keras\\src\\layers\\core\\dense.py:87: UserWarning: Do not pass an `input_shape`/`input_dim` argument to a layer. When using Sequential models, prefer using an `Input(shape)` object as the first layer in the model instead.\n",
      "  super().__init__(activity_regularizer=activity_regularizer, **kwargs)\n"
     ]
    },
    {
     "data": {
      "text/html": [
       "<pre style=\"white-space:pre;overflow-x:auto;line-height:normal;font-family:Menlo,'DejaVu Sans Mono',consolas,'Courier New',monospace\"><span style=\"font-weight: bold\">Model: \"sequential_1\"</span>\n",
       "</pre>\n"
      ],
      "text/plain": [
       "\u001b[1mModel: \"sequential_1\"\u001b[0m\n"
      ]
     },
     "metadata": {},
     "output_type": "display_data"
    },
    {
     "data": {
      "text/html": [
       "<pre style=\"white-space:pre;overflow-x:auto;line-height:normal;font-family:Menlo,'DejaVu Sans Mono',consolas,'Courier New',monospace\">┏━━━━━━━━━━━━━━━━━━━━━━━━━━━━━━━━━━━━━━┳━━━━━━━━━━━━━━━━━━━━━━━━━━━━━┳━━━━━━━━━━━━━━━━━┓\n",
       "┃<span style=\"font-weight: bold\"> Layer (type)                         </span>┃<span style=\"font-weight: bold\"> Output Shape                </span>┃<span style=\"font-weight: bold\">         Param # </span>┃\n",
       "┡━━━━━━━━━━━━━━━━━━━━━━━━━━━━━━━━━━━━━━╇━━━━━━━━━━━━━━━━━━━━━━━━━━━━━╇━━━━━━━━━━━━━━━━━┩\n",
       "│ dense_3 (<span style=\"color: #0087ff; text-decoration-color: #0087ff\">Dense</span>)                      │ (<span style=\"color: #00d7ff; text-decoration-color: #00d7ff\">None</span>, <span style=\"color: #00af00; text-decoration-color: #00af00\">128</span>)                 │           <span style=\"color: #00af00; text-decoration-color: #00af00\">2,304</span> │\n",
       "├──────────────────────────────────────┼─────────────────────────────┼─────────────────┤\n",
       "│ dropout_2 (<span style=\"color: #0087ff; text-decoration-color: #0087ff\">Dropout</span>)                  │ (<span style=\"color: #00d7ff; text-decoration-color: #00d7ff\">None</span>, <span style=\"color: #00af00; text-decoration-color: #00af00\">128</span>)                 │               <span style=\"color: #00af00; text-decoration-color: #00af00\">0</span> │\n",
       "├──────────────────────────────────────┼─────────────────────────────┼─────────────────┤\n",
       "│ dense_4 (<span style=\"color: #0087ff; text-decoration-color: #0087ff\">Dense</span>)                      │ (<span style=\"color: #00d7ff; text-decoration-color: #00d7ff\">None</span>, <span style=\"color: #00af00; text-decoration-color: #00af00\">128</span>)                 │          <span style=\"color: #00af00; text-decoration-color: #00af00\">16,512</span> │\n",
       "├──────────────────────────────────────┼─────────────────────────────┼─────────────────┤\n",
       "│ dropout_3 (<span style=\"color: #0087ff; text-decoration-color: #0087ff\">Dropout</span>)                  │ (<span style=\"color: #00d7ff; text-decoration-color: #00d7ff\">None</span>, <span style=\"color: #00af00; text-decoration-color: #00af00\">128</span>)                 │               <span style=\"color: #00af00; text-decoration-color: #00af00\">0</span> │\n",
       "├──────────────────────────────────────┼─────────────────────────────┼─────────────────┤\n",
       "│ dense_5 (<span style=\"color: #0087ff; text-decoration-color: #0087ff\">Dense</span>)                      │ (<span style=\"color: #00d7ff; text-decoration-color: #00d7ff\">None</span>, <span style=\"color: #00af00; text-decoration-color: #00af00\">64</span>)                  │           <span style=\"color: #00af00; text-decoration-color: #00af00\">8,256</span> │\n",
       "├──────────────────────────────────────┼─────────────────────────────┼─────────────────┤\n",
       "│ dropout_4 (<span style=\"color: #0087ff; text-decoration-color: #0087ff\">Dropout</span>)                  │ (<span style=\"color: #00d7ff; text-decoration-color: #00d7ff\">None</span>, <span style=\"color: #00af00; text-decoration-color: #00af00\">64</span>)                  │               <span style=\"color: #00af00; text-decoration-color: #00af00\">0</span> │\n",
       "├──────────────────────────────────────┼─────────────────────────────┼─────────────────┤\n",
       "│ dense_6 (<span style=\"color: #0087ff; text-decoration-color: #0087ff\">Dense</span>)                      │ (<span style=\"color: #00d7ff; text-decoration-color: #00d7ff\">None</span>, <span style=\"color: #00af00; text-decoration-color: #00af00\">8</span>)                   │             <span style=\"color: #00af00; text-decoration-color: #00af00\">520</span> │\n",
       "└──────────────────────────────────────┴─────────────────────────────┴─────────────────┘\n",
       "</pre>\n"
      ],
      "text/plain": [
       "┏━━━━━━━━━━━━━━━━━━━━━━━━━━━━━━━━━━━━━━┳━━━━━━━━━━━━━━━━━━━━━━━━━━━━━┳━━━━━━━━━━━━━━━━━┓\n",
       "┃\u001b[1m \u001b[0m\u001b[1mLayer (type)                        \u001b[0m\u001b[1m \u001b[0m┃\u001b[1m \u001b[0m\u001b[1mOutput Shape               \u001b[0m\u001b[1m \u001b[0m┃\u001b[1m \u001b[0m\u001b[1m        Param #\u001b[0m\u001b[1m \u001b[0m┃\n",
       "┡━━━━━━━━━━━━━━━━━━━━━━━━━━━━━━━━━━━━━━╇━━━━━━━━━━━━━━━━━━━━━━━━━━━━━╇━━━━━━━━━━━━━━━━━┩\n",
       "│ dense_3 (\u001b[38;5;33mDense\u001b[0m)                      │ (\u001b[38;5;45mNone\u001b[0m, \u001b[38;5;34m128\u001b[0m)                 │           \u001b[38;5;34m2,304\u001b[0m │\n",
       "├──────────────────────────────────────┼─────────────────────────────┼─────────────────┤\n",
       "│ dropout_2 (\u001b[38;5;33mDropout\u001b[0m)                  │ (\u001b[38;5;45mNone\u001b[0m, \u001b[38;5;34m128\u001b[0m)                 │               \u001b[38;5;34m0\u001b[0m │\n",
       "├──────────────────────────────────────┼─────────────────────────────┼─────────────────┤\n",
       "│ dense_4 (\u001b[38;5;33mDense\u001b[0m)                      │ (\u001b[38;5;45mNone\u001b[0m, \u001b[38;5;34m128\u001b[0m)                 │          \u001b[38;5;34m16,512\u001b[0m │\n",
       "├──────────────────────────────────────┼─────────────────────────────┼─────────────────┤\n",
       "│ dropout_3 (\u001b[38;5;33mDropout\u001b[0m)                  │ (\u001b[38;5;45mNone\u001b[0m, \u001b[38;5;34m128\u001b[0m)                 │               \u001b[38;5;34m0\u001b[0m │\n",
       "├──────────────────────────────────────┼─────────────────────────────┼─────────────────┤\n",
       "│ dense_5 (\u001b[38;5;33mDense\u001b[0m)                      │ (\u001b[38;5;45mNone\u001b[0m, \u001b[38;5;34m64\u001b[0m)                  │           \u001b[38;5;34m8,256\u001b[0m │\n",
       "├──────────────────────────────────────┼─────────────────────────────┼─────────────────┤\n",
       "│ dropout_4 (\u001b[38;5;33mDropout\u001b[0m)                  │ (\u001b[38;5;45mNone\u001b[0m, \u001b[38;5;34m64\u001b[0m)                  │               \u001b[38;5;34m0\u001b[0m │\n",
       "├──────────────────────────────────────┼─────────────────────────────┼─────────────────┤\n",
       "│ dense_6 (\u001b[38;5;33mDense\u001b[0m)                      │ (\u001b[38;5;45mNone\u001b[0m, \u001b[38;5;34m8\u001b[0m)                   │             \u001b[38;5;34m520\u001b[0m │\n",
       "└──────────────────────────────────────┴─────────────────────────────┴─────────────────┘\n"
      ]
     },
     "metadata": {},
     "output_type": "display_data"
    },
    {
     "data": {
      "text/html": [
       "<pre style=\"white-space:pre;overflow-x:auto;line-height:normal;font-family:Menlo,'DejaVu Sans Mono',consolas,'Courier New',monospace\"><span style=\"font-weight: bold\"> Total params: </span><span style=\"color: #00af00; text-decoration-color: #00af00\">27,592</span> (107.78 KB)\n",
       "</pre>\n"
      ],
      "text/plain": [
       "\u001b[1m Total params: \u001b[0m\u001b[38;5;34m27,592\u001b[0m (107.78 KB)\n"
      ]
     },
     "metadata": {},
     "output_type": "display_data"
    },
    {
     "data": {
      "text/html": [
       "<pre style=\"white-space:pre;overflow-x:auto;line-height:normal;font-family:Menlo,'DejaVu Sans Mono',consolas,'Courier New',monospace\"><span style=\"font-weight: bold\"> Trainable params: </span><span style=\"color: #00af00; text-decoration-color: #00af00\">27,592</span> (107.78 KB)\n",
       "</pre>\n"
      ],
      "text/plain": [
       "\u001b[1m Trainable params: \u001b[0m\u001b[38;5;34m27,592\u001b[0m (107.78 KB)\n"
      ]
     },
     "metadata": {},
     "output_type": "display_data"
    },
    {
     "data": {
      "text/html": [
       "<pre style=\"white-space:pre;overflow-x:auto;line-height:normal;font-family:Menlo,'DejaVu Sans Mono',consolas,'Courier New',monospace\"><span style=\"font-weight: bold\"> Non-trainable params: </span><span style=\"color: #00af00; text-decoration-color: #00af00\">0</span> (0.00 B)\n",
       "</pre>\n"
      ],
      "text/plain": [
       "\u001b[1m Non-trainable params: \u001b[0m\u001b[38;5;34m0\u001b[0m (0.00 B)\n"
      ]
     },
     "metadata": {},
     "output_type": "display_data"
    }
   ],
   "source": [
    "# Define the optimized MLP model\n",
    "model2 = Sequential()\n",
    "\n",
    "# Input layer with 128 units, an additional hidden layer with 128 units\n",
    "model2.add(Dense(128, input_dim=X_train_scaled.shape[1], activation='relu'))\n",
    "model2.add(Dropout(0.4))  # Increased dropout rate to reduce overfitting\n",
    "\n",
    "# Additional hidden layer with 128 units\n",
    "model2.add(Dense(128, activation='relu'))\n",
    "model2.add(Dropout(0.4))  # Same dropout rate\n",
    "\n",
    "# Another hidden layer with 64 units\n",
    "model2.add(Dense(64, activation='relu'))\n",
    "model2.add(Dropout(0.3))\n",
    "\n",
    "# Output layer\n",
    "model2.add(Dense(len(label_encoder.classes_), activation='softmax'))\n",
    "\n",
    "# Compile the model with a slightly lower learning rate\n",
    "optimizer = Adam(learning_rate=0.0005)\n",
    "model2.compile(optimizer=optimizer, loss='categorical_crossentropy', metrics=['accuracy'])\n",
    "\n",
    "# Display the model summary\n",
    "model2.summary()"
   ]
  },
  {
   "cell_type": "code",
   "execution_count": 52,
   "id": "f4b00aaf-0162-4549-9f8e-fff31c30e140",
   "metadata": {},
   "outputs": [
    {
     "name": "stdout",
     "output_type": "stream",
     "text": [
      "Epoch 1/50\n",
      "\u001b[1m230/230\u001b[0m \u001b[32m━━━━━━━━━━━━━━━━━━━━\u001b[0m\u001b[37m\u001b[0m \u001b[1m2s\u001b[0m 3ms/step - accuracy: 0.6001 - loss: 1.6092 - val_accuracy: 0.6574 - val_loss: 1.1445 - learning_rate: 5.0000e-04\n",
      "Epoch 2/50\n",
      "\u001b[1m230/230\u001b[0m \u001b[32m━━━━━━━━━━━━━━━━━━━━\u001b[0m\u001b[37m\u001b[0m \u001b[1m0s\u001b[0m 1ms/step - accuracy: 0.6473 - loss: 1.2370 - val_accuracy: 0.6547 - val_loss: 1.0932 - learning_rate: 5.0000e-04\n",
      "Epoch 3/50\n",
      "\u001b[1m230/230\u001b[0m \u001b[32m━━━━━━━━━━━━━━━━━━━━\u001b[0m\u001b[37m\u001b[0m \u001b[1m0s\u001b[0m 1ms/step - accuracy: 0.6482 - loss: 1.1600 - val_accuracy: 0.6552 - val_loss: 1.0784 - learning_rate: 5.0000e-04\n",
      "Epoch 4/50\n",
      "\u001b[1m230/230\u001b[0m \u001b[32m━━━━━━━━━━━━━━━━━━━━\u001b[0m\u001b[37m\u001b[0m \u001b[1m0s\u001b[0m 1ms/step - accuracy: 0.6447 - loss: 1.1484 - val_accuracy: 0.6612 - val_loss: 1.0574 - learning_rate: 5.0000e-04\n",
      "Epoch 5/50\n",
      "\u001b[1m230/230\u001b[0m \u001b[32m━━━━━━━━━━━━━━━━━━━━\u001b[0m\u001b[37m\u001b[0m \u001b[1m0s\u001b[0m 1ms/step - accuracy: 0.6502 - loss: 1.1174 - val_accuracy: 0.6574 - val_loss: 1.0564 - learning_rate: 5.0000e-04\n",
      "Epoch 6/50\n",
      "\u001b[1m230/230\u001b[0m \u001b[32m━━━━━━━━━━━━━━━━━━━━\u001b[0m\u001b[37m\u001b[0m \u001b[1m0s\u001b[0m 1ms/step - accuracy: 0.6459 - loss: 1.1102 - val_accuracy: 0.6552 - val_loss: 1.0460 - learning_rate: 5.0000e-04\n",
      "Epoch 7/50\n",
      "\u001b[1m230/230\u001b[0m \u001b[32m━━━━━━━━━━━━━━━━━━━━\u001b[0m\u001b[37m\u001b[0m \u001b[1m0s\u001b[0m 1ms/step - accuracy: 0.6486 - loss: 1.1144 - val_accuracy: 0.6563 - val_loss: 1.0410 - learning_rate: 5.0000e-04\n",
      "Epoch 8/50\n",
      "\u001b[1m230/230\u001b[0m \u001b[32m━━━━━━━━━━━━━━━━━━━━\u001b[0m\u001b[37m\u001b[0m \u001b[1m0s\u001b[0m 1ms/step - accuracy: 0.6474 - loss: 1.0930 - val_accuracy: 0.6580 - val_loss: 1.0335 - learning_rate: 5.0000e-04\n",
      "Epoch 9/50\n",
      "\u001b[1m230/230\u001b[0m \u001b[32m━━━━━━━━━━━━━━━━━━━━\u001b[0m\u001b[37m\u001b[0m \u001b[1m0s\u001b[0m 1ms/step - accuracy: 0.6466 - loss: 1.0942 - val_accuracy: 0.6541 - val_loss: 1.0280 - learning_rate: 5.0000e-04\n",
      "Epoch 10/50\n",
      "\u001b[1m230/230\u001b[0m \u001b[32m━━━━━━━━━━━━━━━━━━━━\u001b[0m\u001b[37m\u001b[0m \u001b[1m0s\u001b[0m 1ms/step - accuracy: 0.6401 - loss: 1.1043 - val_accuracy: 0.6531 - val_loss: 1.0221 - learning_rate: 5.0000e-04\n",
      "Epoch 11/50\n",
      "\u001b[1m230/230\u001b[0m \u001b[32m━━━━━━━━━━━━━━━━━━━━\u001b[0m\u001b[37m\u001b[0m \u001b[1m0s\u001b[0m 2ms/step - accuracy: 0.6521 - loss: 1.0603 - val_accuracy: 0.6541 - val_loss: 1.0158 - learning_rate: 5.0000e-04\n",
      "Epoch 12/50\n",
      "\u001b[1m230/230\u001b[0m \u001b[32m━━━━━━━━━━━━━━━━━━━━\u001b[0m\u001b[37m\u001b[0m \u001b[1m0s\u001b[0m 2ms/step - accuracy: 0.6431 - loss: 1.0707 - val_accuracy: 0.6585 - val_loss: 1.0128 - learning_rate: 5.0000e-04\n",
      "Epoch 13/50\n",
      "\u001b[1m230/230\u001b[0m \u001b[32m━━━━━━━━━━━━━━━━━━━━\u001b[0m\u001b[37m\u001b[0m \u001b[1m0s\u001b[0m 1ms/step - accuracy: 0.6488 - loss: 1.0613 - val_accuracy: 0.6623 - val_loss: 1.0059 - learning_rate: 5.0000e-04\n",
      "Epoch 14/50\n",
      "\u001b[1m230/230\u001b[0m \u001b[32m━━━━━━━━━━━━━━━━━━━━\u001b[0m\u001b[37m\u001b[0m \u001b[1m0s\u001b[0m 1ms/step - accuracy: 0.6465 - loss: 1.0692 - val_accuracy: 0.6629 - val_loss: 1.0017 - learning_rate: 5.0000e-04\n",
      "Epoch 15/50\n",
      "\u001b[1m230/230\u001b[0m \u001b[32m━━━━━━━━━━━━━━━━━━━━\u001b[0m\u001b[37m\u001b[0m \u001b[1m0s\u001b[0m 2ms/step - accuracy: 0.6482 - loss: 1.0524 - val_accuracy: 0.6661 - val_loss: 0.9983 - learning_rate: 5.0000e-04\n",
      "Epoch 16/50\n",
      "\u001b[1m230/230\u001b[0m \u001b[32m━━━━━━━━━━━━━━━━━━━━\u001b[0m\u001b[37m\u001b[0m \u001b[1m0s\u001b[0m 1ms/step - accuracy: 0.6494 - loss: 1.0539 - val_accuracy: 0.6672 - val_loss: 0.9889 - learning_rate: 5.0000e-04\n",
      "Epoch 17/50\n",
      "\u001b[1m230/230\u001b[0m \u001b[32m━━━━━━━━━━━━━━━━━━━━\u001b[0m\u001b[37m\u001b[0m \u001b[1m0s\u001b[0m 1ms/step - accuracy: 0.6594 - loss: 1.0166 - val_accuracy: 0.6667 - val_loss: 0.9881 - learning_rate: 5.0000e-04\n",
      "Epoch 18/50\n",
      "\u001b[1m230/230\u001b[0m \u001b[32m━━━━━━━━━━━━━━━━━━━━\u001b[0m\u001b[37m\u001b[0m \u001b[1m0s\u001b[0m 1ms/step - accuracy: 0.6584 - loss: 1.0160 - val_accuracy: 0.6667 - val_loss: 0.9896 - learning_rate: 5.0000e-04\n",
      "Epoch 19/50\n",
      "\u001b[1m230/230\u001b[0m \u001b[32m━━━━━━━━━━━━━━━━━━━━\u001b[0m\u001b[37m\u001b[0m \u001b[1m0s\u001b[0m 2ms/step - accuracy: 0.6539 - loss: 1.0317 - val_accuracy: 0.6683 - val_loss: 0.9829 - learning_rate: 5.0000e-04\n",
      "Epoch 20/50\n",
      "\u001b[1m230/230\u001b[0m \u001b[32m━━━━━━━━━━━━━━━━━━━━\u001b[0m\u001b[37m\u001b[0m \u001b[1m0s\u001b[0m 2ms/step - accuracy: 0.6666 - loss: 0.9981 - val_accuracy: 0.6710 - val_loss: 0.9747 - learning_rate: 5.0000e-04\n",
      "Epoch 21/50\n",
      "\u001b[1m230/230\u001b[0m \u001b[32m━━━━━━━━━━━━━━━━━━━━\u001b[0m\u001b[37m\u001b[0m \u001b[1m0s\u001b[0m 1ms/step - accuracy: 0.6601 - loss: 1.0197 - val_accuracy: 0.6650 - val_loss: 0.9729 - learning_rate: 5.0000e-04\n",
      "Epoch 22/50\n",
      "\u001b[1m230/230\u001b[0m \u001b[32m━━━━━━━━━━━━━━━━━━━━\u001b[0m\u001b[37m\u001b[0m \u001b[1m0s\u001b[0m 1ms/step - accuracy: 0.6535 - loss: 1.0057 - val_accuracy: 0.6650 - val_loss: 0.9666 - learning_rate: 5.0000e-04\n",
      "Epoch 23/50\n",
      "\u001b[1m230/230\u001b[0m \u001b[32m━━━━━━━━━━━━━━━━━━━━\u001b[0m\u001b[37m\u001b[0m \u001b[1m0s\u001b[0m 1ms/step - accuracy: 0.6660 - loss: 0.9850 - val_accuracy: 0.6678 - val_loss: 0.9652 - learning_rate: 5.0000e-04\n",
      "Epoch 24/50\n",
      "\u001b[1m230/230\u001b[0m \u001b[32m━━━━━━━━━━━━━━━━━━━━\u001b[0m\u001b[37m\u001b[0m \u001b[1m0s\u001b[0m 1ms/step - accuracy: 0.6627 - loss: 0.9873 - val_accuracy: 0.6672 - val_loss: 0.9624 - learning_rate: 5.0000e-04\n",
      "Epoch 25/50\n",
      "\u001b[1m230/230\u001b[0m \u001b[32m━━━━━━━━━━━━━━━━━━━━\u001b[0m\u001b[37m\u001b[0m \u001b[1m0s\u001b[0m 1ms/step - accuracy: 0.6510 - loss: 1.0091 - val_accuracy: 0.6683 - val_loss: 0.9595 - learning_rate: 5.0000e-04\n",
      "Epoch 26/50\n",
      "\u001b[1m230/230\u001b[0m \u001b[32m━━━━━━━━━━━━━━━━━━━━\u001b[0m\u001b[37m\u001b[0m \u001b[1m0s\u001b[0m 1ms/step - accuracy: 0.6689 - loss: 0.9758 - val_accuracy: 0.6661 - val_loss: 0.9536 - learning_rate: 5.0000e-04\n",
      "Epoch 27/50\n",
      "\u001b[1m230/230\u001b[0m \u001b[32m━━━━━━━━━━━━━━━━━━━━\u001b[0m\u001b[37m\u001b[0m \u001b[1m1s\u001b[0m 2ms/step - accuracy: 0.6561 - loss: 1.0074 - val_accuracy: 0.6672 - val_loss: 0.9589 - learning_rate: 5.0000e-04\n",
      "Epoch 28/50\n",
      "\u001b[1m230/230\u001b[0m \u001b[32m━━━━━━━━━━━━━━━━━━━━\u001b[0m\u001b[37m\u001b[0m \u001b[1m0s\u001b[0m 2ms/step - accuracy: 0.6654 - loss: 0.9851 - val_accuracy: 0.6699 - val_loss: 0.9516 - learning_rate: 5.0000e-04\n",
      "Epoch 29/50\n",
      "\u001b[1m230/230\u001b[0m \u001b[32m━━━━━━━━━━━━━━━━━━━━\u001b[0m\u001b[37m\u001b[0m \u001b[1m0s\u001b[0m 1ms/step - accuracy: 0.6654 - loss: 0.9730 - val_accuracy: 0.6694 - val_loss: 0.9505 - learning_rate: 5.0000e-04\n",
      "Epoch 30/50\n",
      "\u001b[1m230/230\u001b[0m \u001b[32m━━━━━━━━━━━━━━━━━━━━\u001b[0m\u001b[37m\u001b[0m \u001b[1m0s\u001b[0m 2ms/step - accuracy: 0.6669 - loss: 0.9725 - val_accuracy: 0.6721 - val_loss: 0.9408 - learning_rate: 5.0000e-04\n",
      "Epoch 31/50\n",
      "\u001b[1m230/230\u001b[0m \u001b[32m━━━━━━━━━━━━━━━━━━━━\u001b[0m\u001b[37m\u001b[0m \u001b[1m0s\u001b[0m 1ms/step - accuracy: 0.6636 - loss: 0.9723 - val_accuracy: 0.6732 - val_loss: 0.9464 - learning_rate: 5.0000e-04\n",
      "Epoch 32/50\n",
      "\u001b[1m230/230\u001b[0m \u001b[32m━━━━━━━━━━━━━━━━━━━━\u001b[0m\u001b[37m\u001b[0m \u001b[1m0s\u001b[0m 1ms/step - accuracy: 0.6652 - loss: 0.9687 - val_accuracy: 0.6705 - val_loss: 0.9381 - learning_rate: 5.0000e-04\n",
      "Epoch 33/50\n",
      "\u001b[1m230/230\u001b[0m \u001b[32m━━━━━━━━━━━━━━━━━━━━\u001b[0m\u001b[37m\u001b[0m \u001b[1m0s\u001b[0m 2ms/step - accuracy: 0.6625 - loss: 0.9771 - val_accuracy: 0.6737 - val_loss: 0.9319 - learning_rate: 5.0000e-04\n",
      "Epoch 34/50\n",
      "\u001b[1m230/230\u001b[0m \u001b[32m━━━━━━━━━━━━━━━━━━━━\u001b[0m\u001b[37m\u001b[0m \u001b[1m0s\u001b[0m 1ms/step - accuracy: 0.6547 - loss: 0.9740 - val_accuracy: 0.6732 - val_loss: 0.9305 - learning_rate: 5.0000e-04\n",
      "Epoch 35/50\n",
      "\u001b[1m230/230\u001b[0m \u001b[32m━━━━━━━━━━━━━━━━━━━━\u001b[0m\u001b[37m\u001b[0m \u001b[1m0s\u001b[0m 2ms/step - accuracy: 0.6721 - loss: 0.9654 - val_accuracy: 0.6765 - val_loss: 0.9338 - learning_rate: 5.0000e-04\n",
      "Epoch 36/50\n",
      "\u001b[1m230/230\u001b[0m \u001b[32m━━━━━━━━━━━━━━━━━━━━\u001b[0m\u001b[37m\u001b[0m \u001b[1m0s\u001b[0m 2ms/step - accuracy: 0.6601 - loss: 0.9698 - val_accuracy: 0.6737 - val_loss: 0.9246 - learning_rate: 5.0000e-04\n",
      "Epoch 37/50\n",
      "\u001b[1m230/230\u001b[0m \u001b[32m━━━━━━━━━━━━━━━━━━━━\u001b[0m\u001b[37m\u001b[0m \u001b[1m0s\u001b[0m 2ms/step - accuracy: 0.6609 - loss: 0.9809 - val_accuracy: 0.6786 - val_loss: 0.9224 - learning_rate: 5.0000e-04\n",
      "Epoch 38/50\n",
      "\u001b[1m230/230\u001b[0m \u001b[32m━━━━━━━━━━━━━━━━━━━━\u001b[0m\u001b[37m\u001b[0m \u001b[1m0s\u001b[0m 1ms/step - accuracy: 0.6673 - loss: 0.9461 - val_accuracy: 0.6732 - val_loss: 0.9207 - learning_rate: 5.0000e-04\n",
      "Epoch 39/50\n",
      "\u001b[1m230/230\u001b[0m \u001b[32m━━━━━━━━━━━━━━━━━━━━\u001b[0m\u001b[37m\u001b[0m \u001b[1m0s\u001b[0m 2ms/step - accuracy: 0.6645 - loss: 0.9560 - val_accuracy: 0.6754 - val_loss: 0.9203 - learning_rate: 5.0000e-04\n",
      "Epoch 40/50\n",
      "\u001b[1m230/230\u001b[0m \u001b[32m━━━━━━━━━━━━━━━━━━━━\u001b[0m\u001b[37m\u001b[0m \u001b[1m0s\u001b[0m 1ms/step - accuracy: 0.6679 - loss: 0.9295 - val_accuracy: 0.6770 - val_loss: 0.9209 - learning_rate: 5.0000e-04\n",
      "Epoch 41/50\n",
      "\u001b[1m230/230\u001b[0m \u001b[32m━━━━━━━━━━━━━━━━━━━━\u001b[0m\u001b[37m\u001b[0m \u001b[1m0s\u001b[0m 1ms/step - accuracy: 0.6770 - loss: 0.9240 - val_accuracy: 0.6797 - val_loss: 0.9190 - learning_rate: 5.0000e-04\n",
      "Epoch 42/50\n",
      "\u001b[1m230/230\u001b[0m \u001b[32m━━━━━━━━━━━━━━━━━━━━\u001b[0m\u001b[37m\u001b[0m \u001b[1m0s\u001b[0m 2ms/step - accuracy: 0.6762 - loss: 0.9236 - val_accuracy: 0.6814 - val_loss: 0.9114 - learning_rate: 5.0000e-04\n",
      "Epoch 43/50\n",
      "\u001b[1m230/230\u001b[0m \u001b[32m━━━━━━━━━━━━━━━━━━━━\u001b[0m\u001b[37m\u001b[0m \u001b[1m0s\u001b[0m 2ms/step - accuracy: 0.6760 - loss: 0.9385 - val_accuracy: 0.6797 - val_loss: 0.9146 - learning_rate: 5.0000e-04\n",
      "Epoch 44/50\n",
      "\u001b[1m230/230\u001b[0m \u001b[32m━━━━━━━━━━━━━━━━━━━━\u001b[0m\u001b[37m\u001b[0m \u001b[1m0s\u001b[0m 2ms/step - accuracy: 0.6699 - loss: 0.9335 - val_accuracy: 0.6786 - val_loss: 0.9098 - learning_rate: 5.0000e-04\n",
      "Epoch 45/50\n",
      "\u001b[1m230/230\u001b[0m \u001b[32m━━━━━━━━━━━━━━━━━━━━\u001b[0m\u001b[37m\u001b[0m \u001b[1m0s\u001b[0m 1ms/step - accuracy: 0.6685 - loss: 0.9425 - val_accuracy: 0.6803 - val_loss: 0.9065 - learning_rate: 5.0000e-04\n",
      "Epoch 46/50\n",
      "\u001b[1m230/230\u001b[0m \u001b[32m━━━━━━━━━━━━━━━━━━━━\u001b[0m\u001b[37m\u001b[0m \u001b[1m0s\u001b[0m 1ms/step - accuracy: 0.6658 - loss: 0.9528 - val_accuracy: 0.6786 - val_loss: 0.9061 - learning_rate: 5.0000e-04\n",
      "Epoch 47/50\n",
      "\u001b[1m230/230\u001b[0m \u001b[32m━━━━━━━━━━━━━━━━━━━━\u001b[0m\u001b[37m\u001b[0m \u001b[1m0s\u001b[0m 1ms/step - accuracy: 0.6683 - loss: 0.9454 - val_accuracy: 0.6819 - val_loss: 0.9055 - learning_rate: 5.0000e-04\n",
      "Epoch 48/50\n",
      "\u001b[1m230/230\u001b[0m \u001b[32m━━━━━━━━━━━━━━━━━━━━\u001b[0m\u001b[37m\u001b[0m \u001b[1m0s\u001b[0m 2ms/step - accuracy: 0.6790 - loss: 0.9287 - val_accuracy: 0.6830 - val_loss: 0.9019 - learning_rate: 5.0000e-04\n",
      "Epoch 49/50\n",
      "\u001b[1m230/230\u001b[0m \u001b[32m━━━━━━━━━━━━━━━━━━━━\u001b[0m\u001b[37m\u001b[0m \u001b[1m0s\u001b[0m 2ms/step - accuracy: 0.6751 - loss: 0.9195 - val_accuracy: 0.6830 - val_loss: 0.9038 - learning_rate: 5.0000e-04\n",
      "Epoch 50/50\n",
      "\u001b[1m230/230\u001b[0m \u001b[32m━━━━━━━━━━━━━━━━━━━━\u001b[0m\u001b[37m\u001b[0m \u001b[1m0s\u001b[0m 1ms/step - accuracy: 0.6783 - loss: 0.9155 - val_accuracy: 0.6874 - val_loss: 0.9088 - learning_rate: 5.0000e-04\n"
     ]
    }
   ],
   "source": [
    "# Define callbacks\n",
    "early_stopping = EarlyStopping(monitor='val_loss', patience=10, restore_best_weights=True)\n",
    "reduce_lr = ReduceLROnPlateau(monitor='val_loss', factor=0.5, patience=5, min_lr=0.00001)\n",
    "\n",
    "# Train the optimized model\n",
    "history2 = model2.fit(\n",
    "    X_train_scaled, y_train, \n",
    "    epochs=50,  # Increased epochs to allow the model to converge better\n",
    "    batch_size=32,  # Reduced batch size for potentially better generalization\n",
    "    validation_split=0.2, \n",
    "    callbacks=[early_stopping, reduce_lr], \n",
    "    verbose=1)"
   ]
  },
  {
   "cell_type": "code",
   "execution_count": null,
   "id": "de8c86ab-43c4-49cd-8c8d-de67d4b0fd78",
   "metadata": {},
   "outputs": [],
   "source": []
  },
  {
   "cell_type": "code",
   "execution_count": 53,
   "id": "f08f8b9f-2791-4c9e-93e7-e3a4bff41b1f",
   "metadata": {},
   "outputs": [
    {
     "data": {
      "text/html": [
       "<div>\n",
       "<style scoped>\n",
       "    .dataframe tbody tr th:only-of-type {\n",
       "        vertical-align: middle;\n",
       "    }\n",
       "\n",
       "    .dataframe tbody tr th {\n",
       "        vertical-align: top;\n",
       "    }\n",
       "\n",
       "    .dataframe thead th {\n",
       "        text-align: right;\n",
       "    }\n",
       "</style>\n",
       "<table border=\"1\" class=\"dataframe\">\n",
       "  <thead>\n",
       "    <tr style=\"text-align: right;\">\n",
       "      <th></th>\n",
       "      <th>accuracy</th>\n",
       "      <th>loss</th>\n",
       "      <th>val_accuracy</th>\n",
       "      <th>val_loss</th>\n",
       "      <th>learning_rate</th>\n",
       "    </tr>\n",
       "  </thead>\n",
       "  <tbody>\n",
       "    <tr>\n",
       "      <th>0</th>\n",
       "      <td>0.635930</td>\n",
       "      <td>1.444694</td>\n",
       "      <td>0.657407</td>\n",
       "      <td>1.144513</td>\n",
       "      <td>0.0005</td>\n",
       "    </tr>\n",
       "    <tr>\n",
       "      <th>1</th>\n",
       "      <td>0.645464</td>\n",
       "      <td>1.216066</td>\n",
       "      <td>0.654684</td>\n",
       "      <td>1.093177</td>\n",
       "      <td>0.0005</td>\n",
       "    </tr>\n",
       "    <tr>\n",
       "      <th>2</th>\n",
       "      <td>0.645873</td>\n",
       "      <td>1.168054</td>\n",
       "      <td>0.655229</td>\n",
       "      <td>1.078367</td>\n",
       "      <td>0.0005</td>\n",
       "    </tr>\n",
       "    <tr>\n",
       "      <th>3</th>\n",
       "      <td>0.645464</td>\n",
       "      <td>1.149534</td>\n",
       "      <td>0.661220</td>\n",
       "      <td>1.057384</td>\n",
       "      <td>0.0005</td>\n",
       "    </tr>\n",
       "    <tr>\n",
       "      <th>4</th>\n",
       "      <td>0.646554</td>\n",
       "      <td>1.129261</td>\n",
       "      <td>0.657407</td>\n",
       "      <td>1.056389</td>\n",
       "      <td>0.0005</td>\n",
       "    </tr>\n",
       "    <tr>\n",
       "      <th>5</th>\n",
       "      <td>0.646418</td>\n",
       "      <td>1.113723</td>\n",
       "      <td>0.655229</td>\n",
       "      <td>1.045967</td>\n",
       "      <td>0.0005</td>\n",
       "    </tr>\n",
       "    <tr>\n",
       "      <th>6</th>\n",
       "      <td>0.647235</td>\n",
       "      <td>1.109907</td>\n",
       "      <td>0.656318</td>\n",
       "      <td>1.041006</td>\n",
       "      <td>0.0005</td>\n",
       "    </tr>\n",
       "    <tr>\n",
       "      <th>7</th>\n",
       "      <td>0.648325</td>\n",
       "      <td>1.094287</td>\n",
       "      <td>0.657952</td>\n",
       "      <td>1.033470</td>\n",
       "      <td>0.0005</td>\n",
       "    </tr>\n",
       "    <tr>\n",
       "      <th>8</th>\n",
       "      <td>0.647099</td>\n",
       "      <td>1.087969</td>\n",
       "      <td>0.654139</td>\n",
       "      <td>1.027975</td>\n",
       "      <td>0.0005</td>\n",
       "    </tr>\n",
       "    <tr>\n",
       "      <th>9</th>\n",
       "      <td>0.650095</td>\n",
       "      <td>1.078788</td>\n",
       "      <td>0.653050</td>\n",
       "      <td>1.022130</td>\n",
       "      <td>0.0005</td>\n",
       "    </tr>\n",
       "    <tr>\n",
       "      <th>10</th>\n",
       "      <td>0.644920</td>\n",
       "      <td>1.073545</td>\n",
       "      <td>0.654139</td>\n",
       "      <td>1.015795</td>\n",
       "      <td>0.0005</td>\n",
       "    </tr>\n",
       "    <tr>\n",
       "      <th>11</th>\n",
       "      <td>0.646963</td>\n",
       "      <td>1.063009</td>\n",
       "      <td>0.658497</td>\n",
       "      <td>1.012763</td>\n",
       "      <td>0.0005</td>\n",
       "    </tr>\n",
       "    <tr>\n",
       "      <th>12</th>\n",
       "      <td>0.647507</td>\n",
       "      <td>1.060148</td>\n",
       "      <td>0.662309</td>\n",
       "      <td>1.005888</td>\n",
       "      <td>0.0005</td>\n",
       "    </tr>\n",
       "    <tr>\n",
       "      <th>13</th>\n",
       "      <td>0.650913</td>\n",
       "      <td>1.052902</td>\n",
       "      <td>0.662854</td>\n",
       "      <td>1.001723</td>\n",
       "      <td>0.0005</td>\n",
       "    </tr>\n",
       "    <tr>\n",
       "      <th>14</th>\n",
       "      <td>0.652002</td>\n",
       "      <td>1.041402</td>\n",
       "      <td>0.666122</td>\n",
       "      <td>0.998304</td>\n",
       "      <td>0.0005</td>\n",
       "    </tr>\n",
       "    <tr>\n",
       "      <th>15</th>\n",
       "      <td>0.653500</td>\n",
       "      <td>1.042985</td>\n",
       "      <td>0.667211</td>\n",
       "      <td>0.988928</td>\n",
       "      <td>0.0005</td>\n",
       "    </tr>\n",
       "    <tr>\n",
       "      <th>16</th>\n",
       "      <td>0.649142</td>\n",
       "      <td>1.032676</td>\n",
       "      <td>0.666667</td>\n",
       "      <td>0.988093</td>\n",
       "      <td>0.0005</td>\n",
       "    </tr>\n",
       "    <tr>\n",
       "      <th>17</th>\n",
       "      <td>0.654726</td>\n",
       "      <td>1.035643</td>\n",
       "      <td>0.666667</td>\n",
       "      <td>0.989648</td>\n",
       "      <td>0.0005</td>\n",
       "    </tr>\n",
       "    <tr>\n",
       "      <th>18</th>\n",
       "      <td>0.654726</td>\n",
       "      <td>1.034218</td>\n",
       "      <td>0.668301</td>\n",
       "      <td>0.982891</td>\n",
       "      <td>0.0005</td>\n",
       "    </tr>\n",
       "    <tr>\n",
       "      <th>19</th>\n",
       "      <td>0.652683</td>\n",
       "      <td>1.024940</td>\n",
       "      <td>0.671024</td>\n",
       "      <td>0.974736</td>\n",
       "      <td>0.0005</td>\n",
       "    </tr>\n",
       "    <tr>\n",
       "      <th>20</th>\n",
       "      <td>0.655271</td>\n",
       "      <td>1.016827</td>\n",
       "      <td>0.665033</td>\n",
       "      <td>0.972942</td>\n",
       "      <td>0.0005</td>\n",
       "    </tr>\n",
       "    <tr>\n",
       "      <th>21</th>\n",
       "      <td>0.654726</td>\n",
       "      <td>1.010078</td>\n",
       "      <td>0.665033</td>\n",
       "      <td>0.966630</td>\n",
       "      <td>0.0005</td>\n",
       "    </tr>\n",
       "    <tr>\n",
       "      <th>22</th>\n",
       "      <td>0.657587</td>\n",
       "      <td>1.012092</td>\n",
       "      <td>0.667756</td>\n",
       "      <td>0.965231</td>\n",
       "      <td>0.0005</td>\n",
       "    </tr>\n",
       "    <tr>\n",
       "      <th>23</th>\n",
       "      <td>0.654999</td>\n",
       "      <td>1.007207</td>\n",
       "      <td>0.667211</td>\n",
       "      <td>0.962440</td>\n",
       "      <td>0.0005</td>\n",
       "    </tr>\n",
       "    <tr>\n",
       "      <th>24</th>\n",
       "      <td>0.656088</td>\n",
       "      <td>1.005488</td>\n",
       "      <td>0.668301</td>\n",
       "      <td>0.959508</td>\n",
       "      <td>0.0005</td>\n",
       "    </tr>\n",
       "    <tr>\n",
       "      <th>25</th>\n",
       "      <td>0.658267</td>\n",
       "      <td>0.993618</td>\n",
       "      <td>0.666122</td>\n",
       "      <td>0.953577</td>\n",
       "      <td>0.0005</td>\n",
       "    </tr>\n",
       "    <tr>\n",
       "      <th>26</th>\n",
       "      <td>0.659902</td>\n",
       "      <td>0.991295</td>\n",
       "      <td>0.667211</td>\n",
       "      <td>0.958878</td>\n",
       "      <td>0.0005</td>\n",
       "    </tr>\n",
       "    <tr>\n",
       "      <th>27</th>\n",
       "      <td>0.662626</td>\n",
       "      <td>0.992975</td>\n",
       "      <td>0.669935</td>\n",
       "      <td>0.951616</td>\n",
       "      <td>0.0005</td>\n",
       "    </tr>\n",
       "    <tr>\n",
       "      <th>28</th>\n",
       "      <td>0.661809</td>\n",
       "      <td>0.982821</td>\n",
       "      <td>0.669390</td>\n",
       "      <td>0.950493</td>\n",
       "      <td>0.0005</td>\n",
       "    </tr>\n",
       "    <tr>\n",
       "      <th>29</th>\n",
       "      <td>0.661128</td>\n",
       "      <td>0.980345</td>\n",
       "      <td>0.672113</td>\n",
       "      <td>0.940756</td>\n",
       "      <td>0.0005</td>\n",
       "    </tr>\n",
       "    <tr>\n",
       "      <th>30</th>\n",
       "      <td>0.661809</td>\n",
       "      <td>0.978043</td>\n",
       "      <td>0.673203</td>\n",
       "      <td>0.946437</td>\n",
       "      <td>0.0005</td>\n",
       "    </tr>\n",
       "    <tr>\n",
       "      <th>31</th>\n",
       "      <td>0.665350</td>\n",
       "      <td>0.970879</td>\n",
       "      <td>0.670479</td>\n",
       "      <td>0.938055</td>\n",
       "      <td>0.0005</td>\n",
       "    </tr>\n",
       "    <tr>\n",
       "      <th>32</th>\n",
       "      <td>0.663035</td>\n",
       "      <td>0.965644</td>\n",
       "      <td>0.673747</td>\n",
       "      <td>0.931886</td>\n",
       "      <td>0.0005</td>\n",
       "    </tr>\n",
       "    <tr>\n",
       "      <th>33</th>\n",
       "      <td>0.661809</td>\n",
       "      <td>0.962513</td>\n",
       "      <td>0.673203</td>\n",
       "      <td>0.930481</td>\n",
       "      <td>0.0005</td>\n",
       "    </tr>\n",
       "    <tr>\n",
       "      <th>34</th>\n",
       "      <td>0.666167</td>\n",
       "      <td>0.969568</td>\n",
       "      <td>0.676471</td>\n",
       "      <td>0.933829</td>\n",
       "      <td>0.0005</td>\n",
       "    </tr>\n",
       "    <tr>\n",
       "      <th>35</th>\n",
       "      <td>0.665214</td>\n",
       "      <td>0.952928</td>\n",
       "      <td>0.673747</td>\n",
       "      <td>0.924629</td>\n",
       "      <td>0.0005</td>\n",
       "    </tr>\n",
       "    <tr>\n",
       "      <th>36</th>\n",
       "      <td>0.669028</td>\n",
       "      <td>0.962073</td>\n",
       "      <td>0.678649</td>\n",
       "      <td>0.922438</td>\n",
       "      <td>0.0005</td>\n",
       "    </tr>\n",
       "    <tr>\n",
       "      <th>37</th>\n",
       "      <td>0.670798</td>\n",
       "      <td>0.947573</td>\n",
       "      <td>0.673203</td>\n",
       "      <td>0.920657</td>\n",
       "      <td>0.0005</td>\n",
       "    </tr>\n",
       "    <tr>\n",
       "      <th>38</th>\n",
       "      <td>0.664260</td>\n",
       "      <td>0.950708</td>\n",
       "      <td>0.675381</td>\n",
       "      <td>0.920329</td>\n",
       "      <td>0.0005</td>\n",
       "    </tr>\n",
       "    <tr>\n",
       "      <th>39</th>\n",
       "      <td>0.669981</td>\n",
       "      <td>0.942748</td>\n",
       "      <td>0.677015</td>\n",
       "      <td>0.920935</td>\n",
       "      <td>0.0005</td>\n",
       "    </tr>\n",
       "    <tr>\n",
       "      <th>40</th>\n",
       "      <td>0.666984</td>\n",
       "      <td>0.949358</td>\n",
       "      <td>0.679739</td>\n",
       "      <td>0.918973</td>\n",
       "      <td>0.0005</td>\n",
       "    </tr>\n",
       "    <tr>\n",
       "      <th>41</th>\n",
       "      <td>0.665895</td>\n",
       "      <td>0.941739</td>\n",
       "      <td>0.681373</td>\n",
       "      <td>0.911392</td>\n",
       "      <td>0.0005</td>\n",
       "    </tr>\n",
       "    <tr>\n",
       "      <th>42</th>\n",
       "      <td>0.671343</td>\n",
       "      <td>0.944176</td>\n",
       "      <td>0.679739</td>\n",
       "      <td>0.914603</td>\n",
       "      <td>0.0005</td>\n",
       "    </tr>\n",
       "    <tr>\n",
       "      <th>43</th>\n",
       "      <td>0.671343</td>\n",
       "      <td>0.934925</td>\n",
       "      <td>0.678649</td>\n",
       "      <td>0.909827</td>\n",
       "      <td>0.0005</td>\n",
       "    </tr>\n",
       "    <tr>\n",
       "      <th>44</th>\n",
       "      <td>0.672977</td>\n",
       "      <td>0.932140</td>\n",
       "      <td>0.680283</td>\n",
       "      <td>0.906497</td>\n",
       "      <td>0.0005</td>\n",
       "    </tr>\n",
       "    <tr>\n",
       "      <th>45</th>\n",
       "      <td>0.671207</td>\n",
       "      <td>0.939452</td>\n",
       "      <td>0.678649</td>\n",
       "      <td>0.906060</td>\n",
       "      <td>0.0005</td>\n",
       "    </tr>\n",
       "    <tr>\n",
       "      <th>46</th>\n",
       "      <td>0.673386</td>\n",
       "      <td>0.931313</td>\n",
       "      <td>0.681917</td>\n",
       "      <td>0.905512</td>\n",
       "      <td>0.0005</td>\n",
       "    </tr>\n",
       "    <tr>\n",
       "      <th>47</th>\n",
       "      <td>0.676791</td>\n",
       "      <td>0.931986</td>\n",
       "      <td>0.683007</td>\n",
       "      <td>0.901873</td>\n",
       "      <td>0.0005</td>\n",
       "    </tr>\n",
       "    <tr>\n",
       "      <th>48</th>\n",
       "      <td>0.670798</td>\n",
       "      <td>0.927436</td>\n",
       "      <td>0.683007</td>\n",
       "      <td>0.903778</td>\n",
       "      <td>0.0005</td>\n",
       "    </tr>\n",
       "    <tr>\n",
       "      <th>49</th>\n",
       "      <td>0.672296</td>\n",
       "      <td>0.926235</td>\n",
       "      <td>0.687364</td>\n",
       "      <td>0.908770</td>\n",
       "      <td>0.0005</td>\n",
       "    </tr>\n",
       "  </tbody>\n",
       "</table>\n",
       "</div>"
      ],
      "text/plain": [
       "    accuracy      loss  val_accuracy  val_loss  learning_rate\n",
       "0   0.635930  1.444694      0.657407  1.144513         0.0005\n",
       "1   0.645464  1.216066      0.654684  1.093177         0.0005\n",
       "2   0.645873  1.168054      0.655229  1.078367         0.0005\n",
       "3   0.645464  1.149534      0.661220  1.057384         0.0005\n",
       "4   0.646554  1.129261      0.657407  1.056389         0.0005\n",
       "5   0.646418  1.113723      0.655229  1.045967         0.0005\n",
       "6   0.647235  1.109907      0.656318  1.041006         0.0005\n",
       "7   0.648325  1.094287      0.657952  1.033470         0.0005\n",
       "8   0.647099  1.087969      0.654139  1.027975         0.0005\n",
       "9   0.650095  1.078788      0.653050  1.022130         0.0005\n",
       "10  0.644920  1.073545      0.654139  1.015795         0.0005\n",
       "11  0.646963  1.063009      0.658497  1.012763         0.0005\n",
       "12  0.647507  1.060148      0.662309  1.005888         0.0005\n",
       "13  0.650913  1.052902      0.662854  1.001723         0.0005\n",
       "14  0.652002  1.041402      0.666122  0.998304         0.0005\n",
       "15  0.653500  1.042985      0.667211  0.988928         0.0005\n",
       "16  0.649142  1.032676      0.666667  0.988093         0.0005\n",
       "17  0.654726  1.035643      0.666667  0.989648         0.0005\n",
       "18  0.654726  1.034218      0.668301  0.982891         0.0005\n",
       "19  0.652683  1.024940      0.671024  0.974736         0.0005\n",
       "20  0.655271  1.016827      0.665033  0.972942         0.0005\n",
       "21  0.654726  1.010078      0.665033  0.966630         0.0005\n",
       "22  0.657587  1.012092      0.667756  0.965231         0.0005\n",
       "23  0.654999  1.007207      0.667211  0.962440         0.0005\n",
       "24  0.656088  1.005488      0.668301  0.959508         0.0005\n",
       "25  0.658267  0.993618      0.666122  0.953577         0.0005\n",
       "26  0.659902  0.991295      0.667211  0.958878         0.0005\n",
       "27  0.662626  0.992975      0.669935  0.951616         0.0005\n",
       "28  0.661809  0.982821      0.669390  0.950493         0.0005\n",
       "29  0.661128  0.980345      0.672113  0.940756         0.0005\n",
       "30  0.661809  0.978043      0.673203  0.946437         0.0005\n",
       "31  0.665350  0.970879      0.670479  0.938055         0.0005\n",
       "32  0.663035  0.965644      0.673747  0.931886         0.0005\n",
       "33  0.661809  0.962513      0.673203  0.930481         0.0005\n",
       "34  0.666167  0.969568      0.676471  0.933829         0.0005\n",
       "35  0.665214  0.952928      0.673747  0.924629         0.0005\n",
       "36  0.669028  0.962073      0.678649  0.922438         0.0005\n",
       "37  0.670798  0.947573      0.673203  0.920657         0.0005\n",
       "38  0.664260  0.950708      0.675381  0.920329         0.0005\n",
       "39  0.669981  0.942748      0.677015  0.920935         0.0005\n",
       "40  0.666984  0.949358      0.679739  0.918973         0.0005\n",
       "41  0.665895  0.941739      0.681373  0.911392         0.0005\n",
       "42  0.671343  0.944176      0.679739  0.914603         0.0005\n",
       "43  0.671343  0.934925      0.678649  0.909827         0.0005\n",
       "44  0.672977  0.932140      0.680283  0.906497         0.0005\n",
       "45  0.671207  0.939452      0.678649  0.906060         0.0005\n",
       "46  0.673386  0.931313      0.681917  0.905512         0.0005\n",
       "47  0.676791  0.931986      0.683007  0.901873         0.0005\n",
       "48  0.670798  0.927436      0.683007  0.903778         0.0005\n",
       "49  0.672296  0.926235      0.687364  0.908770         0.0005"
      ]
     },
     "execution_count": 53,
     "metadata": {},
     "output_type": "execute_result"
    }
   ],
   "source": [
    "history2_df = pd.DataFrame(history2.history)\n",
    "history2_df"
   ]
  },
  {
   "cell_type": "code",
   "execution_count": null,
   "id": "a242f614-3b0e-43bb-8034-8d9b508f8a45",
   "metadata": {},
   "outputs": [],
   "source": []
  },
  {
   "cell_type": "code",
   "execution_count": 54,
   "id": "f890e6f7-88ac-48c1-85f7-619451932717",
   "metadata": {},
   "outputs": [
    {
     "data": {
      "image/png": "[encoded data removed]",
      "text/plain": [
       "<Figure size 2000x500 with 2 Axes>"
      ]
     },
     "metadata": {},
     "output_type": "display_data"
    }
   ],
   "source": [
    "training_loss = history2_df['loss']\n",
    "val_loss = history2_df['val_loss']\n",
    "training_accurancy = history2_df['accuracy']\n",
    "val_accurancy = history2_df ['val_accuracy']\n",
    "\n",
    "#plot the loss\n",
    "fig6, ax6 = plt.subplots(1,2, figsize =(20,5))\n",
    "ax6[0].plot(training_loss)\n",
    "ax6[0].plot(val_loss)\n",
    "ax6[0].set_xlabel('Epoch', fontsize =20)\n",
    "ax6[0].set_ylabel('Loss', fontsize =20)\n",
    "ax6[0].set_title('MLP_Model2_loss')\n",
    "ax6[0].legend(['Train', 'Validation'], loc='upper left')\n",
    "\n",
    "#plot the accurancy\n",
    "ax6[1].plot(training_accurancy)\n",
    "ax6[1].plot(val_accurancy )\n",
    "ax6[1].set_xlabel('Epoch', fontsize =20)\n",
    "ax6[1].set_ylabel('Accurancy', fontsize =20)\n",
    "ax6[1].set_title('MLP_Model2_Accuracy')\n",
    "ax6[1].legend(['Train', 'Validation'], loc='upper left') \n",
    "\n",
    "plt.tight_layout()\n",
    "plt.show()"
   ]
  },
  {
   "cell_type": "code",
   "execution_count": null,
   "id": "e280a71d-4191-4d06-8091-15ab7193470e",
   "metadata": {},
   "outputs": [],
   "source": []
  },
  {
   "cell_type": "code",
   "execution_count": 55,
   "id": "ec12db84-a0c8-4a29-bd00-59d196966897",
   "metadata": {},
   "outputs": [
    {
     "name": "stdout",
     "output_type": "stream",
     "text": [
      "\u001b[1m123/123\u001b[0m \u001b[32m━━━━━━━━━━━━━━━━━━━━\u001b[0m\u001b[37m\u001b[0m \u001b[1m0s\u001b[0m 1ms/step\n",
      "Optimised MLP Accuracy: 0.68\n",
      "MLP Classification Report:\n",
      "              precision    recall  f1-score   support\n",
      "\n",
      "Agricultural       0.44      0.17      0.24       206\n",
      "  Commercial       0.50      0.01      0.01       141\n",
      "  Industrial       0.45      0.16      0.24       231\n",
      "     Natural       0.53      0.24      0.33       539\n",
      "Recreational       0.00      0.00      0.00       129\n",
      " Residential       0.70      0.96      0.81      2554\n",
      "   Transport       0.00      0.00      0.00        32\n",
      "       Water       0.78      0.07      0.13       102\n",
      "\n",
      "    accuracy                           0.68      3934\n",
      "   macro avg       0.42      0.20      0.22      3934\n",
      "weighted avg       0.61      0.68      0.60      3934\n",
      "\n"
     ]
    },
    {
     "name": "stderr",
     "output_type": "stream",
     "text": [
      "C:\\Users\\user\\anaconda3\\Lib\\site-packages\\sklearn\\metrics\\_classification.py:1344: UndefinedMetricWarning: Precision and F-score are ill-defined and being set to 0.0 in labels with no predicted samples. Use `zero_division` parameter to control this behavior.\n",
      "  _warn_prf(average, modifier, msg_start, len(result))\n",
      "C:\\Users\\user\\anaconda3\\Lib\\site-packages\\sklearn\\metrics\\_classification.py:1344: UndefinedMetricWarning: Precision and F-score are ill-defined and being set to 0.0 in labels with no predicted samples. Use `zero_division` parameter to control this behavior.\n",
      "  _warn_prf(average, modifier, msg_start, len(result))\n",
      "C:\\Users\\user\\anaconda3\\Lib\\site-packages\\sklearn\\metrics\\_classification.py:1344: UndefinedMetricWarning: Precision and F-score are ill-defined and being set to 0.0 in labels with no predicted samples. Use `zero_division` parameter to control this behavior.\n",
      "  _warn_prf(average, modifier, msg_start, len(result))\n"
     ]
    }
   ],
   "source": [
    "# Evaluate the model on the test data\n",
    "y_pred_prob = model2.predict(X_test_scaled)\n",
    "y_pred = np.argmax(y_pred_prob, axis=1)\n",
    "y_test_true = np.argmax(y_test, axis=1)\n",
    "\n",
    "# Calculate accuracy\n",
    "accuracy_mlp = accuracy_score(y_test_true, y_pred)\n",
    "print(f\"Optimised MLP Accuracy: {accuracy_mlp:.2f}\")\n",
    "\n",
    "# Print classification report\n",
    "print(\"MLP Classification Report:\")\n",
    "print(classification_report(y_test_true, y_pred, target_names=label_encoder.classes_))"
   ]
  },
  {
   "cell_type": "code",
   "execution_count": 56,
   "id": "7e8fb447-f4e5-4150-af1b-c60138234320",
   "metadata": {},
   "outputs": [
    {
     "name": "stdout",
     "output_type": "stream",
     "text": [
      "Average F1-score: 0.22\n",
      "Average Precision: 0.42\n",
      "Average Recall: 0.20\n",
      "Average AUC: 0.84\n"
     ]
    },
    {
     "name": "stderr",
     "output_type": "stream",
     "text": [
      "C:\\Users\\user\\anaconda3\\Lib\\site-packages\\sklearn\\metrics\\_classification.py:1344: UndefinedMetricWarning: Precision and F-score are ill-defined and being set to 0.0 in labels with no predicted samples. Use `zero_division` parameter to control this behavior.\n",
      "  _warn_prf(average, modifier, msg_start, len(result))\n",
      "C:\\Users\\user\\anaconda3\\Lib\\site-packages\\sklearn\\metrics\\_classification.py:1344: UndefinedMetricWarning: Precision and F-score are ill-defined and being set to 0.0 in labels with no predicted samples. Use `zero_division` parameter to control this behavior.\n",
      "  _warn_prf(average, modifier, msg_start, len(result))\n",
      "C:\\Users\\user\\anaconda3\\Lib\\site-packages\\sklearn\\metrics\\_classification.py:1344: UndefinedMetricWarning: Precision and F-score are ill-defined and being set to 0.0 in labels with no predicted samples. Use `zero_division` parameter to control this behavior.\n",
      "  _warn_prf(average, modifier, msg_start, len(result))\n"
     ]
    }
   ],
   "source": [
    "# Calculate average metrics from the classification report\n",
    "report_mlp_optimized = classification_report(y_test_true, y_pred, target_names=label_encoder.classes_, output_dict=True)\n",
    "\n",
    "avg_f1_mlp_optimized = report_mlp_optimized['macro avg']['f1-score']\n",
    "avg_precision_mlp_optimized = report_mlp_optimized['macro avg']['precision']\n",
    "avg_recall_mlp_optimized = report_mlp_optimized['macro avg']['recall']\n",
    "\n",
    "print(f\"Average F1-score: {avg_f1_mlp_optimized:.2f}\")\n",
    "print(f\"Average Precision: {avg_precision_mlp_optimized:.2f}\")\n",
    "print(f\"Average Recall: {avg_recall_mlp_optimized:.2f}\")\n",
    "\n",
    "# Binarize the output for AUC calculation\n",
    "y_test_bin = label_binarize(y_test_true, classes=np.arange(len(label_encoder.classes_)))\n",
    "\n",
    "# Compute AUC for each class\n",
    "auc_mlp_optimized = roc_auc_score(y_test_bin, y_pred_prob, average=\"macro\", multi_class=\"ovr\")\n",
    "\n",
    "print(f\"Average AUC: {auc_mlp_optimized:.2f}\")"
   ]
  },
  {
   "cell_type": "code",
   "execution_count": null,
   "id": "d2c6d246-f787-416f-8b34-c0e8b28277eb",
   "metadata": {},
   "outputs": [],
   "source": []
  },
  {
   "cell_type": "markdown",
   "id": "f1ae1a59-8780-4813-8e1d-de06f0d5165c",
   "metadata": {},
   "source": [
    "#### Optimizing with SMOTE"
   ]
  },
  {
   "cell_type": "code",
   "execution_count": 58,
   "id": "6014025e-1312-4079-9409-840fd1a6a861",
   "metadata": {},
   "outputs": [],
   "source": [
    "# Apply SMOTE to the training data\n",
    "smote = SMOTE(random_state=42)\n",
    "X_train_smote, y_train_smote = smote.fit_resample(X_train_scaled, y_train.argmax(axis=1))\n",
    "\n",
    "# Convert the resampled target back to categorical\n",
    "y_train_smote = to_categorical(y_train_smote, num_classes=len(label_encoder.classes_))"
   ]
  },
  {
   "cell_type": "code",
   "execution_count": 59,
   "id": "13315fa0-c284-4a91-b67b-b6a17095adf4",
   "metadata": {},
   "outputs": [
    {
     "name": "stderr",
     "output_type": "stream",
     "text": [
      "C:\\Users\\user\\anaconda3\\Lib\\site-packages\\keras\\src\\layers\\core\\dense.py:87: UserWarning: Do not pass an `input_shape`/`input_dim` argument to a layer. When using Sequential models, prefer using an `Input(shape)` object as the first layer in the model instead.\n",
      "  super().__init__(activity_regularizer=activity_regularizer, **kwargs)\n"
     ]
    },
    {
     "data": {
      "text/html": [
       "<pre style=\"white-space:pre;overflow-x:auto;line-height:normal;font-family:Menlo,'DejaVu Sans Mono',consolas,'Courier New',monospace\"><span style=\"font-weight: bold\">Model: \"sequential_2\"</span>\n",
       "</pre>\n"
      ],
      "text/plain": [
       "\u001b[1mModel: \"sequential_2\"\u001b[0m\n"
      ]
     },
     "metadata": {},
     "output_type": "display_data"
    },
    {
     "data": {
      "text/html": [
       "<pre style=\"white-space:pre;overflow-x:auto;line-height:normal;font-family:Menlo,'DejaVu Sans Mono',consolas,'Courier New',monospace\">┏━━━━━━━━━━━━━━━━━━━━━━━━━━━━━━━━━━━━━━┳━━━━━━━━━━━━━━━━━━━━━━━━━━━━━┳━━━━━━━━━━━━━━━━━┓\n",
       "┃<span style=\"font-weight: bold\"> Layer (type)                         </span>┃<span style=\"font-weight: bold\"> Output Shape                </span>┃<span style=\"font-weight: bold\">         Param # </span>┃\n",
       "┡━━━━━━━━━━━━━━━━━━━━━━━━━━━━━━━━━━━━━━╇━━━━━━━━━━━━━━━━━━━━━━━━━━━━━╇━━━━━━━━━━━━━━━━━┩\n",
       "│ dense_7 (<span style=\"color: #0087ff; text-decoration-color: #0087ff\">Dense</span>)                      │ (<span style=\"color: #00d7ff; text-decoration-color: #00d7ff\">None</span>, <span style=\"color: #00af00; text-decoration-color: #00af00\">128</span>)                 │           <span style=\"color: #00af00; text-decoration-color: #00af00\">2,304</span> │\n",
       "├──────────────────────────────────────┼─────────────────────────────┼─────────────────┤\n",
       "│ dropout_5 (<span style=\"color: #0087ff; text-decoration-color: #0087ff\">Dropout</span>)                  │ (<span style=\"color: #00d7ff; text-decoration-color: #00d7ff\">None</span>, <span style=\"color: #00af00; text-decoration-color: #00af00\">128</span>)                 │               <span style=\"color: #00af00; text-decoration-color: #00af00\">0</span> │\n",
       "├──────────────────────────────────────┼─────────────────────────────┼─────────────────┤\n",
       "│ dense_8 (<span style=\"color: #0087ff; text-decoration-color: #0087ff\">Dense</span>)                      │ (<span style=\"color: #00d7ff; text-decoration-color: #00d7ff\">None</span>, <span style=\"color: #00af00; text-decoration-color: #00af00\">128</span>)                 │          <span style=\"color: #00af00; text-decoration-color: #00af00\">16,512</span> │\n",
       "├──────────────────────────────────────┼─────────────────────────────┼─────────────────┤\n",
       "│ dropout_6 (<span style=\"color: #0087ff; text-decoration-color: #0087ff\">Dropout</span>)                  │ (<span style=\"color: #00d7ff; text-decoration-color: #00d7ff\">None</span>, <span style=\"color: #00af00; text-decoration-color: #00af00\">128</span>)                 │               <span style=\"color: #00af00; text-decoration-color: #00af00\">0</span> │\n",
       "├──────────────────────────────────────┼─────────────────────────────┼─────────────────┤\n",
       "│ dense_9 (<span style=\"color: #0087ff; text-decoration-color: #0087ff\">Dense</span>)                      │ (<span style=\"color: #00d7ff; text-decoration-color: #00d7ff\">None</span>, <span style=\"color: #00af00; text-decoration-color: #00af00\">64</span>)                  │           <span style=\"color: #00af00; text-decoration-color: #00af00\">8,256</span> │\n",
       "├──────────────────────────────────────┼─────────────────────────────┼─────────────────┤\n",
       "│ dropout_7 (<span style=\"color: #0087ff; text-decoration-color: #0087ff\">Dropout</span>)                  │ (<span style=\"color: #00d7ff; text-decoration-color: #00d7ff\">None</span>, <span style=\"color: #00af00; text-decoration-color: #00af00\">64</span>)                  │               <span style=\"color: #00af00; text-decoration-color: #00af00\">0</span> │\n",
       "├──────────────────────────────────────┼─────────────────────────────┼─────────────────┤\n",
       "│ dense_10 (<span style=\"color: #0087ff; text-decoration-color: #0087ff\">Dense</span>)                     │ (<span style=\"color: #00d7ff; text-decoration-color: #00d7ff\">None</span>, <span style=\"color: #00af00; text-decoration-color: #00af00\">8</span>)                   │             <span style=\"color: #00af00; text-decoration-color: #00af00\">520</span> │\n",
       "└──────────────────────────────────────┴─────────────────────────────┴─────────────────┘\n",
       "</pre>\n"
      ],
      "text/plain": [
       "┏━━━━━━━━━━━━━━━━━━━━━━━━━━━━━━━━━━━━━━┳━━━━━━━━━━━━━━━━━━━━━━━━━━━━━┳━━━━━━━━━━━━━━━━━┓\n",
       "┃\u001b[1m \u001b[0m\u001b[1mLayer (type)                        \u001b[0m\u001b[1m \u001b[0m┃\u001b[1m \u001b[0m\u001b[1mOutput Shape               \u001b[0m\u001b[1m \u001b[0m┃\u001b[1m \u001b[0m\u001b[1m        Param #\u001b[0m\u001b[1m \u001b[0m┃\n",
       "┡━━━━━━━━━━━━━━━━━━━━━━━━━━━━━━━━━━━━━━╇━━━━━━━━━━━━━━━━━━━━━━━━━━━━━╇━━━━━━━━━━━━━━━━━┩\n",
       "│ dense_7 (\u001b[38;5;33mDense\u001b[0m)                      │ (\u001b[38;5;45mNone\u001b[0m, \u001b[38;5;34m128\u001b[0m)                 │           \u001b[38;5;34m2,304\u001b[0m │\n",
       "├──────────────────────────────────────┼─────────────────────────────┼─────────────────┤\n",
       "│ dropout_5 (\u001b[38;5;33mDropout\u001b[0m)                  │ (\u001b[38;5;45mNone\u001b[0m, \u001b[38;5;34m128\u001b[0m)                 │               \u001b[38;5;34m0\u001b[0m │\n",
       "├──────────────────────────────────────┼─────────────────────────────┼─────────────────┤\n",
       "│ dense_8 (\u001b[38;5;33mDense\u001b[0m)                      │ (\u001b[38;5;45mNone\u001b[0m, \u001b[38;5;34m128\u001b[0m)                 │          \u001b[38;5;34m16,512\u001b[0m │\n",
       "├──────────────────────────────────────┼─────────────────────────────┼─────────────────┤\n",
       "│ dropout_6 (\u001b[38;5;33mDropout\u001b[0m)                  │ (\u001b[38;5;45mNone\u001b[0m, \u001b[38;5;34m128\u001b[0m)                 │               \u001b[38;5;34m0\u001b[0m │\n",
       "├──────────────────────────────────────┼─────────────────────────────┼─────────────────┤\n",
       "│ dense_9 (\u001b[38;5;33mDense\u001b[0m)                      │ (\u001b[38;5;45mNone\u001b[0m, \u001b[38;5;34m64\u001b[0m)                  │           \u001b[38;5;34m8,256\u001b[0m │\n",
       "├──────────────────────────────────────┼─────────────────────────────┼─────────────────┤\n",
       "│ dropout_7 (\u001b[38;5;33mDropout\u001b[0m)                  │ (\u001b[38;5;45mNone\u001b[0m, \u001b[38;5;34m64\u001b[0m)                  │               \u001b[38;5;34m0\u001b[0m │\n",
       "├──────────────────────────────────────┼─────────────────────────────┼─────────────────┤\n",
       "│ dense_10 (\u001b[38;5;33mDense\u001b[0m)                     │ (\u001b[38;5;45mNone\u001b[0m, \u001b[38;5;34m8\u001b[0m)                   │             \u001b[38;5;34m520\u001b[0m │\n",
       "└──────────────────────────────────────┴─────────────────────────────┴─────────────────┘\n"
      ]
     },
     "metadata": {},
     "output_type": "display_data"
    },
    {
     "data": {
      "text/html": [
       "<pre style=\"white-space:pre;overflow-x:auto;line-height:normal;font-family:Menlo,'DejaVu Sans Mono',consolas,'Courier New',monospace\"><span style=\"font-weight: bold\"> Total params: </span><span style=\"color: #00af00; text-decoration-color: #00af00\">27,592</span> (107.78 KB)\n",
       "</pre>\n"
      ],
      "text/plain": [
       "\u001b[1m Total params: \u001b[0m\u001b[38;5;34m27,592\u001b[0m (107.78 KB)\n"
      ]
     },
     "metadata": {},
     "output_type": "display_data"
    },
    {
     "data": {
      "text/html": [
       "<pre style=\"white-space:pre;overflow-x:auto;line-height:normal;font-family:Menlo,'DejaVu Sans Mono',consolas,'Courier New',monospace\"><span style=\"font-weight: bold\"> Trainable params: </span><span style=\"color: #00af00; text-decoration-color: #00af00\">27,592</span> (107.78 KB)\n",
       "</pre>\n"
      ],
      "text/plain": [
       "\u001b[1m Trainable params: \u001b[0m\u001b[38;5;34m27,592\u001b[0m (107.78 KB)\n"
      ]
     },
     "metadata": {},
     "output_type": "display_data"
    },
    {
     "data": {
      "text/html": [
       "<pre style=\"white-space:pre;overflow-x:auto;line-height:normal;font-family:Menlo,'DejaVu Sans Mono',consolas,'Courier New',monospace\"><span style=\"font-weight: bold\"> Non-trainable params: </span><span style=\"color: #00af00; text-decoration-color: #00af00\">0</span> (0.00 B)\n",
       "</pre>\n"
      ],
      "text/plain": [
       "\u001b[1m Non-trainable params: \u001b[0m\u001b[38;5;34m0\u001b[0m (0.00 B)\n"
      ]
     },
     "metadata": {},
     "output_type": "display_data"
    }
   ],
   "source": [
    "# Define the optimized MLP model with SMOTE data\n",
    "model_smote = Sequential()\n",
    "model_smote.add(Dense(128, input_dim=X_train_smote.shape[1], activation='relu'))\n",
    "model_smote.add(Dropout(0.4))\n",
    "model_smote.add(Dense(128, activation='relu'))\n",
    "model_smote.add(Dropout(0.4))\n",
    "model_smote.add(Dense(64, activation='relu'))\n",
    "model_smote.add(Dropout(0.3))\n",
    "model_smote.add(Dense(len(label_encoder.classes_), activation='softmax'))\n",
    "\n",
    "# Compile the model with a reduced learning rate\n",
    "optimizer = Adam(learning_rate=0.0005)\n",
    "model_smote.compile(optimizer=optimizer, loss='categorical_crossentropy', metrics=['accuracy'])\n",
    "\n",
    "# Display the model summary\n",
    "model_smote.summary()"
   ]
  },
  {
   "cell_type": "code",
   "execution_count": 60,
   "id": "ede34432-079e-4ff9-9657-364acc1357c4",
   "metadata": {},
   "outputs": [
    {
     "name": "stdout",
     "output_type": "stream",
     "text": [
      "Epoch 1/50\n",
      "\u001b[1m1192/1192\u001b[0m \u001b[32m━━━━━━━━━━━━━━━━━━━━\u001b[0m\u001b[37m\u001b[0m \u001b[1m10s\u001b[0m 5ms/step - accuracy: 0.2644 - loss: 1.8855 - val_accuracy: 0.0147 - val_loss: 3.6825 - learning_rate: 5.0000e-04\n",
      "Epoch 2/50\n",
      "\u001b[1m1192/1192\u001b[0m \u001b[32m━━━━━━━━━━━━━━━━━━━━\u001b[0m\u001b[37m\u001b[0m \u001b[1m9s\u001b[0m 4ms/step - accuracy: 0.3659 - loss: 1.6710 - val_accuracy: 0.0181 - val_loss: 3.5751 - learning_rate: 5.0000e-04\n",
      "Epoch 3/50\n",
      "\u001b[1m1192/1192\u001b[0m \u001b[32m━━━━━━━━━━━━━━━━━━━━\u001b[0m\u001b[37m\u001b[0m \u001b[1m6s\u001b[0m 5ms/step - accuracy: 0.4076 - loss: 1.5798 - val_accuracy: 0.0200 - val_loss: 3.5894 - learning_rate: 5.0000e-04\n",
      "Epoch 4/50\n",
      "\u001b[1m1192/1192\u001b[0m \u001b[32m━━━━━━━━━━━━━━━━━━━━\u001b[0m\u001b[37m\u001b[0m \u001b[1m4s\u001b[0m 3ms/step - accuracy: 0.4419 - loss: 1.4944 - val_accuracy: 0.0940 - val_loss: 3.3426 - learning_rate: 5.0000e-04\n",
      "Epoch 5/50\n",
      "\u001b[1m1192/1192\u001b[0m \u001b[32m━━━━━━━━━━━━━━━━━━━━\u001b[0m\u001b[37m\u001b[0m \u001b[1m5s\u001b[0m 4ms/step - accuracy: 0.4730 - loss: 1.4238 - val_accuracy: 0.1271 - val_loss: 3.3757 - learning_rate: 5.0000e-04\n",
      "Epoch 6/50\n",
      "\u001b[1m1192/1192\u001b[0m \u001b[32m━━━━━━━━━━━━━━━━━━━━\u001b[0m\u001b[37m\u001b[0m \u001b[1m5s\u001b[0m 4ms/step - accuracy: 0.4954 - loss: 1.3735 - val_accuracy: 0.1590 - val_loss: 3.2178 - learning_rate: 5.0000e-04\n",
      "Epoch 7/50\n",
      "\u001b[1m1192/1192\u001b[0m \u001b[32m━━━━━━━━━━━━━━━━━━━━\u001b[0m\u001b[37m\u001b[0m \u001b[1m5s\u001b[0m 4ms/step - accuracy: 0.5115 - loss: 1.3304 - val_accuracy: 0.1656 - val_loss: 3.1096 - learning_rate: 5.0000e-04\n",
      "Epoch 8/50\n",
      "\u001b[1m1192/1192\u001b[0m \u001b[32m━━━━━━━━━━━━━━━━━━━━\u001b[0m\u001b[37m\u001b[0m \u001b[1m5s\u001b[0m 4ms/step - accuracy: 0.5290 - loss: 1.2940 - val_accuracy: 0.1825 - val_loss: 3.0826 - learning_rate: 5.0000e-04\n",
      "Epoch 9/50\n",
      "\u001b[1m1192/1192\u001b[0m \u001b[32m━━━━━━━━━━━━━━━━━━━━\u001b[0m\u001b[37m\u001b[0m \u001b[1m5s\u001b[0m 4ms/step - accuracy: 0.5371 - loss: 1.2687 - val_accuracy: 0.1719 - val_loss: 3.1115 - learning_rate: 5.0000e-04\n",
      "Epoch 10/50\n",
      "\u001b[1m1192/1192\u001b[0m \u001b[32m━━━━━━━━━━━━━━━━━━━━\u001b[0m\u001b[37m\u001b[0m \u001b[1m9s\u001b[0m 4ms/step - accuracy: 0.5564 - loss: 1.2333 - val_accuracy: 0.2112 - val_loss: 3.1310 - learning_rate: 5.0000e-04\n",
      "Epoch 11/50\n",
      "\u001b[1m1192/1192\u001b[0m \u001b[32m━━━━━━━━━━━━━━━━━━━━\u001b[0m\u001b[37m\u001b[0m \u001b[1m5s\u001b[0m 4ms/step - accuracy: 0.5556 - loss: 1.2261 - val_accuracy: 0.1953 - val_loss: 3.1177 - learning_rate: 5.0000e-04\n",
      "Epoch 12/50\n",
      "\u001b[1m1192/1192\u001b[0m \u001b[32m━━━━━━━━━━━━━━━━━━━━\u001b[0m\u001b[37m\u001b[0m \u001b[1m5s\u001b[0m 4ms/step - accuracy: 0.5681 - loss: 1.2037 - val_accuracy: 0.2286 - val_loss: 3.0715 - learning_rate: 5.0000e-04\n",
      "Epoch 13/50\n",
      "\u001b[1m1192/1192\u001b[0m \u001b[32m━━━━━━━━━━━━━━━━━━━━\u001b[0m\u001b[37m\u001b[0m \u001b[1m5s\u001b[0m 4ms/step - accuracy: 0.5748 - loss: 1.1758 - val_accuracy: 0.2117 - val_loss: 3.0686 - learning_rate: 5.0000e-04\n",
      "Epoch 14/50\n",
      "\u001b[1m1192/1192\u001b[0m \u001b[32m━━━━━━━━━━━━━━━━━━━━\u001b[0m\u001b[37m\u001b[0m \u001b[1m5s\u001b[0m 4ms/step - accuracy: 0.5775 - loss: 1.1686 - val_accuracy: 0.2464 - val_loss: 3.0313 - learning_rate: 5.0000e-04\n",
      "Epoch 15/50\n",
      "\u001b[1m1192/1192\u001b[0m \u001b[32m━━━━━━━━━━━━━━━━━━━━\u001b[0m\u001b[37m\u001b[0m \u001b[1m5s\u001b[0m 4ms/step - accuracy: 0.5858 - loss: 1.1540 - val_accuracy: 0.2145 - val_loss: 3.1164 - learning_rate: 5.0000e-04\n",
      "Epoch 16/50\n",
      "\u001b[1m1192/1192\u001b[0m \u001b[32m━━━━━━━━━━━━━━━━━━━━\u001b[0m\u001b[37m\u001b[0m \u001b[1m5s\u001b[0m 4ms/step - accuracy: 0.5976 - loss: 1.1295 - val_accuracy: 0.2649 - val_loss: 2.9871 - learning_rate: 5.0000e-04\n",
      "Epoch 17/50\n",
      "\u001b[1m1192/1192\u001b[0m \u001b[32m━━━━━━━━━━━━━━━━━━━━\u001b[0m\u001b[37m\u001b[0m \u001b[1m5s\u001b[0m 4ms/step - accuracy: 0.6004 - loss: 1.1225 - val_accuracy: 0.2016 - val_loss: 2.9647 - learning_rate: 5.0000e-04\n",
      "Epoch 18/50\n",
      "\u001b[1m1192/1192\u001b[0m \u001b[32m━━━━━━━━━━━━━━━━━━━━\u001b[0m\u001b[37m\u001b[0m \u001b[1m5s\u001b[0m 4ms/step - accuracy: 0.6019 - loss: 1.1138 - val_accuracy: 0.2424 - val_loss: 2.9427 - learning_rate: 5.0000e-04\n",
      "Epoch 19/50\n",
      "\u001b[1m1192/1192\u001b[0m \u001b[32m━━━━━━━━━━━━━━━━━━━━\u001b[0m\u001b[37m\u001b[0m \u001b[1m9s\u001b[0m 4ms/step - accuracy: 0.6047 - loss: 1.1028 - val_accuracy: 0.2724 - val_loss: 2.9224 - learning_rate: 5.0000e-04\n",
      "Epoch 20/50\n",
      "\u001b[1m1192/1192\u001b[0m \u001b[32m━━━━━━━━━━━━━━━━━━━━\u001b[0m\u001b[37m\u001b[0m \u001b[1m5s\u001b[0m 4ms/step - accuracy: 0.6099 - loss: 1.0972 - val_accuracy: 0.2488 - val_loss: 3.0284 - learning_rate: 5.0000e-04\n",
      "Epoch 21/50\n",
      "\u001b[1m1192/1192\u001b[0m \u001b[32m━━━━━━━━━━━━━━━━━━━━\u001b[0m\u001b[37m\u001b[0m \u001b[1m5s\u001b[0m 4ms/step - accuracy: 0.6089 - loss: 1.0960 - val_accuracy: 0.2083 - val_loss: 3.0587 - learning_rate: 5.0000e-04\n",
      "Epoch 22/50\n",
      "\u001b[1m1192/1192\u001b[0m \u001b[32m━━━━━━━━━━━━━━━━━━━━\u001b[0m\u001b[37m\u001b[0m \u001b[1m5s\u001b[0m 4ms/step - accuracy: 0.6253 - loss: 1.0690 - val_accuracy: 0.2782 - val_loss: 2.9567 - learning_rate: 5.0000e-04\n",
      "Epoch 23/50\n",
      "\u001b[1m1192/1192\u001b[0m \u001b[32m━━━━━━━━━━━━━━━━━━━━\u001b[0m\u001b[37m\u001b[0m \u001b[1m5s\u001b[0m 4ms/step - accuracy: 0.6198 - loss: 1.0824 - val_accuracy: 0.2589 - val_loss: 3.0160 - learning_rate: 5.0000e-04\n",
      "Epoch 24/50\n",
      "\u001b[1m1192/1192\u001b[0m \u001b[32m━━━━━━━━━━━━━━━━━━━━\u001b[0m\u001b[37m\u001b[0m \u001b[1m4s\u001b[0m 3ms/step - accuracy: 0.6290 - loss: 1.0546 - val_accuracy: 0.2494 - val_loss: 2.9894 - learning_rate: 5.0000e-04\n",
      "Epoch 25/50\n",
      "\u001b[1m1192/1192\u001b[0m \u001b[32m━━━━━━━━━━━━━━━━━━━━\u001b[0m\u001b[37m\u001b[0m \u001b[1m5s\u001b[0m 4ms/step - accuracy: 0.6339 - loss: 1.0359 - val_accuracy: 0.2520 - val_loss: 2.9245 - learning_rate: 2.5000e-04\n",
      "Epoch 26/50\n",
      "\u001b[1m1192/1192\u001b[0m \u001b[32m━━━━━━━━━━━━━━━━━━━━\u001b[0m\u001b[37m\u001b[0m \u001b[1m5s\u001b[0m 3ms/step - accuracy: 0.6397 - loss: 1.0294 - val_accuracy: 0.2464 - val_loss: 2.9487 - learning_rate: 2.5000e-04\n",
      "Epoch 27/50\n",
      "\u001b[1m1192/1192\u001b[0m \u001b[32m━━━━━━━━━━━━━━━━━━━━\u001b[0m\u001b[37m\u001b[0m \u001b[1m5s\u001b[0m 4ms/step - accuracy: 0.6320 - loss: 1.0462 - val_accuracy: 0.2886 - val_loss: 2.9024 - learning_rate: 2.5000e-04\n",
      "Epoch 28/50\n",
      "\u001b[1m1192/1192\u001b[0m \u001b[32m━━━━━━━━━━━━━━━━━━━━\u001b[0m\u001b[37m\u001b[0m \u001b[1m5s\u001b[0m 4ms/step - accuracy: 0.6394 - loss: 1.0262 - val_accuracy: 0.2718 - val_loss: 2.9262 - learning_rate: 2.5000e-04\n",
      "Epoch 29/50\n",
      "\u001b[1m1192/1192\u001b[0m \u001b[32m━━━━━━━━━━━━━━━━━━━━\u001b[0m\u001b[37m\u001b[0m \u001b[1m5s\u001b[0m 4ms/step - accuracy: 0.6410 - loss: 1.0228 - val_accuracy: 0.2714 - val_loss: 2.9104 - learning_rate: 2.5000e-04\n",
      "Epoch 30/50\n",
      "\u001b[1m1192/1192\u001b[0m \u001b[32m━━━━━━━━━━━━━━━━━━━━\u001b[0m\u001b[37m\u001b[0m \u001b[1m5s\u001b[0m 4ms/step - accuracy: 0.6425 - loss: 1.0217 - val_accuracy: 0.2567 - val_loss: 2.9637 - learning_rate: 2.5000e-04\n",
      "Epoch 31/50\n",
      "\u001b[1m1192/1192\u001b[0m \u001b[32m━━━━━━━━━━━━━━━━━━━━\u001b[0m\u001b[37m\u001b[0m \u001b[1m5s\u001b[0m 4ms/step - accuracy: 0.6424 - loss: 1.0163 - val_accuracy: 0.2572 - val_loss: 2.9161 - learning_rate: 2.5000e-04\n",
      "Epoch 32/50\n",
      "\u001b[1m1192/1192\u001b[0m \u001b[32m━━━━━━━━━━━━━━━━━━━━\u001b[0m\u001b[37m\u001b[0m \u001b[1m5s\u001b[0m 4ms/step - accuracy: 0.6441 - loss: 1.0121 - val_accuracy: 0.3026 - val_loss: 2.8999 - learning_rate: 2.5000e-04\n",
      "Epoch 33/50\n",
      "\u001b[1m1192/1192\u001b[0m \u001b[32m━━━━━━━━━━━━━━━━━━━━\u001b[0m\u001b[37m\u001b[0m \u001b[1m5s\u001b[0m 4ms/step - accuracy: 0.6456 - loss: 1.0067 - val_accuracy: 0.3143 - val_loss: 2.8356 - learning_rate: 2.5000e-04\n",
      "Epoch 34/50\n",
      "\u001b[1m1192/1192\u001b[0m \u001b[32m━━━━━━━━━━━━━━━━━━━━\u001b[0m\u001b[37m\u001b[0m \u001b[1m5s\u001b[0m 4ms/step - accuracy: 0.6478 - loss: 1.0092 - val_accuracy: 0.3117 - val_loss: 2.8514 - learning_rate: 2.5000e-04\n",
      "Epoch 35/50\n",
      "\u001b[1m1192/1192\u001b[0m \u001b[32m━━━━━━━━━━━━━━━━━━━━\u001b[0m\u001b[37m\u001b[0m \u001b[1m9s\u001b[0m 4ms/step - accuracy: 0.6483 - loss: 0.9968 - val_accuracy: 0.2902 - val_loss: 2.8902 - learning_rate: 2.5000e-04\n",
      "Epoch 36/50\n",
      "\u001b[1m1192/1192\u001b[0m \u001b[32m━━━━━━━━━━━━━━━━━━━━\u001b[0m\u001b[37m\u001b[0m \u001b[1m5s\u001b[0m 4ms/step - accuracy: 0.6503 - loss: 0.9940 - val_accuracy: 0.2972 - val_loss: 2.8849 - learning_rate: 2.5000e-04\n",
      "Epoch 37/50\n",
      "\u001b[1m1192/1192\u001b[0m \u001b[32m━━━━━━━━━━━━━━━━━━━━\u001b[0m\u001b[37m\u001b[0m \u001b[1m5s\u001b[0m 5ms/step - accuracy: 0.6496 - loss: 0.9951 - val_accuracy: 0.2729 - val_loss: 2.9206 - learning_rate: 2.5000e-04\n",
      "Epoch 38/50\n",
      "\u001b[1m1192/1192\u001b[0m \u001b[32m━━━━━━━━━━━━━━━━━━━━\u001b[0m\u001b[37m\u001b[0m \u001b[1m4s\u001b[0m 3ms/step - accuracy: 0.6505 - loss: 0.9984 - val_accuracy: 0.2650 - val_loss: 2.9036 - learning_rate: 2.5000e-04\n",
      "Epoch 39/50\n",
      "\u001b[1m1192/1192\u001b[0m \u001b[32m━━━━━━━━━━━━━━━━━━━━\u001b[0m\u001b[37m\u001b[0m \u001b[1m5s\u001b[0m 4ms/step - accuracy: 0.6615 - loss: 0.9794 - val_accuracy: 0.2778 - val_loss: 2.8910 - learning_rate: 1.2500e-04\n",
      "Epoch 40/50\n",
      "\u001b[1m1192/1192\u001b[0m \u001b[32m━━━━━━━━━━━━━━━━━━━━\u001b[0m\u001b[37m\u001b[0m \u001b[1m4s\u001b[0m 4ms/step - accuracy: 0.6554 - loss: 0.9902 - val_accuracy: 0.2965 - val_loss: 2.8552 - learning_rate: 1.2500e-04\n",
      "Epoch 41/50\n",
      "\u001b[1m1192/1192\u001b[0m \u001b[32m━━━━━━━━━━━━━━━━━━━━\u001b[0m\u001b[37m\u001b[0m \u001b[1m5s\u001b[0m 4ms/step - accuracy: 0.6598 - loss: 0.9670 - val_accuracy: 0.2852 - val_loss: 2.8878 - learning_rate: 1.2500e-04\n",
      "Epoch 42/50\n",
      "\u001b[1m1192/1192\u001b[0m \u001b[32m━━━━━━━━━━━━━━━━━━━━\u001b[0m\u001b[37m\u001b[0m \u001b[1m5s\u001b[0m 4ms/step - accuracy: 0.6635 - loss: 0.9639 - val_accuracy: 0.3023 - val_loss: 2.8460 - learning_rate: 1.2500e-04\n",
      "Epoch 43/50\n",
      "\u001b[1m1192/1192\u001b[0m \u001b[32m━━━━━━━━━━━━━━━━━━━━\u001b[0m\u001b[37m\u001b[0m \u001b[1m5s\u001b[0m 4ms/step - accuracy: 0.6645 - loss: 0.9641 - val_accuracy: 0.3133 - val_loss: 2.8126 - learning_rate: 1.2500e-04\n",
      "Epoch 44/50\n",
      "\u001b[1m1192/1192\u001b[0m \u001b[32m━━━━━━━━━━━━━━━━━━━━\u001b[0m\u001b[37m\u001b[0m \u001b[1m5s\u001b[0m 4ms/step - accuracy: 0.6655 - loss: 0.9598 - val_accuracy: 0.2749 - val_loss: 2.8642 - learning_rate: 1.2500e-04\n",
      "Epoch 45/50\n",
      "\u001b[1m1192/1192\u001b[0m \u001b[32m━━━━━━━━━━━━━━━━━━━━\u001b[0m\u001b[37m\u001b[0m \u001b[1m5s\u001b[0m 4ms/step - accuracy: 0.6627 - loss: 0.9664 - val_accuracy: 0.2881 - val_loss: 2.8151 - learning_rate: 1.2500e-04\n",
      "Epoch 46/50\n",
      "\u001b[1m1192/1192\u001b[0m \u001b[32m━━━━━━━━━━━━━━━━━━━━\u001b[0m\u001b[37m\u001b[0m \u001b[1m5s\u001b[0m 4ms/step - accuracy: 0.6649 - loss: 0.9580 - val_accuracy: 0.2942 - val_loss: 2.8421 - learning_rate: 1.2500e-04\n",
      "Epoch 47/50\n",
      "\u001b[1m1192/1192\u001b[0m \u001b[32m━━━━━━━━━━━━━━━━━━━━\u001b[0m\u001b[37m\u001b[0m \u001b[1m5s\u001b[0m 4ms/step - accuracy: 0.6658 - loss: 0.9602 - val_accuracy: 0.3024 - val_loss: 2.8318 - learning_rate: 1.2500e-04\n",
      "Epoch 48/50\n",
      "\u001b[1m1192/1192\u001b[0m \u001b[32m━━━━━━━━━━━━━━━━━━━━\u001b[0m\u001b[37m\u001b[0m \u001b[1m5s\u001b[0m 4ms/step - accuracy: 0.6650 - loss: 0.9667 - val_accuracy: 0.3098 - val_loss: 2.8448 - learning_rate: 1.2500e-04\n",
      "Epoch 49/50\n",
      "\u001b[1m1192/1192\u001b[0m \u001b[32m━━━━━━━━━━━━━━━━━━━━\u001b[0m\u001b[37m\u001b[0m \u001b[1m5s\u001b[0m 4ms/step - accuracy: 0.6644 - loss: 0.9528 - val_accuracy: 0.3076 - val_loss: 2.8411 - learning_rate: 6.2500e-05\n",
      "Epoch 50/50\n",
      "\u001b[1m1192/1192\u001b[0m \u001b[32m━━━━━━━━━━━━━━━━━━━━\u001b[0m\u001b[37m\u001b[0m \u001b[1m5s\u001b[0m 4ms/step - accuracy: 0.6654 - loss: 0.9573 - val_accuracy: 0.3136 - val_loss: 2.8200 - learning_rate: 6.2500e-05\n"
     ]
    }
   ],
   "source": [
    "# Define callbacks\n",
    "early_stopping = EarlyStopping(monitor='val_loss', patience=10, restore_best_weights=True)\n",
    "reduce_lr = ReduceLROnPlateau(monitor='val_loss', factor=0.5, patience=5, min_lr=0.00001)\n",
    "\n",
    "# Train the model on SMOTE balanced data\n",
    "history_smote = model_smote.fit(\n",
    "    X_train_smote, y_train_smote, \n",
    "    epochs=50, \n",
    "    batch_size=32, \n",
    "    validation_split=0.2, \n",
    "    callbacks=[early_stopping, reduce_lr], \n",
    "    verbose=1\n",
    ")"
   ]
  },
  {
   "cell_type": "code",
   "execution_count": 61,
   "id": "c56afdd1-1a3b-4a2b-8f53-34dbd7347861",
   "metadata": {},
   "outputs": [
    {
     "data": {
      "text/html": [
       "<div>\n",
       "<style scoped>\n",
       "    .dataframe tbody tr th:only-of-type {\n",
       "        vertical-align: middle;\n",
       "    }\n",
       "\n",
       "    .dataframe tbody tr th {\n",
       "        vertical-align: top;\n",
       "    }\n",
       "\n",
       "    .dataframe thead th {\n",
       "        text-align: right;\n",
       "    }\n",
       "</style>\n",
       "<table border=\"1\" class=\"dataframe\">\n",
       "  <thead>\n",
       "    <tr style=\"text-align: right;\">\n",
       "      <th></th>\n",
       "      <th>accuracy</th>\n",
       "      <th>loss</th>\n",
       "      <th>val_accuracy</th>\n",
       "      <th>val_loss</th>\n",
       "      <th>learning_rate</th>\n",
       "    </tr>\n",
       "  </thead>\n",
       "  <tbody>\n",
       "    <tr>\n",
       "      <th>0</th>\n",
       "      <td>0.306054</td>\n",
       "      <td>1.797860</td>\n",
       "      <td>0.014683</td>\n",
       "      <td>3.682458</td>\n",
       "      <td>0.000500</td>\n",
       "    </tr>\n",
       "    <tr>\n",
       "      <th>1</th>\n",
       "      <td>0.380995</td>\n",
       "      <td>1.642796</td>\n",
       "      <td>0.018144</td>\n",
       "      <td>3.575133</td>\n",
       "      <td>0.000500</td>\n",
       "    </tr>\n",
       "    <tr>\n",
       "      <th>2</th>\n",
       "      <td>0.420615</td>\n",
       "      <td>1.555348</td>\n",
       "      <td>0.020031</td>\n",
       "      <td>3.589385</td>\n",
       "      <td>0.000500</td>\n",
       "    </tr>\n",
       "    <tr>\n",
       "      <th>3</th>\n",
       "      <td>0.450088</td>\n",
       "      <td>1.476702</td>\n",
       "      <td>0.093970</td>\n",
       "      <td>3.342593</td>\n",
       "      <td>0.000500</td>\n",
       "    </tr>\n",
       "    <tr>\n",
       "      <th>4</th>\n",
       "      <td>0.478171</td>\n",
       "      <td>1.411014</td>\n",
       "      <td>0.127111</td>\n",
       "      <td>3.375731</td>\n",
       "      <td>0.000500</td>\n",
       "    </tr>\n",
       "    <tr>\n",
       "      <th>5</th>\n",
       "      <td>0.499331</td>\n",
       "      <td>1.362581</td>\n",
       "      <td>0.158993</td>\n",
       "      <td>3.217805</td>\n",
       "      <td>0.000500</td>\n",
       "    </tr>\n",
       "    <tr>\n",
       "      <th>6</th>\n",
       "      <td>0.515457</td>\n",
       "      <td>1.326341</td>\n",
       "      <td>0.165600</td>\n",
       "      <td>3.109565</td>\n",
       "      <td>0.000500</td>\n",
       "    </tr>\n",
       "    <tr>\n",
       "      <th>7</th>\n",
       "      <td>0.531898</td>\n",
       "      <td>1.288318</td>\n",
       "      <td>0.182486</td>\n",
       "      <td>3.082579</td>\n",
       "      <td>0.000500</td>\n",
       "    </tr>\n",
       "    <tr>\n",
       "      <th>8</th>\n",
       "      <td>0.547605</td>\n",
       "      <td>1.255410</td>\n",
       "      <td>0.171893</td>\n",
       "      <td>3.111457</td>\n",
       "      <td>0.000500</td>\n",
       "    </tr>\n",
       "    <tr>\n",
       "      <th>9</th>\n",
       "      <td>0.555419</td>\n",
       "      <td>1.235081</td>\n",
       "      <td>0.211222</td>\n",
       "      <td>3.130976</td>\n",
       "      <td>0.000500</td>\n",
       "    </tr>\n",
       "    <tr>\n",
       "      <th>10</th>\n",
       "      <td>0.562498</td>\n",
       "      <td>1.212391</td>\n",
       "      <td>0.195281</td>\n",
       "      <td>3.117736</td>\n",
       "      <td>0.000500</td>\n",
       "    </tr>\n",
       "    <tr>\n",
       "      <th>11</th>\n",
       "      <td>0.569657</td>\n",
       "      <td>1.193075</td>\n",
       "      <td>0.228631</td>\n",
       "      <td>3.071532</td>\n",
       "      <td>0.000500</td>\n",
       "    </tr>\n",
       "    <tr>\n",
       "      <th>12</th>\n",
       "      <td>0.575924</td>\n",
       "      <td>1.175987</td>\n",
       "      <td>0.211746</td>\n",
       "      <td>3.068612</td>\n",
       "      <td>0.000500</td>\n",
       "    </tr>\n",
       "    <tr>\n",
       "      <th>13</th>\n",
       "      <td>0.581063</td>\n",
       "      <td>1.161381</td>\n",
       "      <td>0.246356</td>\n",
       "      <td>3.031299</td>\n",
       "      <td>0.000500</td>\n",
       "    </tr>\n",
       "    <tr>\n",
       "      <th>14</th>\n",
       "      <td>0.589952</td>\n",
       "      <td>1.150820</td>\n",
       "      <td>0.214473</td>\n",
       "      <td>3.116367</td>\n",
       "      <td>0.000500</td>\n",
       "    </tr>\n",
       "    <tr>\n",
       "      <th>15</th>\n",
       "      <td>0.595380</td>\n",
       "      <td>1.130715</td>\n",
       "      <td>0.264919</td>\n",
       "      <td>2.987131</td>\n",
       "      <td>0.000500</td>\n",
       "    </tr>\n",
       "    <tr>\n",
       "      <th>16</th>\n",
       "      <td>0.598605</td>\n",
       "      <td>1.124930</td>\n",
       "      <td>0.201573</td>\n",
       "      <td>2.964745</td>\n",
       "      <td>0.000500</td>\n",
       "    </tr>\n",
       "    <tr>\n",
       "      <th>17</th>\n",
       "      <td>0.603325</td>\n",
       "      <td>1.114605</td>\n",
       "      <td>0.242370</td>\n",
       "      <td>2.942740</td>\n",
       "      <td>0.000500</td>\n",
       "    </tr>\n",
       "    <tr>\n",
       "      <th>18</th>\n",
       "      <td>0.607914</td>\n",
       "      <td>1.099007</td>\n",
       "      <td>0.272365</td>\n",
       "      <td>2.922412</td>\n",
       "      <td>0.000500</td>\n",
       "    </tr>\n",
       "    <tr>\n",
       "      <th>19</th>\n",
       "      <td>0.609985</td>\n",
       "      <td>1.096270</td>\n",
       "      <td>0.248768</td>\n",
       "      <td>3.028405</td>\n",
       "      <td>0.000500</td>\n",
       "    </tr>\n",
       "    <tr>\n",
       "      <th>20</th>\n",
       "      <td>0.610641</td>\n",
       "      <td>1.090248</td>\n",
       "      <td>0.208285</td>\n",
       "      <td>3.058695</td>\n",
       "      <td>0.000500</td>\n",
       "    </tr>\n",
       "    <tr>\n",
       "      <th>21</th>\n",
       "      <td>0.620605</td>\n",
       "      <td>1.072341</td>\n",
       "      <td>0.278238</td>\n",
       "      <td>2.956719</td>\n",
       "      <td>0.000500</td>\n",
       "    </tr>\n",
       "    <tr>\n",
       "      <th>22</th>\n",
       "      <td>0.620159</td>\n",
       "      <td>1.076098</td>\n",
       "      <td>0.258941</td>\n",
       "      <td>3.016017</td>\n",
       "      <td>0.000500</td>\n",
       "    </tr>\n",
       "    <tr>\n",
       "      <th>23</th>\n",
       "      <td>0.625089</td>\n",
       "      <td>1.061423</td>\n",
       "      <td>0.249397</td>\n",
       "      <td>2.989381</td>\n",
       "      <td>0.000500</td>\n",
       "    </tr>\n",
       "    <tr>\n",
       "      <th>24</th>\n",
       "      <td>0.633427</td>\n",
       "      <td>1.040256</td>\n",
       "      <td>0.252019</td>\n",
       "      <td>2.924459</td>\n",
       "      <td>0.000250</td>\n",
       "    </tr>\n",
       "    <tr>\n",
       "      <th>25</th>\n",
       "      <td>0.635892</td>\n",
       "      <td>1.038266</td>\n",
       "      <td>0.246356</td>\n",
       "      <td>2.948741</td>\n",
       "      <td>0.000250</td>\n",
       "    </tr>\n",
       "    <tr>\n",
       "      <th>26</th>\n",
       "      <td>0.636757</td>\n",
       "      <td>1.035301</td>\n",
       "      <td>0.288621</td>\n",
       "      <td>2.902417</td>\n",
       "      <td>0.000250</td>\n",
       "    </tr>\n",
       "    <tr>\n",
       "      <th>27</th>\n",
       "      <td>0.640271</td>\n",
       "      <td>1.022303</td>\n",
       "      <td>0.271841</td>\n",
       "      <td>2.926213</td>\n",
       "      <td>0.000250</td>\n",
       "    </tr>\n",
       "    <tr>\n",
       "      <th>28</th>\n",
       "      <td>0.642709</td>\n",
       "      <td>1.019378</td>\n",
       "      <td>0.271421</td>\n",
       "      <td>2.910431</td>\n",
       "      <td>0.000250</td>\n",
       "    </tr>\n",
       "    <tr>\n",
       "      <th>29</th>\n",
       "      <td>0.644046</td>\n",
       "      <td>1.019445</td>\n",
       "      <td>0.256738</td>\n",
       "      <td>2.963658</td>\n",
       "      <td>0.000250</td>\n",
       "    </tr>\n",
       "    <tr>\n",
       "      <th>30</th>\n",
       "      <td>0.642631</td>\n",
       "      <td>1.017543</td>\n",
       "      <td>0.257158</td>\n",
       "      <td>2.916085</td>\n",
       "      <td>0.000250</td>\n",
       "    </tr>\n",
       "    <tr>\n",
       "      <th>31</th>\n",
       "      <td>0.647114</td>\n",
       "      <td>1.005513</td>\n",
       "      <td>0.302569</td>\n",
       "      <td>2.899930</td>\n",
       "      <td>0.000250</td>\n",
       "    </tr>\n",
       "    <tr>\n",
       "      <th>32</th>\n",
       "      <td>0.646537</td>\n",
       "      <td>1.008401</td>\n",
       "      <td>0.314316</td>\n",
       "      <td>2.835629</td>\n",
       "      <td>0.000250</td>\n",
       "    </tr>\n",
       "    <tr>\n",
       "      <th>33</th>\n",
       "      <td>0.647455</td>\n",
       "      <td>1.004642</td>\n",
       "      <td>0.311694</td>\n",
       "      <td>2.851449</td>\n",
       "      <td>0.000250</td>\n",
       "    </tr>\n",
       "    <tr>\n",
       "      <th>34</th>\n",
       "      <td>0.650182</td>\n",
       "      <td>0.995589</td>\n",
       "      <td>0.290194</td>\n",
       "      <td>2.890166</td>\n",
       "      <td>0.000250</td>\n",
       "    </tr>\n",
       "    <tr>\n",
       "      <th>35</th>\n",
       "      <td>0.649736</td>\n",
       "      <td>0.998172</td>\n",
       "      <td>0.297221</td>\n",
       "      <td>2.884851</td>\n",
       "      <td>0.000250</td>\n",
       "    </tr>\n",
       "    <tr>\n",
       "      <th>36</th>\n",
       "      <td>0.652044</td>\n",
       "      <td>0.994851</td>\n",
       "      <td>0.272889</td>\n",
       "      <td>2.920642</td>\n",
       "      <td>0.000250</td>\n",
       "    </tr>\n",
       "    <tr>\n",
       "      <th>37</th>\n",
       "      <td>0.650576</td>\n",
       "      <td>0.992671</td>\n",
       "      <td>0.265024</td>\n",
       "      <td>2.903553</td>\n",
       "      <td>0.000250</td>\n",
       "    </tr>\n",
       "    <tr>\n",
       "      <th>38</th>\n",
       "      <td>0.657760</td>\n",
       "      <td>0.982466</td>\n",
       "      <td>0.277819</td>\n",
       "      <td>2.890994</td>\n",
       "      <td>0.000125</td>\n",
       "    </tr>\n",
       "    <tr>\n",
       "      <th>39</th>\n",
       "      <td>0.659360</td>\n",
       "      <td>0.977524</td>\n",
       "      <td>0.296487</td>\n",
       "      <td>2.855212</td>\n",
       "      <td>0.000125</td>\n",
       "    </tr>\n",
       "    <tr>\n",
       "      <th>40</th>\n",
       "      <td>0.658809</td>\n",
       "      <td>0.972008</td>\n",
       "      <td>0.285160</td>\n",
       "      <td>2.887771</td>\n",
       "      <td>0.000125</td>\n",
       "    </tr>\n",
       "    <tr>\n",
       "      <th>41</th>\n",
       "      <td>0.658783</td>\n",
       "      <td>0.973695</td>\n",
       "      <td>0.302255</td>\n",
       "      <td>2.845954</td>\n",
       "      <td>0.000125</td>\n",
       "    </tr>\n",
       "    <tr>\n",
       "      <th>42</th>\n",
       "      <td>0.661772</td>\n",
       "      <td>0.971628</td>\n",
       "      <td>0.313267</td>\n",
       "      <td>2.812574</td>\n",
       "      <td>0.000125</td>\n",
       "    </tr>\n",
       "    <tr>\n",
       "      <th>43</th>\n",
       "      <td>0.661693</td>\n",
       "      <td>0.964961</td>\n",
       "      <td>0.274882</td>\n",
       "      <td>2.864213</td>\n",
       "      <td>0.000125</td>\n",
       "    </tr>\n",
       "    <tr>\n",
       "      <th>44</th>\n",
       "      <td>0.661929</td>\n",
       "      <td>0.972114</td>\n",
       "      <td>0.288096</td>\n",
       "      <td>2.815105</td>\n",
       "      <td>0.000125</td>\n",
       "    </tr>\n",
       "    <tr>\n",
       "      <th>45</th>\n",
       "      <td>0.661536</td>\n",
       "      <td>0.966312</td>\n",
       "      <td>0.294179</td>\n",
       "      <td>2.842141</td>\n",
       "      <td>0.000125</td>\n",
       "    </tr>\n",
       "    <tr>\n",
       "      <th>46</th>\n",
       "      <td>0.663004</td>\n",
       "      <td>0.965043</td>\n",
       "      <td>0.302360</td>\n",
       "      <td>2.831815</td>\n",
       "      <td>0.000125</td>\n",
       "    </tr>\n",
       "    <tr>\n",
       "      <th>47</th>\n",
       "      <td>0.664184</td>\n",
       "      <td>0.961920</td>\n",
       "      <td>0.309806</td>\n",
       "      <td>2.844751</td>\n",
       "      <td>0.000125</td>\n",
       "    </tr>\n",
       "    <tr>\n",
       "      <th>48</th>\n",
       "      <td>0.666885</td>\n",
       "      <td>0.953148</td>\n",
       "      <td>0.307604</td>\n",
       "      <td>2.841061</td>\n",
       "      <td>0.000063</td>\n",
       "    </tr>\n",
       "    <tr>\n",
       "      <th>49</th>\n",
       "      <td>0.663555</td>\n",
       "      <td>0.958524</td>\n",
       "      <td>0.313582</td>\n",
       "      <td>2.820023</td>\n",
       "      <td>0.000063</td>\n",
       "    </tr>\n",
       "  </tbody>\n",
       "</table>\n",
       "</div>"
      ],
      "text/plain": [
       "    accuracy      loss  val_accuracy  val_loss  learning_rate\n",
       "0   0.306054  1.797860      0.014683  3.682458       0.000500\n",
       "1   0.380995  1.642796      0.018144  3.575133       0.000500\n",
       "2   0.420615  1.555348      0.020031  3.589385       0.000500\n",
       "3   0.450088  1.476702      0.093970  3.342593       0.000500\n",
       "4   0.478171  1.411014      0.127111  3.375731       0.000500\n",
       "5   0.499331  1.362581      0.158993  3.217805       0.000500\n",
       "6   0.515457  1.326341      0.165600  3.109565       0.000500\n",
       "7   0.531898  1.288318      0.182486  3.082579       0.000500\n",
       "8   0.547605  1.255410      0.171893  3.111457       0.000500\n",
       "9   0.555419  1.235081      0.211222  3.130976       0.000500\n",
       "10  0.562498  1.212391      0.195281  3.117736       0.000500\n",
       "11  0.569657  1.193075      0.228631  3.071532       0.000500\n",
       "12  0.575924  1.175987      0.211746  3.068612       0.000500\n",
       "13  0.581063  1.161381      0.246356  3.031299       0.000500\n",
       "14  0.589952  1.150820      0.214473  3.116367       0.000500\n",
       "15  0.595380  1.130715      0.264919  2.987131       0.000500\n",
       "16  0.598605  1.124930      0.201573  2.964745       0.000500\n",
       "17  0.603325  1.114605      0.242370  2.942740       0.000500\n",
       "18  0.607914  1.099007      0.272365  2.922412       0.000500\n",
       "19  0.609985  1.096270      0.248768  3.028405       0.000500\n",
       "20  0.610641  1.090248      0.208285  3.058695       0.000500\n",
       "21  0.620605  1.072341      0.278238  2.956719       0.000500\n",
       "22  0.620159  1.076098      0.258941  3.016017       0.000500\n",
       "23  0.625089  1.061423      0.249397  2.989381       0.000500\n",
       "24  0.633427  1.040256      0.252019  2.924459       0.000250\n",
       "25  0.635892  1.038266      0.246356  2.948741       0.000250\n",
       "26  0.636757  1.035301      0.288621  2.902417       0.000250\n",
       "27  0.640271  1.022303      0.271841  2.926213       0.000250\n",
       "28  0.642709  1.019378      0.271421  2.910431       0.000250\n",
       "29  0.644046  1.019445      0.256738  2.963658       0.000250\n",
       "30  0.642631  1.017543      0.257158  2.916085       0.000250\n",
       "31  0.647114  1.005513      0.302569  2.899930       0.000250\n",
       "32  0.646537  1.008401      0.314316  2.835629       0.000250\n",
       "33  0.647455  1.004642      0.311694  2.851449       0.000250\n",
       "34  0.650182  0.995589      0.290194  2.890166       0.000250\n",
       "35  0.649736  0.998172      0.297221  2.884851       0.000250\n",
       "36  0.652044  0.994851      0.272889  2.920642       0.000250\n",
       "37  0.650576  0.992671      0.265024  2.903553       0.000250\n",
       "38  0.657760  0.982466      0.277819  2.890994       0.000125\n",
       "39  0.659360  0.977524      0.296487  2.855212       0.000125\n",
       "40  0.658809  0.972008      0.285160  2.887771       0.000125\n",
       "41  0.658783  0.973695      0.302255  2.845954       0.000125\n",
       "42  0.661772  0.971628      0.313267  2.812574       0.000125\n",
       "43  0.661693  0.964961      0.274882  2.864213       0.000125\n",
       "44  0.661929  0.972114      0.288096  2.815105       0.000125\n",
       "45  0.661536  0.966312      0.294179  2.842141       0.000125\n",
       "46  0.663004  0.965043      0.302360  2.831815       0.000125\n",
       "47  0.664184  0.961920      0.309806  2.844751       0.000125\n",
       "48  0.666885  0.953148      0.307604  2.841061       0.000063\n",
       "49  0.663555  0.958524      0.313582  2.820023       0.000063"
      ]
     },
     "execution_count": 61,
     "metadata": {},
     "output_type": "execute_result"
    }
   ],
   "source": [
    "history_smote_df = pd.DataFrame(history_smote.history)\n",
    "history_smote_df"
   ]
  },
  {
   "cell_type": "code",
   "execution_count": null,
   "id": "02e13242-ac04-4fbd-b506-d65dab40e6d3",
   "metadata": {},
   "outputs": [],
   "source": []
  },
  {
   "cell_type": "code",
   "execution_count": 62,
   "id": "b23f8379-98ff-4f7a-8928-677ce66c715f",
   "metadata": {},
   "outputs": [
    {
     "data": {
      "image/png": "[encoded data removed]",
      "text/plain": [
       "<Figure size 2000x500 with 2 Axes>"
      ]
     },
     "metadata": {},
     "output_type": "display_data"
    }
   ],
   "source": [
    "training_loss = history_smote_df['loss']\n",
    "val_loss = history_smote_df['val_loss']\n",
    "training_accurancy = history_smote_df['accuracy']\n",
    "val_accurancy = history_smote_df ['val_accuracy']\n",
    "\n",
    "#plot the loss\n",
    "fig7, ax7 = plt.subplots(1,2, figsize =(20,5))\n",
    "ax7[0].plot(training_loss)\n",
    "ax7[0].plot(val_loss)\n",
    "ax7[0].set_xlabel('Epoch', fontsize =20)\n",
    "ax7[0].set_ylabel('Loss', fontsize =20)\n",
    "ax7[0].set_title('MLP_Model_SMOTE_loss')\n",
    "ax7[0].legend(['Train', 'Validation'], loc='upper left')\n",
    "\n",
    "#plot the accurancy\n",
    "ax7[1].plot(training_accurancy)\n",
    "ax7[1].plot(val_accurancy )\n",
    "ax7[1].set_xlabel('Epoch', fontsize =20)\n",
    "ax7[1].set_ylabel('Accurancy', fontsize =20)\n",
    "ax7[1].set_title('MLP_Model_SMOTE_Accuracy')\n",
    "ax7[1].legend(['Train', 'Validation'], loc='upper left') \n",
    "\n",
    "plt.tight_layout()\n",
    "plt.show()"
   ]
  },
  {
   "cell_type": "code",
   "execution_count": null,
   "id": "23e944cc-9bfc-4b72-b26a-259044606975",
   "metadata": {},
   "outputs": [],
   "source": []
  },
  {
   "cell_type": "code",
   "execution_count": 63,
   "id": "67ada9cf-6fbf-4ca6-8541-75387b5786de",
   "metadata": {},
   "outputs": [
    {
     "name": "stdout",
     "output_type": "stream",
     "text": [
      "\u001b[1m123/123\u001b[0m \u001b[32m━━━━━━━━━━━━━━━━━━━━\u001b[0m\u001b[37m\u001b[0m \u001b[1m1s\u001b[0m 4ms/step\n",
      "Optimised MLP Accuracy with SMOTE: 0.53\n",
      "MLP Classification Report:\n",
      "              precision    recall  f1-score   support\n",
      "\n",
      "Agricultural       0.32      0.58      0.41       206\n",
      "  Commercial       0.23      0.49      0.31       141\n",
      "  Industrial       0.31      0.68      0.43       231\n",
      "     Natural       0.40      0.55      0.46       539\n",
      "Recreational       0.18      0.62      0.28       129\n",
      " Residential       0.95      0.53      0.68      2554\n",
      "   Transport       0.03      0.09      0.04        32\n",
      "       Water       1.00      0.02      0.04       102\n",
      "\n",
      "    accuracy                           0.53      3934\n",
      "   macro avg       0.43      0.45      0.33      3934\n",
      "weighted avg       0.74      0.53      0.58      3934\n",
      "\n"
     ]
    }
   ],
   "source": [
    "# Evaluate the model on the test data\n",
    "y_pred_prob = model_smote.predict(X_test_scaled)\n",
    "y_pred = np.argmax(y_pred_prob, axis=1)\n",
    "y_test_true = np.argmax(y_test, axis=1)\n",
    "\n",
    "# Calculate accuracy\n",
    "accuracy_mlp = accuracy_score(y_test_true, y_pred)\n",
    "print(f\"Optimised MLP Accuracy with SMOTE: {accuracy_mlp:.2f}\")\n",
    "\n",
    "# Print classification report\n",
    "print(\"MLP Classification Report:\")\n",
    "print(classification_report(y_test_true, y_pred, target_names=label_encoder.classes_))"
   ]
  },
  {
   "cell_type": "code",
   "execution_count": 64,
   "id": "b055c1b0-d83d-41df-bed2-3b6258dadf22",
   "metadata": {},
   "outputs": [
    {
     "name": "stdout",
     "output_type": "stream",
     "text": [
      "Average F1-score: 0.33\n",
      "Average Precision: 0.43\n",
      "Average Recall: 0.45\n",
      "Average AUC: 0.85\n"
     ]
    }
   ],
   "source": [
    "# Calculate average metrics from the classification report\n",
    "report_mlp_smote = classification_report(y_test_true, y_pred, target_names=label_encoder.classes_, output_dict=True)\n",
    "\n",
    "avg_f1_mlp_smote = report_mlp_smote['macro avg']['f1-score']\n",
    "avg_precision_mlp_smote = report_mlp_smote['macro avg']['precision']\n",
    "avg_recall_mlp_smote = report_mlp_smote['macro avg']['recall']\n",
    "\n",
    "print(f\"Average F1-score: {avg_f1_mlp_smote:.2f}\")\n",
    "print(f\"Average Precision: {avg_precision_mlp_smote:.2f}\")\n",
    "print(f\"Average Recall: {avg_recall_mlp_smote:.2f}\")\n",
    "\n",
    "# Binarize the output for AUC calculation\n",
    "y_test_bin = label_binarize(y_test_true, classes=np.arange(len(label_encoder.classes_)))\n",
    "\n",
    "# Compute AUC for each class\n",
    "auc_mlp_smote = roc_auc_score(y_test_bin, y_pred_prob, average=\"macro\", multi_class=\"ovr\")\n",
    "\n",
    "print(f\"Average AUC: {auc_mlp_smote:.2f}\")"
   ]
  },
  {
   "cell_type": "code",
   "execution_count": 65,
   "id": "c7f25291-09ce-4278-b767-d6db66df7265",
   "metadata": {},
   "outputs": [
    {
     "data": {
      "image/png": "[encoded data removed]",
      "text/plain": [
       "<Figure size 1000x800 with 2 Axes>"
      ]
     },
     "metadata": {},
     "output_type": "display_data"
    }
   ],
   "source": [
    "# Plot the confusion matrix\n",
    "conf_matrix_mlp2 = confusion_matrix(y_test_true, y_pred)\n",
    "plt.figure(figsize=(10, 8))\n",
    "sns.heatmap(conf_matrix_mlp2, annot=True, fmt='d', cmap='Blues', xticklabels=label_encoder.classes_, yticklabels=label_encoder.classes_)\n",
    "plt.xlabel('Predicted Label')\n",
    "plt.ylabel('True Label')\n",
    "plt.title('Optimized MLP Confusion Matrix with SMOTE')\n",
    "plt.show()"
   ]
  },
  {
   "cell_type": "code",
   "execution_count": null,
   "id": "7871a694-7293-4fdc-b033-fb80dd6d6f2d",
   "metadata": {},
   "outputs": [],
   "source": []
  },
  {
   "cell_type": "markdown",
   "id": "afebf649-0cda-4954-8f18-a311e6dac2aa",
   "metadata": {},
   "source": [
    "#### Using TOp 10 with MLP"
   ]
  },
  {
   "cell_type": "code",
   "execution_count": 66,
   "id": "54aaf39a-4594-4a34-a5f4-0958ca841eea",
   "metadata": {},
   "outputs": [],
   "source": [
    "top_10_features = [\n",
    "    'poi_density', 'busstop_density', 'area', 'poi_Commercial Services', \n",
    "    'poi_Education and Health', 'poi_total', 'poi_Public Infrastructure', \n",
    "    'total_commercial_poi', 'poi_Transport', 'poi_Manufacturing and Production'\n",
    "]\n",
    "\n",
    "# Extract features and target\n",
    "X = urban_function_df[top_10_features]\n",
    "y = urban_function_df['Landuse_Category']\n",
    "\n",
    "# Encode the target variable\n",
    "label_encoder = LabelEncoder()\n",
    "y_encoded = label_encoder.fit_transform(y)\n",
    "\n",
    "# One-hot encode the target variable\n",
    "y_categorical = to_categorical(y_encoded)\n",
    "\n",
    "# Split the data into training and testing sets\n",
    "X_train, X_test, y_train, y_test = train_test_split(X, y_categorical, test_size=0.3, random_state=42, stratify=y_encoded)\n",
    "\n",
    "# Standardize the features\n",
    "scaler = StandardScaler()\n",
    "X_train_scaled = scaler.fit_transform(X_train)\n",
    "X_test_scaled = scaler.transform(X_test)\n",
    "\n",
    "# Apply SMOTE to the training data\n",
    "smote = SMOTE(random_state=42)\n",
    "X_train_smote, y_train_smote = smote.fit_resample(X_train_scaled, y_train.argmax(axis=1))"
   ]
  },
  {
   "cell_type": "code",
   "execution_count": 67,
   "id": "6372aaf3-6555-45d1-b331-6367832cb0e9",
   "metadata": {},
   "outputs": [
    {
     "name": "stderr",
     "output_type": "stream",
     "text": [
      "C:\\Users\\user\\anaconda3\\Lib\\site-packages\\keras\\src\\layers\\core\\dense.py:87: UserWarning: Do not pass an `input_shape`/`input_dim` argument to a layer. When using Sequential models, prefer using an `Input(shape)` object as the first layer in the model instead.\n",
      "  super().__init__(activity_regularizer=activity_regularizer, **kwargs)\n"
     ]
    },
    {
     "data": {
      "text/html": [
       "<pre style=\"white-space:pre;overflow-x:auto;line-height:normal;font-family:Menlo,'DejaVu Sans Mono',consolas,'Courier New',monospace\"><span style=\"font-weight: bold\">Model: \"sequential_3\"</span>\n",
       "</pre>\n"
      ],
      "text/plain": [
       "\u001b[1mModel: \"sequential_3\"\u001b[0m\n"
      ]
     },
     "metadata": {},
     "output_type": "display_data"
    },
    {
     "data": {
      "text/html": [
       "<pre style=\"white-space:pre;overflow-x:auto;line-height:normal;font-family:Menlo,'DejaVu Sans Mono',consolas,'Courier New',monospace\">┏━━━━━━━━━━━━━━━━━━━━━━━━━━━━━━━━━━━━━━┳━━━━━━━━━━━━━━━━━━━━━━━━━━━━━┳━━━━━━━━━━━━━━━━━┓\n",
       "┃<span style=\"font-weight: bold\"> Layer (type)                         </span>┃<span style=\"font-weight: bold\"> Output Shape                </span>┃<span style=\"font-weight: bold\">         Param # </span>┃\n",
       "┡━━━━━━━━━━━━━━━━━━━━━━━━━━━━━━━━━━━━━━╇━━━━━━━━━━━━━━━━━━━━━━━━━━━━━╇━━━━━━━━━━━━━━━━━┩\n",
       "│ dense_11 (<span style=\"color: #0087ff; text-decoration-color: #0087ff\">Dense</span>)                     │ (<span style=\"color: #00d7ff; text-decoration-color: #00d7ff\">None</span>, <span style=\"color: #00af00; text-decoration-color: #00af00\">128</span>)                 │           <span style=\"color: #00af00; text-decoration-color: #00af00\">1,408</span> │\n",
       "├──────────────────────────────────────┼─────────────────────────────┼─────────────────┤\n",
       "│ dropout_8 (<span style=\"color: #0087ff; text-decoration-color: #0087ff\">Dropout</span>)                  │ (<span style=\"color: #00d7ff; text-decoration-color: #00d7ff\">None</span>, <span style=\"color: #00af00; text-decoration-color: #00af00\">128</span>)                 │               <span style=\"color: #00af00; text-decoration-color: #00af00\">0</span> │\n",
       "├──────────────────────────────────────┼─────────────────────────────┼─────────────────┤\n",
       "│ dense_12 (<span style=\"color: #0087ff; text-decoration-color: #0087ff\">Dense</span>)                     │ (<span style=\"color: #00d7ff; text-decoration-color: #00d7ff\">None</span>, <span style=\"color: #00af00; text-decoration-color: #00af00\">64</span>)                  │           <span style=\"color: #00af00; text-decoration-color: #00af00\">8,256</span> │\n",
       "├──────────────────────────────────────┼─────────────────────────────┼─────────────────┤\n",
       "│ dropout_9 (<span style=\"color: #0087ff; text-decoration-color: #0087ff\">Dropout</span>)                  │ (<span style=\"color: #00d7ff; text-decoration-color: #00d7ff\">None</span>, <span style=\"color: #00af00; text-decoration-color: #00af00\">64</span>)                  │               <span style=\"color: #00af00; text-decoration-color: #00af00\">0</span> │\n",
       "├──────────────────────────────────────┼─────────────────────────────┼─────────────────┤\n",
       "│ dense_13 (<span style=\"color: #0087ff; text-decoration-color: #0087ff\">Dense</span>)                     │ (<span style=\"color: #00d7ff; text-decoration-color: #00d7ff\">None</span>, <span style=\"color: #00af00; text-decoration-color: #00af00\">8</span>)                   │             <span style=\"color: #00af00; text-decoration-color: #00af00\">520</span> │\n",
       "└──────────────────────────────────────┴─────────────────────────────┴─────────────────┘\n",
       "</pre>\n"
      ],
      "text/plain": [
       "┏━━━━━━━━━━━━━━━━━━━━━━━━━━━━━━━━━━━━━━┳━━━━━━━━━━━━━━━━━━━━━━━━━━━━━┳━━━━━━━━━━━━━━━━━┓\n",
       "┃\u001b[1m \u001b[0m\u001b[1mLayer (type)                        \u001b[0m\u001b[1m \u001b[0m┃\u001b[1m \u001b[0m\u001b[1mOutput Shape               \u001b[0m\u001b[1m \u001b[0m┃\u001b[1m \u001b[0m\u001b[1m        Param #\u001b[0m\u001b[1m \u001b[0m┃\n",
       "┡━━━━━━━━━━━━━━━━━━━━━━━━━━━━━━━━━━━━━━╇━━━━━━━━━━━━━━━━━━━━━━━━━━━━━╇━━━━━━━━━━━━━━━━━┩\n",
       "│ dense_11 (\u001b[38;5;33mDense\u001b[0m)                     │ (\u001b[38;5;45mNone\u001b[0m, \u001b[38;5;34m128\u001b[0m)                 │           \u001b[38;5;34m1,408\u001b[0m │\n",
       "├──────────────────────────────────────┼─────────────────────────────┼─────────────────┤\n",
       "│ dropout_8 (\u001b[38;5;33mDropout\u001b[0m)                  │ (\u001b[38;5;45mNone\u001b[0m, \u001b[38;5;34m128\u001b[0m)                 │               \u001b[38;5;34m0\u001b[0m │\n",
       "├──────────────────────────────────────┼─────────────────────────────┼─────────────────┤\n",
       "│ dense_12 (\u001b[38;5;33mDense\u001b[0m)                     │ (\u001b[38;5;45mNone\u001b[0m, \u001b[38;5;34m64\u001b[0m)                  │           \u001b[38;5;34m8,256\u001b[0m │\n",
       "├──────────────────────────────────────┼─────────────────────────────┼─────────────────┤\n",
       "│ dropout_9 (\u001b[38;5;33mDropout\u001b[0m)                  │ (\u001b[38;5;45mNone\u001b[0m, \u001b[38;5;34m64\u001b[0m)                  │               \u001b[38;5;34m0\u001b[0m │\n",
       "├──────────────────────────────────────┼─────────────────────────────┼─────────────────┤\n",
       "│ dense_13 (\u001b[38;5;33mDense\u001b[0m)                     │ (\u001b[38;5;45mNone\u001b[0m, \u001b[38;5;34m8\u001b[0m)                   │             \u001b[38;5;34m520\u001b[0m │\n",
       "└──────────────────────────────────────┴─────────────────────────────┴─────────────────┘\n"
      ]
     },
     "metadata": {},
     "output_type": "display_data"
    },
    {
     "data": {
      "text/html": [
       "<pre style=\"white-space:pre;overflow-x:auto;line-height:normal;font-family:Menlo,'DejaVu Sans Mono',consolas,'Courier New',monospace\"><span style=\"font-weight: bold\"> Total params: </span><span style=\"color: #00af00; text-decoration-color: #00af00\">10,184</span> (39.78 KB)\n",
       "</pre>\n"
      ],
      "text/plain": [
       "\u001b[1m Total params: \u001b[0m\u001b[38;5;34m10,184\u001b[0m (39.78 KB)\n"
      ]
     },
     "metadata": {},
     "output_type": "display_data"
    },
    {
     "data": {
      "text/html": [
       "<pre style=\"white-space:pre;overflow-x:auto;line-height:normal;font-family:Menlo,'DejaVu Sans Mono',consolas,'Courier New',monospace\"><span style=\"font-weight: bold\"> Trainable params: </span><span style=\"color: #00af00; text-decoration-color: #00af00\">10,184</span> (39.78 KB)\n",
       "</pre>\n"
      ],
      "text/plain": [
       "\u001b[1m Trainable params: \u001b[0m\u001b[38;5;34m10,184\u001b[0m (39.78 KB)\n"
      ]
     },
     "metadata": {},
     "output_type": "display_data"
    },
    {
     "data": {
      "text/html": [
       "<pre style=\"white-space:pre;overflow-x:auto;line-height:normal;font-family:Menlo,'DejaVu Sans Mono',consolas,'Courier New',monospace\"><span style=\"font-weight: bold\"> Non-trainable params: </span><span style=\"color: #00af00; text-decoration-color: #00af00\">0</span> (0.00 B)\n",
       "</pre>\n"
      ],
      "text/plain": [
       "\u001b[1m Non-trainable params: \u001b[0m\u001b[38;5;34m0\u001b[0m (0.00 B)\n"
      ]
     },
     "metadata": {},
     "output_type": "display_data"
    }
   ],
   "source": [
    "# Convert the resampled target back to categorical\n",
    "y_train_smote = to_categorical(y_train_smote, num_classes=len(label_encoder.classes_))\n",
    "\n",
    "# Define the simple MLP model with SMOTE data\n",
    "model_simple_smote = Sequential()\n",
    "model_simple_smote.add(Dense(128, input_dim=X_train_smote.shape[1], activation='relu'))\n",
    "model_simple_smote.add(Dropout(0.3))\n",
    "model_simple_smote.add(Dense(64, activation='relu'))\n",
    "model_simple_smote.add(Dropout(0.3))\n",
    "model_simple_smote.add(Dense(len(label_encoder.classes_), activation='softmax'))\n",
    "\n",
    "# Compile the model\n",
    "model_simple_smote.compile(optimizer='adam', loss='categorical_crossentropy', metrics=['accuracy'])\n",
    "\n",
    "# Display the model summary\n",
    "model_simple_smote.summary()"
   ]
  },
  {
   "cell_type": "code",
   "execution_count": 68,
   "id": "54db73bb-3304-4d87-a7db-9cf84ab3a694",
   "metadata": {},
   "outputs": [
    {
     "name": "stdout",
     "output_type": "stream",
     "text": [
      "Epoch 1/25\n",
      "\u001b[1m596/596\u001b[0m \u001b[32m━━━━━━━━━━━━━━━━━━━━\u001b[0m\u001b[37m\u001b[0m \u001b[1m7s\u001b[0m 6ms/step - accuracy: 0.2878 - loss: 1.8522 - val_accuracy: 0.0149 - val_loss: 3.8201\n",
      "Epoch 2/25\n",
      "\u001b[1m596/596\u001b[0m \u001b[32m━━━━━━━━━━━━━━━━━━━━\u001b[0m\u001b[37m\u001b[0m \u001b[1m4s\u001b[0m 3ms/step - accuracy: 0.3856 - loss: 1.6145 - val_accuracy: 0.0326 - val_loss: 3.8114\n",
      "Epoch 3/25\n",
      "\u001b[1m596/596\u001b[0m \u001b[32m━━━━━━━━━━━━━━━━━━━━\u001b[0m\u001b[37m\u001b[0m \u001b[1m2s\u001b[0m 4ms/step - accuracy: 0.4317 - loss: 1.5110 - val_accuracy: 0.0784 - val_loss: 3.4992\n",
      "Epoch 4/25\n",
      "\u001b[1m596/596\u001b[0m \u001b[32m━━━━━━━━━━━━━━━━━━━━\u001b[0m\u001b[37m\u001b[0m \u001b[1m2s\u001b[0m 3ms/step - accuracy: 0.4652 - loss: 1.4297 - val_accuracy: 0.0887 - val_loss: 3.6140\n",
      "Epoch 5/25\n",
      "\u001b[1m596/596\u001b[0m \u001b[32m━━━━━━━━━━━━━━━━━━━━\u001b[0m\u001b[37m\u001b[0m \u001b[1m2s\u001b[0m 4ms/step - accuracy: 0.4839 - loss: 1.3872 - val_accuracy: 0.1449 - val_loss: 3.5415\n",
      "Epoch 6/25\n",
      "\u001b[1m596/596\u001b[0m \u001b[32m━━━━━━━━━━━━━━━━━━━━\u001b[0m\u001b[37m\u001b[0m \u001b[1m2s\u001b[0m 3ms/step - accuracy: 0.4947 - loss: 1.3559 - val_accuracy: 0.1623 - val_loss: 3.3589\n",
      "Epoch 7/25\n",
      "\u001b[1m596/596\u001b[0m \u001b[32m━━━━━━━━━━━━━━━━━━━━\u001b[0m\u001b[37m\u001b[0m \u001b[1m3s\u001b[0m 4ms/step - accuracy: 0.5045 - loss: 1.3294 - val_accuracy: 0.1298 - val_loss: 3.3852\n",
      "Epoch 8/25\n",
      "\u001b[1m596/596\u001b[0m \u001b[32m━━━━━━━━━━━━━━━━━━━━\u001b[0m\u001b[37m\u001b[0m \u001b[1m3s\u001b[0m 5ms/step - accuracy: 0.5127 - loss: 1.3119 - val_accuracy: 0.1762 - val_loss: 3.3457\n",
      "Epoch 9/25\n",
      "\u001b[1m596/596\u001b[0m \u001b[32m━━━━━━━━━━━━━━━━━━━━\u001b[0m\u001b[37m\u001b[0m \u001b[1m2s\u001b[0m 3ms/step - accuracy: 0.5265 - loss: 1.2878 - val_accuracy: 0.2083 - val_loss: 3.1840\n",
      "Epoch 10/25\n",
      "\u001b[1m596/596\u001b[0m \u001b[32m━━━━━━━━━━━━━━━━━━━━\u001b[0m\u001b[37m\u001b[0m \u001b[1m2s\u001b[0m 4ms/step - accuracy: 0.5348 - loss: 1.2611 - val_accuracy: 0.1658 - val_loss: 3.2665\n",
      "Epoch 11/25\n",
      "\u001b[1m596/596\u001b[0m \u001b[32m━━━━━━━━━━━━━━━━━━━━\u001b[0m\u001b[37m\u001b[0m \u001b[1m2s\u001b[0m 3ms/step - accuracy: 0.5365 - loss: 1.2620 - val_accuracy: 0.1639 - val_loss: 3.2821\n",
      "Epoch 12/25\n",
      "\u001b[1m596/596\u001b[0m \u001b[32m━━━━━━━━━━━━━━━━━━━━\u001b[0m\u001b[37m\u001b[0m \u001b[1m2s\u001b[0m 4ms/step - accuracy: 0.5386 - loss: 1.2520 - val_accuracy: 0.1896 - val_loss: 3.3139\n",
      "Epoch 13/25\n",
      "\u001b[1m596/596\u001b[0m \u001b[32m━━━━━━━━━━━━━━━━━━━━\u001b[0m\u001b[37m\u001b[0m \u001b[1m3s\u001b[0m 4ms/step - accuracy: 0.5433 - loss: 1.2499 - val_accuracy: 0.1923 - val_loss: 3.2413\n",
      "Epoch 14/25\n",
      "\u001b[1m596/596\u001b[0m \u001b[32m━━━━━━━━━━━━━━━━━━━━\u001b[0m\u001b[37m\u001b[0m \u001b[1m3s\u001b[0m 4ms/step - accuracy: 0.5515 - loss: 1.2248 - val_accuracy: 0.1978 - val_loss: 3.2104\n",
      "Epoch 15/25\n",
      "\u001b[1m596/596\u001b[0m \u001b[32m━━━━━━━━━━━━━━━━━━━━\u001b[0m\u001b[37m\u001b[0m \u001b[1m4s\u001b[0m 3ms/step - accuracy: 0.5526 - loss: 1.2183 - val_accuracy: 0.1952 - val_loss: 3.2564\n",
      "Epoch 16/25\n",
      "\u001b[1m596/596\u001b[0m \u001b[32m━━━━━━━━━━━━━━━━━━━━\u001b[0m\u001b[37m\u001b[0m \u001b[1m2s\u001b[0m 3ms/step - accuracy: 0.5674 - loss: 1.1942 - val_accuracy: 0.2027 - val_loss: 3.0725\n",
      "Epoch 17/25\n",
      "\u001b[1m596/596\u001b[0m \u001b[32m━━━━━━━━━━━━━━━━━━━━\u001b[0m\u001b[37m\u001b[0m \u001b[1m2s\u001b[0m 4ms/step - accuracy: 0.5664 - loss: 1.1927 - val_accuracy: 0.2098 - val_loss: 3.0967\n",
      "Epoch 18/25\n",
      "\u001b[1m596/596\u001b[0m \u001b[32m━━━━━━━━━━━━━━━━━━━━\u001b[0m\u001b[37m\u001b[0m \u001b[1m3s\u001b[0m 4ms/step - accuracy: 0.5699 - loss: 1.1745 - val_accuracy: 0.1789 - val_loss: 3.2234\n",
      "Epoch 19/25\n",
      "\u001b[1m596/596\u001b[0m \u001b[32m━━━━━━━━━━━━━━━━━━━━\u001b[0m\u001b[37m\u001b[0m \u001b[1m2s\u001b[0m 3ms/step - accuracy: 0.5765 - loss: 1.1672 - val_accuracy: 0.2061 - val_loss: 3.1100\n",
      "Epoch 20/25\n",
      "\u001b[1m596/596\u001b[0m \u001b[32m━━━━━━━━━━━━━━━━━━━━\u001b[0m\u001b[37m\u001b[0m \u001b[1m2s\u001b[0m 4ms/step - accuracy: 0.5785 - loss: 1.1673 - val_accuracy: 0.2060 - val_loss: 3.0529\n",
      "Epoch 21/25\n",
      "\u001b[1m596/596\u001b[0m \u001b[32m━━━━━━━━━━━━━━━━━━━━\u001b[0m\u001b[37m\u001b[0m \u001b[1m2s\u001b[0m 3ms/step - accuracy: 0.5834 - loss: 1.1569 - val_accuracy: 0.2150 - val_loss: 3.1311\n",
      "Epoch 22/25\n",
      "\u001b[1m596/596\u001b[0m \u001b[32m━━━━━━━━━━━━━━━━━━━━\u001b[0m\u001b[37m\u001b[0m \u001b[1m3s\u001b[0m 3ms/step - accuracy: 0.5834 - loss: 1.1563 - val_accuracy: 0.2099 - val_loss: 2.9924\n",
      "Epoch 23/25\n",
      "\u001b[1m596/596\u001b[0m \u001b[32m━━━━━━━━━━━━━━━━━━━━\u001b[0m\u001b[37m\u001b[0m \u001b[1m2s\u001b[0m 4ms/step - accuracy: 0.5833 - loss: 1.1481 - val_accuracy: 0.1995 - val_loss: 3.1159\n",
      "Epoch 24/25\n",
      "\u001b[1m596/596\u001b[0m \u001b[32m━━━━━━━━━━━━━━━━━━━━\u001b[0m\u001b[37m\u001b[0m \u001b[1m3s\u001b[0m 4ms/step - accuracy: 0.5861 - loss: 1.1425 - val_accuracy: 0.2339 - val_loss: 2.9881\n",
      "Epoch 25/25\n",
      "\u001b[1m596/596\u001b[0m \u001b[32m━━━━━━━━━━━━━━━━━━━━\u001b[0m\u001b[37m\u001b[0m \u001b[1m2s\u001b[0m 4ms/step - accuracy: 0.5857 - loss: 1.1370 - val_accuracy: 0.2002 - val_loss: 3.0237\n"
     ]
    }
   ],
   "source": [
    "# Train the model on SMOTE balanced data\n",
    "history_simple_smote = model_simple_smote.fit(\n",
    "    X_train_smote, y_train_smote, \n",
    "    epochs=25,  # Using a basic setup with 25 epochs\n",
    "    batch_size=64,  # Batch size is set to 64\n",
    "    validation_split=0.2, \n",
    "    verbose=1\n",
    ")"
   ]
  },
  {
   "cell_type": "code",
   "execution_count": null,
   "id": "58aa7c8b-2739-41fe-8db9-43bcd7fbb246",
   "metadata": {},
   "outputs": [],
   "source": []
  },
  {
   "cell_type": "code",
   "execution_count": 69,
   "id": "e0b8fa50-4416-4dda-a9b8-bc1733b392c7",
   "metadata": {},
   "outputs": [
    {
     "data": {
      "text/html": [
       "<div>\n",
       "<style scoped>\n",
       "    .dataframe tbody tr th:only-of-type {\n",
       "        vertical-align: middle;\n",
       "    }\n",
       "\n",
       "    .dataframe tbody tr th {\n",
       "        vertical-align: top;\n",
       "    }\n",
       "\n",
       "    .dataframe thead th {\n",
       "        text-align: right;\n",
       "    }\n",
       "</style>\n",
       "<table border=\"1\" class=\"dataframe\">\n",
       "  <thead>\n",
       "    <tr style=\"text-align: right;\">\n",
       "      <th></th>\n",
       "      <th>accuracy</th>\n",
       "      <th>loss</th>\n",
       "      <th>val_accuracy</th>\n",
       "      <th>val_loss</th>\n",
       "    </tr>\n",
       "  </thead>\n",
       "  <tbody>\n",
       "    <tr>\n",
       "      <th>0</th>\n",
       "      <td>0.332722</td>\n",
       "      <td>1.746758</td>\n",
       "      <td>0.014893</td>\n",
       "      <td>3.820136</td>\n",
       "    </tr>\n",
       "    <tr>\n",
       "      <th>1</th>\n",
       "      <td>0.400372</td>\n",
       "      <td>1.582145</td>\n",
       "      <td>0.032617</td>\n",
       "      <td>3.811436</td>\n",
       "    </tr>\n",
       "    <tr>\n",
       "      <th>2</th>\n",
       "      <td>0.441959</td>\n",
       "      <td>1.488296</td>\n",
       "      <td>0.078448</td>\n",
       "      <td>3.499166</td>\n",
       "    </tr>\n",
       "    <tr>\n",
       "      <th>3</th>\n",
       "      <td>0.469151</td>\n",
       "      <td>1.426877</td>\n",
       "      <td>0.088726</td>\n",
       "      <td>3.614032</td>\n",
       "    </tr>\n",
       "    <tr>\n",
       "      <th>4</th>\n",
       "      <td>0.490442</td>\n",
       "      <td>1.375875</td>\n",
       "      <td>0.144940</td>\n",
       "      <td>3.541468</td>\n",
       "    </tr>\n",
       "    <tr>\n",
       "      <th>5</th>\n",
       "      <td>0.499908</td>\n",
       "      <td>1.347252</td>\n",
       "      <td>0.162349</td>\n",
       "      <td>3.358896</td>\n",
       "    </tr>\n",
       "    <tr>\n",
       "      <th>6</th>\n",
       "      <td>0.510843</td>\n",
       "      <td>1.321607</td>\n",
       "      <td>0.129837</td>\n",
       "      <td>3.385190</td>\n",
       "    </tr>\n",
       "    <tr>\n",
       "      <th>7</th>\n",
       "      <td>0.517975</td>\n",
       "      <td>1.303229</td>\n",
       "      <td>0.176193</td>\n",
       "      <td>3.345727</td>\n",
       "    </tr>\n",
       "    <tr>\n",
       "      <th>8</th>\n",
       "      <td>0.526916</td>\n",
       "      <td>1.286562</td>\n",
       "      <td>0.208285</td>\n",
       "      <td>3.183959</td>\n",
       "    </tr>\n",
       "    <tr>\n",
       "      <th>9</th>\n",
       "      <td>0.533340</td>\n",
       "      <td>1.264728</td>\n",
       "      <td>0.165810</td>\n",
       "      <td>3.266527</td>\n",
       "    </tr>\n",
       "    <tr>\n",
       "      <th>10</th>\n",
       "      <td>0.537011</td>\n",
       "      <td>1.257623</td>\n",
       "      <td>0.163922</td>\n",
       "      <td>3.282088</td>\n",
       "    </tr>\n",
       "    <tr>\n",
       "      <th>11</th>\n",
       "      <td>0.544143</td>\n",
       "      <td>1.240838</td>\n",
       "      <td>0.189617</td>\n",
       "      <td>3.313939</td>\n",
       "    </tr>\n",
       "    <tr>\n",
       "      <th>12</th>\n",
       "      <td>0.550646</td>\n",
       "      <td>1.232842</td>\n",
       "      <td>0.192344</td>\n",
       "      <td>3.241256</td>\n",
       "    </tr>\n",
       "    <tr>\n",
       "      <th>13</th>\n",
       "      <td>0.555340</td>\n",
       "      <td>1.218302</td>\n",
       "      <td>0.197798</td>\n",
       "      <td>3.210399</td>\n",
       "    </tr>\n",
       "    <tr>\n",
       "      <th>14</th>\n",
       "      <td>0.556756</td>\n",
       "      <td>1.213227</td>\n",
       "      <td>0.195176</td>\n",
       "      <td>3.256414</td>\n",
       "    </tr>\n",
       "    <tr>\n",
       "      <th>15</th>\n",
       "      <td>0.566300</td>\n",
       "      <td>1.200000</td>\n",
       "      <td>0.202727</td>\n",
       "      <td>3.072481</td>\n",
       "    </tr>\n",
       "    <tr>\n",
       "      <th>16</th>\n",
       "      <td>0.564963</td>\n",
       "      <td>1.192562</td>\n",
       "      <td>0.209754</td>\n",
       "      <td>3.096689</td>\n",
       "    </tr>\n",
       "    <tr>\n",
       "      <th>17</th>\n",
       "      <td>0.570653</td>\n",
       "      <td>1.180522</td>\n",
       "      <td>0.178920</td>\n",
       "      <td>3.223361</td>\n",
       "    </tr>\n",
       "    <tr>\n",
       "      <th>18</th>\n",
       "      <td>0.571230</td>\n",
       "      <td>1.177515</td>\n",
       "      <td>0.206083</td>\n",
       "      <td>3.109991</td>\n",
       "    </tr>\n",
       "    <tr>\n",
       "      <th>19</th>\n",
       "      <td>0.577051</td>\n",
       "      <td>1.170138</td>\n",
       "      <td>0.205978</td>\n",
       "      <td>3.052854</td>\n",
       "    </tr>\n",
       "    <tr>\n",
       "      <th>20</th>\n",
       "      <td>0.580643</td>\n",
       "      <td>1.160597</td>\n",
       "      <td>0.214997</td>\n",
       "      <td>3.131139</td>\n",
       "    </tr>\n",
       "    <tr>\n",
       "      <th>21</th>\n",
       "      <td>0.583554</td>\n",
       "      <td>1.155831</td>\n",
       "      <td>0.209858</td>\n",
       "      <td>2.992352</td>\n",
       "    </tr>\n",
       "    <tr>\n",
       "      <th>22</th>\n",
       "      <td>0.584682</td>\n",
       "      <td>1.148845</td>\n",
       "      <td>0.199476</td>\n",
       "      <td>3.115893</td>\n",
       "    </tr>\n",
       "    <tr>\n",
       "      <th>23</th>\n",
       "      <td>0.587566</td>\n",
       "      <td>1.143143</td>\n",
       "      <td>0.233875</td>\n",
       "      <td>2.988051</td>\n",
       "    </tr>\n",
       "    <tr>\n",
       "      <th>24</th>\n",
       "      <td>0.588798</td>\n",
       "      <td>1.135302</td>\n",
       "      <td>0.200210</td>\n",
       "      <td>3.023651</td>\n",
       "    </tr>\n",
       "  </tbody>\n",
       "</table>\n",
       "</div>"
      ],
      "text/plain": [
       "    accuracy      loss  val_accuracy  val_loss\n",
       "0   0.332722  1.746758      0.014893  3.820136\n",
       "1   0.400372  1.582145      0.032617  3.811436\n",
       "2   0.441959  1.488296      0.078448  3.499166\n",
       "3   0.469151  1.426877      0.088726  3.614032\n",
       "4   0.490442  1.375875      0.144940  3.541468\n",
       "5   0.499908  1.347252      0.162349  3.358896\n",
       "6   0.510843  1.321607      0.129837  3.385190\n",
       "7   0.517975  1.303229      0.176193  3.345727\n",
       "8   0.526916  1.286562      0.208285  3.183959\n",
       "9   0.533340  1.264728      0.165810  3.266527\n",
       "10  0.537011  1.257623      0.163922  3.282088\n",
       "11  0.544143  1.240838      0.189617  3.313939\n",
       "12  0.550646  1.232842      0.192344  3.241256\n",
       "13  0.555340  1.218302      0.197798  3.210399\n",
       "14  0.556756  1.213227      0.195176  3.256414\n",
       "15  0.566300  1.200000      0.202727  3.072481\n",
       "16  0.564963  1.192562      0.209754  3.096689\n",
       "17  0.570653  1.180522      0.178920  3.223361\n",
       "18  0.571230  1.177515      0.206083  3.109991\n",
       "19  0.577051  1.170138      0.205978  3.052854\n",
       "20  0.580643  1.160597      0.214997  3.131139\n",
       "21  0.583554  1.155831      0.209858  2.992352\n",
       "22  0.584682  1.148845      0.199476  3.115893\n",
       "23  0.587566  1.143143      0.233875  2.988051\n",
       "24  0.588798  1.135302      0.200210  3.023651"
      ]
     },
     "execution_count": 69,
     "metadata": {},
     "output_type": "execute_result"
    }
   ],
   "source": [
    "history_simple_smote_df = pd.DataFrame(history_simple_smote.history)\n",
    "history_simple_smote_df"
   ]
  },
  {
   "cell_type": "code",
   "execution_count": null,
   "id": "1829569b-91b7-4474-b378-67652e67ded9",
   "metadata": {},
   "outputs": [],
   "source": []
  },
  {
   "cell_type": "code",
   "execution_count": 70,
   "id": "bce0b21e-c1dc-4523-bc42-6bb1270e7a5e",
   "metadata": {},
   "outputs": [
    {
     "name": "stdout",
     "output_type": "stream",
     "text": [
      "\u001b[1m123/123\u001b[0m \u001b[32m━━━━━━━━━━━━━━━━━━━━\u001b[0m\u001b[37m\u001b[0m \u001b[1m1s\u001b[0m 3ms/step\n",
      "Test Accuracy with Simple MLP and SMOTE: 0.49\n",
      "              precision    recall  f1-score   support\n",
      "\n",
      "Agricultural       0.30      0.64      0.40       206\n",
      "  Commercial       0.15      0.43      0.23       141\n",
      "  Industrial       0.28      0.60      0.38       231\n",
      "     Natural       0.38      0.42      0.40       539\n",
      "Recreational       0.16      0.62      0.25       129\n",
      " Residential       0.92      0.51      0.66      2554\n",
      "   Transport       0.06      0.19      0.10        32\n",
      "       Water       0.00      0.00      0.00       102\n",
      "\n",
      "    accuracy                           0.49      3934\n",
      "   macro avg       0.28      0.42      0.30      3934\n",
      "weighted avg       0.70      0.49      0.54      3934\n",
      "\n"
     ]
    },
    {
     "name": "stderr",
     "output_type": "stream",
     "text": [
      "C:\\Users\\user\\anaconda3\\Lib\\site-packages\\sklearn\\metrics\\_classification.py:1344: UndefinedMetricWarning: Precision and F-score are ill-defined and being set to 0.0 in labels with no predicted samples. Use `zero_division` parameter to control this behavior.\n",
      "  _warn_prf(average, modifier, msg_start, len(result))\n",
      "C:\\Users\\user\\anaconda3\\Lib\\site-packages\\sklearn\\metrics\\_classification.py:1344: UndefinedMetricWarning: Precision and F-score are ill-defined and being set to 0.0 in labels with no predicted samples. Use `zero_division` parameter to control this behavior.\n",
      "  _warn_prf(average, modifier, msg_start, len(result))\n",
      "C:\\Users\\user\\anaconda3\\Lib\\site-packages\\sklearn\\metrics\\_classification.py:1344: UndefinedMetricWarning: Precision and F-score are ill-defined and being set to 0.0 in labels with no predicted samples. Use `zero_division` parameter to control this behavior.\n",
      "  _warn_prf(average, modifier, msg_start, len(result))\n"
     ]
    }
   ],
   "source": [
    "# Evaluate the model on the original test set\n",
    "y_pred_simple_smote = model_simple_smote.predict(X_test_scaled)\n",
    "y_pred_classes_simple_smote = np.argmax(y_pred_simple_smote, axis=1)\n",
    "y_true_simple_smote = np.argmax(y_test, axis=1)\n",
    "\n",
    "# Calculate accuracy\n",
    "accuracy_simple_smote = accuracy_score(y_true_simple_smote, y_pred_classes_simple_smote)\n",
    "print(f\"Test Accuracy with Simple MLP and SMOTE: {accuracy_simple_smote:.2f}\")\n",
    "\n",
    "# Display classification report\n",
    "print(classification_report(y_true_simple_smote, y_pred_classes_simple_smote, target_names=label_encoder.classes_))"
   ]
  },
  {
   "cell_type": "code",
   "execution_count": null,
   "id": "7834c055-7bd5-4461-aa84-b0345c4b9d8a",
   "metadata": {},
   "outputs": [],
   "source": []
  },
  {
   "cell_type": "code",
   "execution_count": 71,
   "id": "13bb746c-3828-48de-9b76-ae04f04c3d70",
   "metadata": {},
   "outputs": [
    {
     "name": "stdout",
     "output_type": "stream",
     "text": [
      "Average F1-score: 0.30\n",
      "Average Precision: 0.28\n",
      "Average Recall: 0.42\n",
      "Average AUC: 0.84\n"
     ]
    },
    {
     "name": "stderr",
     "output_type": "stream",
     "text": [
      "C:\\Users\\user\\anaconda3\\Lib\\site-packages\\sklearn\\metrics\\_classification.py:1344: UndefinedMetricWarning: Precision and F-score are ill-defined and being set to 0.0 in labels with no predicted samples. Use `zero_division` parameter to control this behavior.\n",
      "  _warn_prf(average, modifier, msg_start, len(result))\n",
      "C:\\Users\\user\\anaconda3\\Lib\\site-packages\\sklearn\\metrics\\_classification.py:1344: UndefinedMetricWarning: Precision and F-score are ill-defined and being set to 0.0 in labels with no predicted samples. Use `zero_division` parameter to control this behavior.\n",
      "  _warn_prf(average, modifier, msg_start, len(result))\n",
      "C:\\Users\\user\\anaconda3\\Lib\\site-packages\\sklearn\\metrics\\_classification.py:1344: UndefinedMetricWarning: Precision and F-score are ill-defined and being set to 0.0 in labels with no predicted samples. Use `zero_division` parameter to control this behavior.\n",
      "  _warn_prf(average, modifier, msg_start, len(result))\n"
     ]
    }
   ],
   "source": [
    "# Calculate average metrics from the classification report\n",
    "report_simple_smote = classification_report(y_true_simple_smote, y_pred_classes_simple_smote, target_names=label_encoder.classes_, output_dict=True)\n",
    "\n",
    "avg_f1_simple_smote = report_simple_smote['macro avg']['f1-score']\n",
    "avg_precision_simple_smote = report_simple_smote['macro avg']['precision']\n",
    "avg_recall_simple_smote = report_simple_smote['macro avg']['recall']\n",
    "\n",
    "print(f\"Average F1-score: {avg_f1_simple_smote:.2f}\")\n",
    "print(f\"Average Precision: {avg_precision_simple_smote:.2f}\")\n",
    "print(f\"Average Recall: {avg_recall_simple_smote:.2f}\")\n",
    "\n",
    "# Binarize the output for AUC calculation\n",
    "y_test_bin = label_binarize(y_true_simple_smote, classes=np.arange(len(label_encoder.classes_)))\n",
    "\n",
    "# Compute AUC for each class\n",
    "auc_simple_smote = roc_auc_score(y_test_bin, y_pred_simple_smote, average=\"macro\", multi_class=\"ovr\")\n",
    "\n",
    "print(f\"Average AUC: {auc_simple_smote:.2f}\")"
   ]
  },
  {
   "cell_type": "code",
   "execution_count": null,
   "id": "0172f636-e3ed-4e92-99cf-dd5a6220527e",
   "metadata": {},
   "outputs": [],
   "source": []
  },
  {
   "cell_type": "markdown",
   "id": "dc418051-8f2b-4230-94e6-4938d2307a0f",
   "metadata": {},
   "source": [
    "### KNN"
   ]
  },
  {
   "cell_type": "code",
   "execution_count": 72,
   "id": "1d06cf10-239d-411e-845b-e8a139c48d43",
   "metadata": {},
   "outputs": [],
   "source": [
    "from sklearn.neighbors import KNeighborsClassifier\n",
    "from sklearn.model_selection import cross_val_score"
   ]
  },
  {
   "cell_type": "code",
   "execution_count": 73,
   "id": "54fc6431-a96d-4cfe-b336-7bc3803c7724",
   "metadata": {},
   "outputs": [],
   "source": [
    "# Define feature columns\n",
    "feature_columns = [\n",
    "    'poi_Accommodation, Eating and Drinking', 'poi_Attractions', 'poi_Commercial Services', 'poi_Education and Health', \n",
    "    'poi_Manufacturing and Production', 'poi_Public Infrastructure', 'poi_Retail', 'poi_Sport and Entertainment',\n",
    "    'poi_Transport', 'busstop_count', 'cycleshare_terminal', 'total_bike_count', 'total_commercial_poi', 'poi_total', 'poi_density', \n",
    "    'busstop_density', 'area'\n",
    "]\n",
    "\n",
    "# Extract features and target from the DataFrame\n",
    "X = urban_function_df[feature_columns]\n",
    "y = urban_function_df['Landuse_Category']\n",
    "\n",
    "# Encode the target variable\n",
    "label_encoder = LabelEncoder()\n",
    "y_encoded = label_encoder.fit_transform(y)\n",
    "\n",
    "# Split the data into training and testing sets\n",
    "X_train, X_test, y_train, y_test = train_test_split(X, y_encoded, test_size=0.3, random_state=42, stratify=y_encoded)\n",
    "\n",
    "# Standardize the features\n",
    "scaler = StandardScaler()\n",
    "X_train_scaled = scaler.fit_transform(X_train)\n",
    "X_test_scaled = scaler.transform(X_test)"
   ]
  },
  {
   "cell_type": "code",
   "execution_count": 74,
   "id": "fad87091-5f05-4383-a8f7-e6f6516caa68",
   "metadata": {},
   "outputs": [
    {
     "name": "stdout",
     "output_type": "stream",
     "text": [
      "Optimal number of neighbors: 1\n"
     ]
    }
   ],
   "source": [
    "# Determine the optimal number of neighbors using cross-validation\n",
    "k_values = range(1, 21)\n",
    "cv_scores = []\n",
    "\n",
    "for k in k_values:\n",
    "    knn = KNeighborsClassifier(n_neighbors=k)\n",
    "    scores = cross_val_score(knn, X_train_scaled, y_train, cv=5, scoring='accuracy')\n",
    "    cv_scores.append(scores.mean())\n",
    "\n",
    "# Find the optimal number of neighbors with the highest cross-validation score\n",
    "optimal_k = k_values[cv_scores.index(max(cv_scores))]\n",
    "print(f\"Optimal number of neighbors: {optimal_k}\")"
   ]
  },
  {
   "cell_type": "code",
   "execution_count": 75,
   "id": "c3005293-6668-4f0d-ad02-eba5576f4a8b",
   "metadata": {},
   "outputs": [
    {
     "data": {
      "text/html": [
       "<style>#sk-container-id-6 {color: black;background-color: white;}#sk-container-id-6 pre{padding: 0;}#sk-container-id-6 div.sk-toggleable {background-color: white;}#sk-container-id-6 label.sk-toggleable__label {cursor: pointer;display: block;width: 100%;margin-bottom: 0;padding: 0.3em;box-sizing: border-box;text-align: center;}#sk-container-id-6 label.sk-toggleable__label-arrow:before {content: \"▸\";float: left;margin-right: 0.25em;color: #696969;}#sk-container-id-6 label.sk-toggleable__label-arrow:hover:before {color: black;}#sk-container-id-6 div.sk-estimator:hover label.sk-toggleable__label-arrow:before {color: black;}#sk-container-id-6 div.sk-toggleable__content {max-height: 0;max-width: 0;overflow: hidden;text-align: left;background-color: #f0f8ff;}#sk-container-id-6 div.sk-toggleable__content pre {margin: 0.2em;color: black;border-radius: 0.25em;background-color: #f0f8ff;}#sk-container-id-6 input.sk-toggleable__control:checked~div.sk-toggleable__content {max-height: 200px;max-width: 100%;overflow: auto;}#sk-container-id-6 input.sk-toggleable__control:checked~label.sk-toggleable__label-arrow:before {content: \"▾\";}#sk-container-id-6 div.sk-estimator input.sk-toggleable__control:checked~label.sk-toggleable__label {background-color: #d4ebff;}#sk-container-id-6 div.sk-label input.sk-toggleable__control:checked~label.sk-toggleable__label {background-color: #d4ebff;}#sk-container-id-6 input.sk-hidden--visually {border: 0;clip: rect(1px 1px 1px 1px);clip: rect(1px, 1px, 1px, 1px);height: 1px;margin: -1px;overflow: hidden;padding: 0;position: absolute;width: 1px;}#sk-container-id-6 div.sk-estimator {font-family: monospace;background-color: #f0f8ff;border: 1px dotted black;border-radius: 0.25em;box-sizing: border-box;margin-bottom: 0.5em;}#sk-container-id-6 div.sk-estimator:hover {background-color: #d4ebff;}#sk-container-id-6 div.sk-parallel-item::after {content: \"\";width: 100%;border-bottom: 1px solid gray;flex-grow: 1;}#sk-container-id-6 div.sk-label:hover label.sk-toggleable__label {background-color: #d4ebff;}#sk-container-id-6 div.sk-serial::before {content: \"\";position: absolute;border-left: 1px solid gray;box-sizing: border-box;top: 0;bottom: 0;left: 50%;z-index: 0;}#sk-container-id-6 div.sk-serial {display: flex;flex-direction: column;align-items: center;background-color: white;padding-right: 0.2em;padding-left: 0.2em;position: relative;}#sk-container-id-6 div.sk-item {position: relative;z-index: 1;}#sk-container-id-6 div.sk-parallel {display: flex;align-items: stretch;justify-content: center;background-color: white;position: relative;}#sk-container-id-6 div.sk-item::before, #sk-container-id-6 div.sk-parallel-item::before {content: \"\";position: absolute;border-left: 1px solid gray;box-sizing: border-box;top: 0;bottom: 0;left: 50%;z-index: -1;}#sk-container-id-6 div.sk-parallel-item {display: flex;flex-direction: column;z-index: 1;position: relative;background-color: white;}#sk-container-id-6 div.sk-parallel-item:first-child::after {align-self: flex-end;width: 50%;}#sk-container-id-6 div.sk-parallel-item:last-child::after {align-self: flex-start;width: 50%;}#sk-container-id-6 div.sk-parallel-item:only-child::after {width: 0;}#sk-container-id-6 div.sk-dashed-wrapped {border: 1px dashed gray;margin: 0 0.4em 0.5em 0.4em;box-sizing: border-box;padding-bottom: 0.4em;background-color: white;}#sk-container-id-6 div.sk-label label {font-family: monospace;font-weight: bold;display: inline-block;line-height: 1.2em;}#sk-container-id-6 div.sk-label-container {text-align: center;}#sk-container-id-6 div.sk-container {/* jupyter's `normalize.less` sets `[hidden] { display: none; }` but bootstrap.min.css set `[hidden] { display: none !important; }` so we also need the `!important` here to be able to override the default hidden behavior on the sphinx rendered scikit-learn.org. See: https://github.com/scikit-learn/scikit-learn/issues/21755 */display: inline-block !important;position: relative;}#sk-container-id-6 div.sk-text-repr-fallback {display: none;}</style><div id=\"sk-container-id-6\" class=\"sk-top-container\"><div class=\"sk-text-repr-fallback\"><pre>KNeighborsClassifier(n_neighbors=1)</pre><b>In a Jupyter environment, please rerun this cell to show the HTML representation or trust the notebook. <br />On GitHub, the HTML representation is unable to render, please try loading this page with nbviewer.org.</b></div><div class=\"sk-container\" hidden><div class=\"sk-item\"><div class=\"sk-estimator sk-toggleable\"><input class=\"sk-toggleable__control sk-hidden--visually\" id=\"sk-estimator-id-8\" type=\"checkbox\" checked><label for=\"sk-estimator-id-8\" class=\"sk-toggleable__label sk-toggleable__label-arrow\">KNeighborsClassifier</label><div class=\"sk-toggleable__content\"><pre>KNeighborsClassifier(n_neighbors=1)</pre></div></div></div></div></div>"
      ],
      "text/plain": [
       "KNeighborsClassifier(n_neighbors=1)"
      ]
     },
     "execution_count": 75,
     "metadata": {},
     "output_type": "execute_result"
    }
   ],
   "source": [
    "# Train the KNN model with the optimal number of neighbors\n",
    "knn_model = KNeighborsClassifier(n_neighbors=optimal_k)\n",
    "knn_model.fit(X_train_scaled, y_train)"
   ]
  },
  {
   "cell_type": "code",
   "execution_count": 76,
   "id": "cbbe52f2-e36d-4082-b2a4-661ea1101612",
   "metadata": {},
   "outputs": [
    {
     "name": "stdout",
     "output_type": "stream",
     "text": [
      "Test Accuracy: 0.68\n",
      "              precision    recall  f1-score   support\n",
      "\n",
      "Agricultural       0.61      0.50      0.55       206\n",
      "  Commercial       0.57      0.49      0.53       141\n",
      "  Industrial       0.54      0.55      0.55       231\n",
      "     Natural       0.39      0.35      0.37       539\n",
      "Recreational       0.21      0.19      0.20       129\n",
      " Residential       0.79      0.84      0.82      2554\n",
      "   Transport       0.05      0.03      0.04        32\n",
      "       Water       0.36      0.25      0.30       102\n",
      "\n",
      "    accuracy                           0.68      3934\n",
      "   macro avg       0.44      0.40      0.42      3934\n",
      "weighted avg       0.67      0.68      0.68      3934\n",
      "\n"
     ]
    }
   ],
   "source": [
    "# Make predictions on the test set\n",
    "y_pred = knn_model.predict(X_test_scaled)\n",
    "\n",
    "# Evaluate the model\n",
    "accuracy = accuracy_score(y_test, y_pred)\n",
    "print(f\"Test Accuracy: {accuracy:.2f}\")\n",
    "\n",
    "# Display classification report\n",
    "print(classification_report(y_test, y_pred, target_names=label_encoder.classes_))"
   ]
  },
  {
   "cell_type": "code",
   "execution_count": 77,
   "id": "8defe8fb-cbf6-4864-9efd-7bbc95fc69cc",
   "metadata": {},
   "outputs": [
    {
     "name": "stdout",
     "output_type": "stream",
     "text": [
      "Average F1-score: 0.42\n",
      "Average Precision: 0.44\n",
      "Average Recall: 0.40\n",
      "Average AUC: 0.66\n"
     ]
    }
   ],
   "source": [
    "# Display classification report\n",
    "report_knn = classification_report(y_test, y_pred, target_names=label_encoder.classes_, output_dict=True)\n",
    "\n",
    "# Calculate average metrics from the classification report\n",
    "avg_f1_knn = report_knn['macro avg']['f1-score']\n",
    "avg_precision_knn = report_knn['macro avg']['precision']\n",
    "avg_recall_knn = report_knn['macro avg']['recall']\n",
    "\n",
    "print(f\"Average F1-score: {avg_f1_knn:.2f}\")\n",
    "print(f\"Average Precision: {avg_precision_knn:.2f}\")\n",
    "print(f\"Average Recall: {avg_recall_knn:.2f}\")\n",
    "\n",
    "# Binarize the output for AUC calculation\n",
    "y_test_bin = label_binarize(y_test, classes=np.arange(len(label_encoder.classes_)))\n",
    "\n",
    "# Compute AUC for each class (only applicable if the number of classes is > 2)\n",
    "try:\n",
    "    auc_knn = roc_auc_score(y_test_bin, knn_model.predict_proba(X_test_scaled), average=\"macro\", multi_class=\"ovr\")\n",
    "    print(f\"Average AUC: {auc_knn:.2f}\")\n",
    "except AttributeError:\n",
    "    print(\"AUC cannot be calculated for KNN without probability estimates.\")"
   ]
  },
  {
   "cell_type": "code",
   "execution_count": null,
   "id": "9e2aa378-b8e1-4403-9ae1-77fed26aac4b",
   "metadata": {},
   "outputs": [],
   "source": []
  },
  {
   "cell_type": "markdown",
   "id": "59675aa4-239c-471d-9f79-d67c49b77b7d",
   "metadata": {},
   "source": [
    "#### Using grid search on KNN"
   ]
  },
  {
   "cell_type": "code",
   "execution_count": 78,
   "id": "97d1c587-29b2-4d3c-ad13-57e96f60677d",
   "metadata": {},
   "outputs": [
    {
     "name": "stdout",
     "output_type": "stream",
     "text": [
      "Fitting 5 folds for each of 120 candidates, totalling 600 fits\n"
     ]
    },
    {
     "data": {
      "text/html": [
       "<style>#sk-container-id-7 {color: black;background-color: white;}#sk-container-id-7 pre{padding: 0;}#sk-container-id-7 div.sk-toggleable {background-color: white;}#sk-container-id-7 label.sk-toggleable__label {cursor: pointer;display: block;width: 100%;margin-bottom: 0;padding: 0.3em;box-sizing: border-box;text-align: center;}#sk-container-id-7 label.sk-toggleable__label-arrow:before {content: \"▸\";float: left;margin-right: 0.25em;color: #696969;}#sk-container-id-7 label.sk-toggleable__label-arrow:hover:before {color: black;}#sk-container-id-7 div.sk-estimator:hover label.sk-toggleable__label-arrow:before {color: black;}#sk-container-id-7 div.sk-toggleable__content {max-height: 0;max-width: 0;overflow: hidden;text-align: left;background-color: #f0f8ff;}#sk-container-id-7 div.sk-toggleable__content pre {margin: 0.2em;color: black;border-radius: 0.25em;background-color: #f0f8ff;}#sk-container-id-7 input.sk-toggleable__control:checked~div.sk-toggleable__content {max-height: 200px;max-width: 100%;overflow: auto;}#sk-container-id-7 input.sk-toggleable__control:checked~label.sk-toggleable__label-arrow:before {content: \"▾\";}#sk-container-id-7 div.sk-estimator input.sk-toggleable__control:checked~label.sk-toggleable__label {background-color: #d4ebff;}#sk-container-id-7 div.sk-label input.sk-toggleable__control:checked~label.sk-toggleable__label {background-color: #d4ebff;}#sk-container-id-7 input.sk-hidden--visually {border: 0;clip: rect(1px 1px 1px 1px);clip: rect(1px, 1px, 1px, 1px);height: 1px;margin: -1px;overflow: hidden;padding: 0;position: absolute;width: 1px;}#sk-container-id-7 div.sk-estimator {font-family: monospace;background-color: #f0f8ff;border: 1px dotted black;border-radius: 0.25em;box-sizing: border-box;margin-bottom: 0.5em;}#sk-container-id-7 div.sk-estimator:hover {background-color: #d4ebff;}#sk-container-id-7 div.sk-parallel-item::after {content: \"\";width: 100%;border-bottom: 1px solid gray;flex-grow: 1;}#sk-container-id-7 div.sk-label:hover label.sk-toggleable__label {background-color: #d4ebff;}#sk-container-id-7 div.sk-serial::before {content: \"\";position: absolute;border-left: 1px solid gray;box-sizing: border-box;top: 0;bottom: 0;left: 50%;z-index: 0;}#sk-container-id-7 div.sk-serial {display: flex;flex-direction: column;align-items: center;background-color: white;padding-right: 0.2em;padding-left: 0.2em;position: relative;}#sk-container-id-7 div.sk-item {position: relative;z-index: 1;}#sk-container-id-7 div.sk-parallel {display: flex;align-items: stretch;justify-content: center;background-color: white;position: relative;}#sk-container-id-7 div.sk-item::before, #sk-container-id-7 div.sk-parallel-item::before {content: \"\";position: absolute;border-left: 1px solid gray;box-sizing: border-box;top: 0;bottom: 0;left: 50%;z-index: -1;}#sk-container-id-7 div.sk-parallel-item {display: flex;flex-direction: column;z-index: 1;position: relative;background-color: white;}#sk-container-id-7 div.sk-parallel-item:first-child::after {align-self: flex-end;width: 50%;}#sk-container-id-7 div.sk-parallel-item:last-child::after {align-self: flex-start;width: 50%;}#sk-container-id-7 div.sk-parallel-item:only-child::after {width: 0;}#sk-container-id-7 div.sk-dashed-wrapped {border: 1px dashed gray;margin: 0 0.4em 0.5em 0.4em;box-sizing: border-box;padding-bottom: 0.4em;background-color: white;}#sk-container-id-7 div.sk-label label {font-family: monospace;font-weight: bold;display: inline-block;line-height: 1.2em;}#sk-container-id-7 div.sk-label-container {text-align: center;}#sk-container-id-7 div.sk-container {/* jupyter's `normalize.less` sets `[hidden] { display: none; }` but bootstrap.min.css set `[hidden] { display: none !important; }` so we also need the `!important` here to be able to override the default hidden behavior on the sphinx rendered scikit-learn.org. See: https://github.com/scikit-learn/scikit-learn/issues/21755 */display: inline-block !important;position: relative;}#sk-container-id-7 div.sk-text-repr-fallback {display: none;}</style><div id=\"sk-container-id-7\" class=\"sk-top-container\"><div class=\"sk-text-repr-fallback\"><pre>GridSearchCV(cv=5, estimator=KNeighborsClassifier(), n_jobs=-1,\n",
       "             param_grid={&#x27;metric&#x27;: [&#x27;euclidean&#x27;, &#x27;manhattan&#x27;, &#x27;minkowski&#x27;],\n",
       "                         &#x27;n_neighbors&#x27;: range(1, 21),\n",
       "                         &#x27;weights&#x27;: [&#x27;uniform&#x27;, &#x27;distance&#x27;]},\n",
       "             scoring=&#x27;accuracy&#x27;, verbose=1)</pre><b>In a Jupyter environment, please rerun this cell to show the HTML representation or trust the notebook. <br />On GitHub, the HTML representation is unable to render, please try loading this page with nbviewer.org.</b></div><div class=\"sk-container\" hidden><div class=\"sk-item sk-dashed-wrapped\"><div class=\"sk-label-container\"><div class=\"sk-label sk-toggleable\"><input class=\"sk-toggleable__control sk-hidden--visually\" id=\"sk-estimator-id-9\" type=\"checkbox\" ><label for=\"sk-estimator-id-9\" class=\"sk-toggleable__label sk-toggleable__label-arrow\">GridSearchCV</label><div class=\"sk-toggleable__content\"><pre>GridSearchCV(cv=5, estimator=KNeighborsClassifier(), n_jobs=-1,\n",
       "             param_grid={&#x27;metric&#x27;: [&#x27;euclidean&#x27;, &#x27;manhattan&#x27;, &#x27;minkowski&#x27;],\n",
       "                         &#x27;n_neighbors&#x27;: range(1, 21),\n",
       "                         &#x27;weights&#x27;: [&#x27;uniform&#x27;, &#x27;distance&#x27;]},\n",
       "             scoring=&#x27;accuracy&#x27;, verbose=1)</pre></div></div></div><div class=\"sk-parallel\"><div class=\"sk-parallel-item\"><div class=\"sk-item\"><div class=\"sk-label-container\"><div class=\"sk-label sk-toggleable\"><input class=\"sk-toggleable__control sk-hidden--visually\" id=\"sk-estimator-id-10\" type=\"checkbox\" ><label for=\"sk-estimator-id-10\" class=\"sk-toggleable__label sk-toggleable__label-arrow\">estimator: KNeighborsClassifier</label><div class=\"sk-toggleable__content\"><pre>KNeighborsClassifier()</pre></div></div></div><div class=\"sk-serial\"><div class=\"sk-item\"><div class=\"sk-estimator sk-toggleable\"><input class=\"sk-toggleable__control sk-hidden--visually\" id=\"sk-estimator-id-11\" type=\"checkbox\" ><label for=\"sk-estimator-id-11\" class=\"sk-toggleable__label sk-toggleable__label-arrow\">KNeighborsClassifier</label><div class=\"sk-toggleable__content\"><pre>KNeighborsClassifier()</pre></div></div></div></div></div></div></div></div></div></div>"
      ],
      "text/plain": [
       "GridSearchCV(cv=5, estimator=KNeighborsClassifier(), n_jobs=-1,\n",
       "             param_grid={'metric': ['euclidean', 'manhattan', 'minkowski'],\n",
       "                         'n_neighbors': range(1, 21),\n",
       "                         'weights': ['uniform', 'distance']},\n",
       "             scoring='accuracy', verbose=1)"
      ]
     },
     "execution_count": 78,
     "metadata": {},
     "output_type": "execute_result"
    }
   ],
   "source": [
    "# Define the parameter grid for GridSearchCV\n",
    "param_grid = {\n",
    "    'n_neighbors': range(1, 21),\n",
    "    'weights': ['uniform', 'distance'],\n",
    "    'metric': ['euclidean', 'manhattan', 'minkowski']\n",
    "}\n",
    "\n",
    "# Initialize the KNN model\n",
    "knn = KNeighborsClassifier()\n",
    "\n",
    "# Use GridSearchCV to find the optimal hyperparameters\n",
    "grid_search = GridSearchCV(knn, param_grid, cv=5, scoring='accuracy', verbose=1, n_jobs=-1)\n",
    "grid_search.fit(X_train_scaled, y_train)"
   ]
  },
  {
   "cell_type": "code",
   "execution_count": null,
   "id": "295981cb-3e77-4550-8cbe-958120589564",
   "metadata": {},
   "outputs": [],
   "source": []
  },
  {
   "cell_type": "code",
   "execution_count": 79,
   "id": "6187153f-a5be-4743-a29e-e5585f9b0f05",
   "metadata": {},
   "outputs": [
    {
     "name": "stdout",
     "output_type": "stream",
     "text": [
      "Best parameters found: {'metric': 'manhattan', 'n_neighbors': 20, 'weights': 'distance'}\n"
     ]
    }
   ],
   "source": [
    "# Get the best parameters and model\n",
    "best_params = grid_search.best_params_\n",
    "best_knn_model = grid_search.best_estimator_\n",
    "\n",
    "print(f\"Best parameters found: {best_params}\")"
   ]
  },
  {
   "cell_type": "code",
   "execution_count": null,
   "id": "e84fae96-b7df-4ba0-bb45-f771f3b8e2b1",
   "metadata": {},
   "outputs": [],
   "source": []
  },
  {
   "cell_type": "code",
   "execution_count": 80,
   "id": "284acf61-b273-45a5-b966-96fc76ffa1c3",
   "metadata": {},
   "outputs": [
    {
     "name": "stdout",
     "output_type": "stream",
     "text": [
      "Test Accuracy: 0.73\n",
      "              precision    recall  f1-score   support\n",
      "\n",
      "Agricultural       0.72      0.54      0.62       206\n",
      "  Commercial       0.79      0.48      0.60       141\n",
      "  Industrial       0.64      0.56      0.59       231\n",
      "     Natural       0.51      0.25      0.33       539\n",
      "Recreational       0.38      0.19      0.25       129\n",
      " Residential       0.76      0.93      0.84      2554\n",
      "   Transport       0.00      0.00      0.00        32\n",
      "       Water       0.46      0.18      0.26       102\n",
      "\n",
      "    accuracy                           0.73      3934\n",
      "   macro avg       0.53      0.39      0.44      3934\n",
      "weighted avg       0.69      0.73      0.69      3934\n",
      "\n"
     ]
    }
   ],
   "source": [
    "# Evaluate the optimized model on the test set\n",
    "y_pred = best_knn_model.predict(X_test_scaled)\n",
    "\n",
    "# Calculate accuracy\n",
    "accuracy = accuracy_score(y_test, y_pred)\n",
    "print(f\"Test Accuracy: {accuracy:.2f}\")\n",
    "\n",
    "# Display classification report\n",
    "print(classification_report(y_test, y_pred, target_names=label_encoder.classes_))"
   ]
  },
  {
   "cell_type": "code",
   "execution_count": 81,
   "id": "89784209-22b9-4c65-897c-fcd547d48ed7",
   "metadata": {},
   "outputs": [
    {
     "name": "stdout",
     "output_type": "stream",
     "text": [
      "Average F1-score: 0.44\n",
      "Average Precision: 0.53\n",
      "Average Recall: 0.39\n",
      "Average AUC: 0.80\n"
     ]
    }
   ],
   "source": [
    "# Display classification report\n",
    "report_knn_optimized = classification_report(y_test, y_pred, target_names=label_encoder.classes_, output_dict=True)\n",
    "\n",
    "# Calculate average metrics from the classification report\n",
    "avg_f1_knn_optimized = report_knn_optimized['macro avg']['f1-score']\n",
    "avg_precision_knn_optimized = report_knn_optimized['macro avg']['precision']\n",
    "avg_recall_knn_optimized = report_knn_optimized['macro avg']['recall']\n",
    "\n",
    "print(f\"Average F1-score: {avg_f1_knn_optimized:.2f}\")\n",
    "print(f\"Average Precision: {avg_precision_knn_optimized:.2f}\")\n",
    "print(f\"Average Recall: {avg_recall_knn_optimized:.2f}\")\n",
    "\n",
    "# Binarize the output for AUC calculation\n",
    "y_test_bin = label_binarize(y_test, classes=np.arange(len(label_encoder.classes_)))\n",
    "\n",
    "# Compute AUC for each class (if the number of classes is > 2 and probabilities are available)\n",
    "try:\n",
    "    auc_knn_optimized = roc_auc_score(y_test_bin, best_knn_model.predict_proba(X_test_scaled), average=\"macro\", multi_class=\"ovr\")\n",
    "    print(f\"Average AUC: {auc_knn_optimized:.2f}\")\n",
    "except AttributeError:\n",
    "    print(\"AUC cannot be calculated for KNN without probability estimates.\")"
   ]
  },
  {
   "cell_type": "code",
   "execution_count": null,
   "id": "53ad758b-ed37-41bd-858f-e0d75265ce39",
   "metadata": {},
   "outputs": [],
   "source": []
  },
  {
   "cell_type": "code",
   "execution_count": 82,
   "id": "5577255b-7cf4-488f-96b6-a0c428ca49aa",
   "metadata": {},
   "outputs": [],
   "source": [
    "import pickle"
   ]
  },
  {
   "cell_type": "code",
   "execution_count": 83,
   "id": "79729d67-8930-4e64-9f6f-f3509615068f",
   "metadata": {},
   "outputs": [
    {
     "name": "stdout",
     "output_type": "stream",
     "text": [
      "GridSearchCV object saved to grid_search_knn.pkl\n",
      "Best KNN model saved to best_knn_model.pkl\n"
     ]
    }
   ],
   "source": [
    "# Define file paths for saving\n",
    "grid_search_file = 'grid_search_knn.pkl'\n",
    "best_knn_model_file = 'best_knn_model.pkl'\n",
    "\n",
    "# Save the GridSearchCV object\n",
    "with open(grid_search_file, 'wb') as f:\n",
    "    pickle.dump(grid_search, f)\n",
    "print(f\"GridSearchCV object saved to {grid_search_file}\")\n",
    "\n",
    "# Save the best KNN model\n",
    "with open(best_knn_model_file, 'wb') as f:\n",
    "    pickle.dump(best_knn_model, f)\n",
    "print(f\"Best KNN model saved to {best_knn_model_file}\")"
   ]
  },
  {
   "cell_type": "code",
   "execution_count": null,
   "id": "340f329b-22d0-4a30-8613-c14328b235f9",
   "metadata": {},
   "outputs": [],
   "source": []
  },
  {
   "cell_type": "code",
   "execution_count": null,
   "id": "ba787ed5-36f7-466c-8d1a-b63b317d7727",
   "metadata": {},
   "outputs": [],
   "source": []
  },
  {
   "cell_type": "code",
   "execution_count": 84,
   "id": "4c20cb9f-7632-48c2-9862-000421e57452",
   "metadata": {},
   "outputs": [],
   "source": [
    "from sklearn.model_selection import StratifiedKFold"
   ]
  },
  {
   "cell_type": "code",
   "execution_count": 88,
   "id": "0b4c8967-3497-4503-8ee8-2ad61efdcde2",
   "metadata": {},
   "outputs": [],
   "source": [
    "# Define the parameter grid for GridSearchCV with additional metrics and refined ranges\n",
    "param_grid = {\n",
    "    'n_neighbors': range(1, 31),  # Expanded range for n_neighbors\n",
    "    'weights': ['uniform', 'distance'],\n",
    "    'metric': ['euclidean', 'manhattan', 'minkowski'],\n",
    "    'p': [1, 2],  # Adding p for Minkowski distance metric, where p=1 is Manhattan and p=2 is Euclidean\n",
    "    'algorithm': ['auto', 'ball_tree', 'kd_tree', 'brute']  # Exploring different algorithms for KNN\n",
    "}\n",
    "\n",
    "# Initialize the KNN model\n",
    "knn = KNeighborsClassifier()"
   ]
  },
  {
   "cell_type": "code",
   "execution_count": 90,
   "id": "cbac51a2-b0c2-41eb-ab0b-11c0394ea1cb",
   "metadata": {},
   "outputs": [
    {
     "name": "stdout",
     "output_type": "stream",
     "text": [
      "Fitting 5 folds for each of 1440 candidates, totalling 7200 fits\n"
     ]
    },
    {
     "data": {
      "text/html": [
       "<style>#sk-container-id-9 {color: black;background-color: white;}#sk-container-id-9 pre{padding: 0;}#sk-container-id-9 div.sk-toggleable {background-color: white;}#sk-container-id-9 label.sk-toggleable__label {cursor: pointer;display: block;width: 100%;margin-bottom: 0;padding: 0.3em;box-sizing: border-box;text-align: center;}#sk-container-id-9 label.sk-toggleable__label-arrow:before {content: \"▸\";float: left;margin-right: 0.25em;color: #696969;}#sk-container-id-9 label.sk-toggleable__label-arrow:hover:before {color: black;}#sk-container-id-9 div.sk-estimator:hover label.sk-toggleable__label-arrow:before {color: black;}#sk-container-id-9 div.sk-toggleable__content {max-height: 0;max-width: 0;overflow: hidden;text-align: left;background-color: #f0f8ff;}#sk-container-id-9 div.sk-toggleable__content pre {margin: 0.2em;color: black;border-radius: 0.25em;background-color: #f0f8ff;}#sk-container-id-9 input.sk-toggleable__control:checked~div.sk-toggleable__content {max-height: 200px;max-width: 100%;overflow: auto;}#sk-container-id-9 input.sk-toggleable__control:checked~label.sk-toggleable__label-arrow:before {content: \"▾\";}#sk-container-id-9 div.sk-estimator input.sk-toggleable__control:checked~label.sk-toggleable__label {background-color: #d4ebff;}#sk-container-id-9 div.sk-label input.sk-toggleable__control:checked~label.sk-toggleable__label {background-color: #d4ebff;}#sk-container-id-9 input.sk-hidden--visually {border: 0;clip: rect(1px 1px 1px 1px);clip: rect(1px, 1px, 1px, 1px);height: 1px;margin: -1px;overflow: hidden;padding: 0;position: absolute;width: 1px;}#sk-container-id-9 div.sk-estimator {font-family: monospace;background-color: #f0f8ff;border: 1px dotted black;border-radius: 0.25em;box-sizing: border-box;margin-bottom: 0.5em;}#sk-container-id-9 div.sk-estimator:hover {background-color: #d4ebff;}#sk-container-id-9 div.sk-parallel-item::after {content: \"\";width: 100%;border-bottom: 1px solid gray;flex-grow: 1;}#sk-container-id-9 div.sk-label:hover label.sk-toggleable__label {background-color: #d4ebff;}#sk-container-id-9 div.sk-serial::before {content: \"\";position: absolute;border-left: 1px solid gray;box-sizing: border-box;top: 0;bottom: 0;left: 50%;z-index: 0;}#sk-container-id-9 div.sk-serial {display: flex;flex-direction: column;align-items: center;background-color: white;padding-right: 0.2em;padding-left: 0.2em;position: relative;}#sk-container-id-9 div.sk-item {position: relative;z-index: 1;}#sk-container-id-9 div.sk-parallel {display: flex;align-items: stretch;justify-content: center;background-color: white;position: relative;}#sk-container-id-9 div.sk-item::before, #sk-container-id-9 div.sk-parallel-item::before {content: \"\";position: absolute;border-left: 1px solid gray;box-sizing: border-box;top: 0;bottom: 0;left: 50%;z-index: -1;}#sk-container-id-9 div.sk-parallel-item {display: flex;flex-direction: column;z-index: 1;position: relative;background-color: white;}#sk-container-id-9 div.sk-parallel-item:first-child::after {align-self: flex-end;width: 50%;}#sk-container-id-9 div.sk-parallel-item:last-child::after {align-self: flex-start;width: 50%;}#sk-container-id-9 div.sk-parallel-item:only-child::after {width: 0;}#sk-container-id-9 div.sk-dashed-wrapped {border: 1px dashed gray;margin: 0 0.4em 0.5em 0.4em;box-sizing: border-box;padding-bottom: 0.4em;background-color: white;}#sk-container-id-9 div.sk-label label {font-family: monospace;font-weight: bold;display: inline-block;line-height: 1.2em;}#sk-container-id-9 div.sk-label-container {text-align: center;}#sk-container-id-9 div.sk-container {/* jupyter's `normalize.less` sets `[hidden] { display: none; }` but bootstrap.min.css set `[hidden] { display: none !important; }` so we also need the `!important` here to be able to override the default hidden behavior on the sphinx rendered scikit-learn.org. See: https://github.com/scikit-learn/scikit-learn/issues/21755 */display: inline-block !important;position: relative;}#sk-container-id-9 div.sk-text-repr-fallback {display: none;}</style><div id=\"sk-container-id-9\" class=\"sk-top-container\"><div class=\"sk-text-repr-fallback\"><pre>GridSearchCV(cv=StratifiedKFold(n_splits=5, random_state=42, shuffle=True),\n",
       "             estimator=KNeighborsClassifier(), n_jobs=-1,\n",
       "             param_grid={&#x27;algorithm&#x27;: [&#x27;auto&#x27;, &#x27;ball_tree&#x27;, &#x27;kd_tree&#x27;, &#x27;brute&#x27;],\n",
       "                         &#x27;metric&#x27;: [&#x27;euclidean&#x27;, &#x27;manhattan&#x27;, &#x27;minkowski&#x27;],\n",
       "                         &#x27;n_neighbors&#x27;: range(1, 31), &#x27;p&#x27;: [1, 2],\n",
       "                         &#x27;weights&#x27;: [&#x27;uniform&#x27;, &#x27;distance&#x27;]},\n",
       "             scoring=&#x27;accuracy&#x27;, verbose=1)</pre><b>In a Jupyter environment, please rerun this cell to show the HTML representation or trust the notebook. <br />On GitHub, the HTML representation is unable to render, please try loading this page with nbviewer.org.</b></div><div class=\"sk-container\" hidden><div class=\"sk-item sk-dashed-wrapped\"><div class=\"sk-label-container\"><div class=\"sk-label sk-toggleable\"><input class=\"sk-toggleable__control sk-hidden--visually\" id=\"sk-estimator-id-15\" type=\"checkbox\" ><label for=\"sk-estimator-id-15\" class=\"sk-toggleable__label sk-toggleable__label-arrow\">GridSearchCV</label><div class=\"sk-toggleable__content\"><pre>GridSearchCV(cv=StratifiedKFold(n_splits=5, random_state=42, shuffle=True),\n",
       "             estimator=KNeighborsClassifier(), n_jobs=-1,\n",
       "             param_grid={&#x27;algorithm&#x27;: [&#x27;auto&#x27;, &#x27;ball_tree&#x27;, &#x27;kd_tree&#x27;, &#x27;brute&#x27;],\n",
       "                         &#x27;metric&#x27;: [&#x27;euclidean&#x27;, &#x27;manhattan&#x27;, &#x27;minkowski&#x27;],\n",
       "                         &#x27;n_neighbors&#x27;: range(1, 31), &#x27;p&#x27;: [1, 2],\n",
       "                         &#x27;weights&#x27;: [&#x27;uniform&#x27;, &#x27;distance&#x27;]},\n",
       "             scoring=&#x27;accuracy&#x27;, verbose=1)</pre></div></div></div><div class=\"sk-parallel\"><div class=\"sk-parallel-item\"><div class=\"sk-item\"><div class=\"sk-label-container\"><div class=\"sk-label sk-toggleable\"><input class=\"sk-toggleable__control sk-hidden--visually\" id=\"sk-estimator-id-16\" type=\"checkbox\" ><label for=\"sk-estimator-id-16\" class=\"sk-toggleable__label sk-toggleable__label-arrow\">estimator: KNeighborsClassifier</label><div class=\"sk-toggleable__content\"><pre>KNeighborsClassifier()</pre></div></div></div><div class=\"sk-serial\"><div class=\"sk-item\"><div class=\"sk-estimator sk-toggleable\"><input class=\"sk-toggleable__control sk-hidden--visually\" id=\"sk-estimator-id-17\" type=\"checkbox\" ><label for=\"sk-estimator-id-17\" class=\"sk-toggleable__label sk-toggleable__label-arrow\">KNeighborsClassifier</label><div class=\"sk-toggleable__content\"><pre>KNeighborsClassifier()</pre></div></div></div></div></div></div></div></div></div></div>"
      ],
      "text/plain": [
       "GridSearchCV(cv=StratifiedKFold(n_splits=5, random_state=42, shuffle=True),\n",
       "             estimator=KNeighborsClassifier(), n_jobs=-1,\n",
       "             param_grid={'algorithm': ['auto', 'ball_tree', 'kd_tree', 'brute'],\n",
       "                         'metric': ['euclidean', 'manhattan', 'minkowski'],\n",
       "                         'n_neighbors': range(1, 31), 'p': [1, 2],\n",
       "                         'weights': ['uniform', 'distance']},\n",
       "             scoring='accuracy', verbose=1)"
      ]
     },
     "execution_count": 90,
     "metadata": {},
     "output_type": "execute_result"
    }
   ],
   "source": [
    "# StratifiedKFold for stratified cross-validation\n",
    "cv = StratifiedKFold(n_splits=5, shuffle=True, random_state=42)\n",
    "\n",
    "# Use GridSearchCV to find the optimal hyperparameters\n",
    "grid_search = GridSearchCV(knn, param_grid, cv=cv, scoring='accuracy', verbose=1, n_jobs=-1)\n",
    "grid_search.fit(X_train_scaled, y_train)"
   ]
  },
  {
   "cell_type": "code",
   "execution_count": 91,
   "id": "e405a92c-1766-4fa1-aa33-18c7041dbfd0",
   "metadata": {},
   "outputs": [
    {
     "name": "stdout",
     "output_type": "stream",
     "text": [
      "Best parameters found: {'algorithm': 'auto', 'metric': 'manhattan', 'n_neighbors': 29, 'p': 1, 'weights': 'distance'}\n",
      "Test Accuracy: 0.73\n",
      "              precision    recall  f1-score   support\n",
      "\n",
      "Agricultural       0.73      0.52      0.61       206\n",
      "  Commercial       0.80      0.45      0.58       141\n",
      "  Industrial       0.66      0.53      0.59       231\n",
      "     Natural       0.55      0.23      0.32       539\n",
      "Recreational       0.39      0.19      0.25       129\n",
      " Residential       0.75      0.94      0.84      2554\n",
      "   Transport       0.00      0.00      0.00        32\n",
      "       Water       0.43      0.16      0.23       102\n",
      "\n",
      "    accuracy                           0.73      3934\n",
      "   macro avg       0.54      0.38      0.43      3934\n",
      "weighted avg       0.70      0.73      0.69      3934\n",
      "\n"
     ]
    }
   ],
   "source": [
    "# Get the best parameters and model\n",
    "best_params = grid_search.best_params_\n",
    "best_knn_model = grid_search.best_estimator_\n",
    "\n",
    "print(f\"Best parameters found: {best_params}\")\n",
    "\n",
    "# Evaluate the optimized model on the test set\n",
    "y_pred = best_knn_model.predict(X_test_scaled)\n",
    "\n",
    "# Calculate accuracy\n",
    "accuracy = accuracy_score(y_test, y_pred)\n",
    "print(f\"Test Accuracy: {accuracy:.2f}\")\n",
    "\n",
    "# Display classification report\n",
    "print(classification_report(y_test, y_pred, target_names=label_encoder.classes_))"
   ]
  },
  {
   "cell_type": "code",
   "execution_count": null,
   "id": "7191b38d-05d0-428d-b694-82a5081d49e4",
   "metadata": {},
   "outputs": [],
   "source": []
  },
  {
   "cell_type": "code",
   "execution_count": 92,
   "id": "09359c1f-6b58-46fa-8235-e3e213a721e3",
   "metadata": {},
   "outputs": [
    {
     "name": "stdout",
     "output_type": "stream",
     "text": [
      "Average F1-score: 0.43\n",
      "Average Precision: 0.54\n",
      "Average Recall: 0.38\n",
      "Average AUC: 0.81\n"
     ]
    }
   ],
   "source": [
    "# Display classification report\n",
    "report_knn_optimized = classification_report(y_test, y_pred, target_names=label_encoder.classes_, output_dict=True)\n",
    "\n",
    "# Calculate average metrics from the classification report\n",
    "avg_f1_knn_optimized = report_knn_optimized['macro avg']['f1-score']\n",
    "avg_precision_knn_optimized = report_knn_optimized['macro avg']['precision']\n",
    "avg_recall_knn_optimized = report_knn_optimized['macro avg']['recall']\n",
    "\n",
    "print(f\"Average F1-score: {avg_f1_knn_optimized:.2f}\")\n",
    "print(f\"Average Precision: {avg_precision_knn_optimized:.2f}\")\n",
    "print(f\"Average Recall: {avg_recall_knn_optimized:.2f}\")\n",
    "\n",
    "# Binarize the output for AUC calculation\n",
    "y_test_bin = label_binarize(y_test, classes=np.arange(len(label_encoder.classes_)))\n",
    "\n",
    "# Compute AUC for each class (if the number of classes is > 2 and probabilities are available)\n",
    "try:\n",
    "    auc_knn_optimized = roc_auc_score(y_test_bin, best_knn_model.predict_proba(X_test_scaled), average=\"macro\", multi_class=\"ovr\")\n",
    "    print(f\"Average AUC: {auc_knn_optimized:.2f}\")\n",
    "except AttributeError:\n",
    "    print(\"AUC cannot be calculated for KNN without probability estimates.\")"
   ]
  },
  {
   "cell_type": "code",
   "execution_count": null,
   "id": "a9c23a45-0d48-4697-85b9-46ec362dbe91",
   "metadata": {},
   "outputs": [],
   "source": []
  },
  {
   "cell_type": "code",
   "execution_count": null,
   "id": "caf30ee1-7d5e-4d96-b906-594082e073b7",
   "metadata": {},
   "outputs": [],
   "source": []
  },
  {
   "cell_type": "code",
   "execution_count": null,
   "id": "3130c4ec-b144-415e-89c6-ad62407f9040",
   "metadata": {},
   "outputs": [],
   "source": []
  }
 ],
 "metadata": {
  "kernelspec": {
   "display_name": "Python 3 (ipykernel)",
   "language": "python",
   "name": "python3"
  },
  "language_info": {
   "codemirror_mode": {
    "name": "ipython",
    "version": 3
   },
   "file_extension": ".py",
   "mimetype": "text/x-python",
   "name": "python",
   "nbconvert_exporter": "python",
   "pygments_lexer": "ipython3",
   "version": "3.11.7"
  }
 },
 "nbformat": 4,
 "nbformat_minor": 5
}
